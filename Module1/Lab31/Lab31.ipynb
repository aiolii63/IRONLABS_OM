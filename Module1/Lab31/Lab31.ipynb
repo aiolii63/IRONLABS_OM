{
 "cells": [
  {
   "cell_type": "code",
   "execution_count": 3,
   "metadata": {},
   "outputs": [
    {
     "data": {
      "text/plain": [
       "15"
      ]
     },
     "execution_count": 3,
     "metadata": {},
     "output_type": "execute_result"
    }
   ],
   "source": [
    "#Lab 31 | Challenge 1\n",
    "\n",
    "def calculator(a, b, sign):\n",
    "    if sign == '+':\n",
    "        return(a+b)\n",
    "    elif sign == '-':\n",
    "        return (a-b)\n",
    "\n",
    "calculator(3,5, '-')\n",
    "calculator(10,5, '+')\n"
   ]
  },
  {
   "cell_type": "code",
   "execution_count": 6,
   "metadata": {},
   "outputs": [
    {
     "name": "stdout",
     "output_type": "stream",
     "text": [
      "['Q9A', 'YIT', 'MU4', 'CHS', '11H', 'X2B']\n"
     ]
    }
   ],
   "source": [
    "#Lab 31 | Challenge 2\n",
    "import string\n",
    "import random\n",
    "def id_generator(a,b):\n",
    "    n = random.randint(a, b)\n",
    "    chars = string.ascii_uppercase + string.digits\n",
    "    return ''.join(random.choice(chars) for _ in range(n))\n",
    "def string_generate(a,b,n):\n",
    "    result=[]\n",
    "    if a > b:\n",
    "        print(\"Incorrect min and max string lengths. Try again.\")\n",
    "    else:\n",
    "        for i in range(n):\n",
    "            result.append(id_generator(a,b))\n",
    "            i = i + 1\n",
    "    return result\n",
    "\n",
    "a = input('Enter minimum string length: ')\n",
    "b = input('Enter maximum string length: ')\n",
    "n = input('How many random strings to generate? ')\n",
    "\n",
    "print(string_generate(int(n), int(a), int(b)))"
   ]
  },
  {
   "cell_type": "code",
   "execution_count": 8,
   "metadata": {},
   "outputs": [
    {
     "name": "stdout",
     "output_type": "stream",
     "text": [
      "The longest side possible is 5\n"
     ]
    }
   ],
   "source": [
    "#Lab 31 | Challenge 3\n",
    "def longest_side(x):\n",
    "    result =[]\n",
    "    for a in range(3,x):\n",
    "        for b in range(4,x):\n",
    "            for c in range(5,x):\n",
    "                    if (a**2 + b**2 == c**2):\n",
    "                        result.append(c)\n",
    "                        continue\n",
    "                    else:\n",
    "                        pass\n",
    "    return result[-1]\n",
    "\n",
    "X = input(\"What is the maximal length of the triangle side? Enter a number: \")\n",
    "\n",
    "print(\"The longest side possible is \" + str(longest_side(int(X))))"
   ]
  }
 ],
 "metadata": {
  "interpreter": {
   "hash": "bc74c9efbb84f280ceaeeceeae8f315ec3f368be1dc370363a62f0ad4f42a571"
  },
  "kernelspec": {
   "display_name": "Python 3.9.10 64-bit (windows store)",
   "language": "python",
   "name": "python3"
  },
  "language_info": {
   "codemirror_mode": {
    "name": "ipython",
    "version": 3
   },
   "file_extension": ".py",
   "mimetype": "text/x-python",
   "name": "python",
   "nbconvert_exporter": "python",
   "pygments_lexer": "ipython3",
   "version": "3.9.12"
  },
  "orig_nbformat": 4
 },
 "nbformat": 4,
 "nbformat_minor": 2
}
