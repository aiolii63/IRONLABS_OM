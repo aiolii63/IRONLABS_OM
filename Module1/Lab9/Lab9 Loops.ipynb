{
 "cells": [
  {
   "cell_type": "markdown",
   "metadata": {},
   "source": [
    "# Loops\n",
    "\n",
    "Complete the following set of exercises to solidify your knowledge for Loops."
   ]
  },
  {
   "cell_type": "markdown",
   "metadata": {},
   "source": [
    "#### 1. Print first 10 natural numbers using while loop"
   ]
  },
  {
   "cell_type": "code",
   "execution_count": 2,
   "metadata": {},
   "outputs": [
    {
     "name": "stdout",
     "output_type": "stream",
     "text": [
      "2\n",
      "4\n",
      "6\n",
      "8\n",
      "10\n",
      "12\n",
      "14\n",
      "16\n",
      "18\n",
      "20\n"
     ]
    }
   ],
   "source": [
    "i=1\n",
    "while i<11:\n",
    "    print(i*2)\n",
    "    i +=1\n",
    "    "
   ]
  },
  {
   "cell_type": "raw",
   "metadata": {},
   "source": [
    "2. Display numbers from a list using loop\n",
    "\n",
    "Write a program to display only those numbers from a list that satisfy the following conditions\n",
    "\n",
    "The number must be divisible by five\n",
    "\n",
    "If the number is greater than 150, then skip it and move to the next number\n",
    "\n",
    "If the number is greater than 500, then stop the loop\n",
    "\n",
    "numbers = [12, 75, 150, 180, 145, 525, 50]"
   ]
  },
  {
   "cell_type": "code",
   "execution_count": 6,
   "metadata": {},
   "outputs": [
    {
     "name": "stdout",
     "output_type": "stream",
     "text": [
      "75\n",
      "150\n",
      "145\n"
     ]
    }
   ],
   "source": [
    "numbers = [12, 75, 150, 180, 145, 525, 50]\n",
    "\n",
    "for i in range(0,7):\n",
    "    if numbers[i]%5 == 0: \n",
    "        if numbers[i]>500: \n",
    "            break\n",
    "        elif numbers[i]>150: \n",
    "            continue\n",
    "        else: print(numbers[i])"
   ]
  },
  {
   "cell_type": "markdown",
   "metadata": {},
   "source": [
    "#### 3.Write a Python program to check the validity of a password (input from users).\n",
    "\n",
    "Validation :\n",
    "\n",
    "At least 1 letter between [a-z] and 1 letter between [A-Z].\n",
    "\n",
    "At least 1 number between [0-9].\n",
    "\n",
    "At least 1 character from [$#@].\n",
    "\n",
    "Minimum length 6 characters.\n",
    "\n",
    "Maximum length 16 characters."
   ]
  },
  {
   "cell_type": "code",
   "execution_count": 9,
   "metadata": {},
   "outputs": [
    {
     "name": "stdout",
     "output_type": "stream",
     "text": [
      "Please input your secure password (6 to 16 characters with at least 1 lowercase letter, 1 uppercase letter, 1 number and 1 special character:oliviermasson\n",
      "Password is not valid\n",
      "-1\n"
     ]
    }
   ],
   "source": [
    "import re\n",
    "\n",
    "pw = input(\"Please input your secure password (6 to 16 characters with at least 1 lowercase letter, 1 uppercase letter, 1 number and 1 special character:\")\n",
    "\n",
    "flag= 0\n",
    "\n",
    "while flag == 0: \n",
    "\n",
    "    if len(pw)<6:\n",
    "        flag= -1\n",
    "        break\n",
    "    elif len(pw)>16:\n",
    "        flag= -1\n",
    "        break\n",
    "    elif not re.search('[$#@]',pw):\n",
    "        flag= -1\n",
    "        break\n",
    "    elif not re.search('[a-z]',pw):\n",
    "        flag= -1\n",
    "        break\n",
    "    elif not re.search('[A-Z]',pw):\n",
    "        flag= -1\n",
    "        break\n",
    "    elif not re.search('[0-9]',pw):\n",
    "        flag= -1\n",
    "        break\n",
    "    else:\n",
    "        print(\"Your password is valid\")\n",
    "        break\n",
    "\n",
    "\n",
    "if flag== -1:\n",
    "     print('Password is not valid')\n",
    "\n",
    "print(flag)"
   ]
  },
  {
   "cell_type": "markdown",
   "metadata": {},
   "source": [
    "4. Break the loop when x is 6, and see what happens with the else block"
   ]
  },
  {
   "cell_type": "code",
   "execution_count": 10,
   "metadata": {},
   "outputs": [
    {
     "name": "stdout",
     "output_type": "stream",
     "text": [
      "1\n",
      "2\n",
      "3\n",
      "4\n",
      "5\n",
      "6\n"
     ]
    }
   ],
   "source": [
    "x=0\n",
    "while x<6:\n",
    "    x +=1\n",
    "    print(x)"
   ]
  },
  {
   "cell_type": "markdown",
   "metadata": {},
   "source": [
    "#### 5. Write a Python program to calculate the sum and average of n integer numbers (input from the user). Input 0 to finish.\n"
   ]
  },
  {
   "cell_type": "code",
   "execution_count": 15,
   "metadata": {},
   "outputs": [
    {
     "name": "stdout",
     "output_type": "stream",
     "text": [
      "How many numbers? : 3\n",
      "input an integer number:3\n",
      "input an integer number:5\n",
      "input an integer number:7\n",
      "Sum=  15\n",
      "Average=  5.0\n"
     ]
    }
   ],
   "source": [
    "n = input(\"How many numbers? : \")\n",
    "ls=[]\n",
    "\n",
    "for i in range(0,int(n)):\n",
    "    i = int(input(\"input an integer number:\"))\n",
    "    ls.append(i)\n",
    "\n",
    "print(\"Sum= \", sum(ls))\n",
    "print(\"Average= \", sum(ls)/len(ls))"
   ]
  },
  {
   "cell_type": "code",
   "execution_count": null,
   "metadata": {},
   "outputs": [],
   "source": []
  }
 ],
 "metadata": {
  "kernelspec": {
   "display_name": "Python 3 (ipykernel)",
   "language": "python",
   "name": "python3"
  },
  "language_info": {
   "codemirror_mode": {
    "name": "ipython",
    "version": 3
   },
   "file_extension": ".py",
   "mimetype": "text/x-python",
   "name": "python",
   "nbconvert_exporter": "python",
   "pygments_lexer": "ipython3",
   "version": "3.9.7"
  }
 },
 "nbformat": 4,
 "nbformat_minor": 2
}
