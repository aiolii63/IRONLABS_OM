{
 "cells": [
  {
   "cell_type": "code",
   "execution_count": null,
   "id": "668581fa",
   "metadata": {},
   "outputs": [],
   "source": [
    "#Exercise 1"
   ]
  },
  {
   "cell_type": "code",
   "execution_count": 4,
   "id": "48fa62cd",
   "metadata": {},
   "outputs": [
    {
     "name": "stdout",
     "output_type": "stream",
     "text": [
      "[2, 2, 4]\n"
     ]
    }
   ],
   "source": [
    "def remover(integer_lst, values_list):\n",
    "    lst=[]\n",
    "    for i in integer_list:\n",
    "            if i not in values_list:\n",
    "                lst.append(i)\n",
    "    return(lst)\n",
    "\n",
    "\n",
    "integer_list =  [1, 1, 2 ,3 ,1 ,2 ,3 ,4]\n",
    "values_list = [1, 3]\n",
    "\n",
    "print(remover(integer_list, values_list))"
   ]
  },
  {
   "cell_type": "code",
   "execution_count": null,
   "id": "63014e40",
   "metadata": {},
   "outputs": [],
   "source": [
    "#Exercise 2"
   ]
  },
  {
   "cell_type": "code",
   "execution_count": 24,
   "id": "369e18ab",
   "metadata": {},
   "outputs": [
    {
     "name": "stdout",
     "output_type": "stream",
     "text": [
      "(1, 3)\n",
      "[(1, 3), (3, 2)]\n"
     ]
    }
   ],
   "source": [
    "def convert(list):\n",
    "    return (*list, )\n",
    "\n",
    "def count_spec_digits(integers_list, digits_list):\n",
    "    l = []\n",
    "    list_tuple = []\n",
    "    for i in digits_list:\n",
    "        list_tuple.append(i)\n",
    "        list_tuple.append(integers_list.count(i))\n",
    "        l.append(convert(list_tuple))\n",
    "        i = i+1\n",
    "        list_tuple = []\n",
    "    return l\n",
    "\n",
    "integersList =  [1, 1, 2 ,3 ,1 ,2 ,3 ,4]\n",
    "digitsList = [1, 3]\n",
    "\n",
    "\n",
    "print(convert(digitsList))\n",
    "print(count_spec_digits(integersList, digitsList))"
   ]
  },
  {
   "cell_type": "code",
   "execution_count": 47,
   "id": "c4f01f43",
   "metadata": {},
   "outputs": [
    {
     "name": "stdout",
     "output_type": "stream",
     "text": [
      "[(1, 7), (8, 5), (4, 0)]\n"
     ]
    }
   ],
   "source": [
    "def count_spec_digits(integers_list, digits_list):\n",
    "    final_list=[]\n",
    "    string_list=[abs(i) for i in integers_list]\n",
    "    string_list2=[str(i) for i in string_list]\n",
    "    string=''\n",
    "    for i in string_list2:\n",
    "        for l in range(len(i)):\n",
    "            string+=i[l]\n",
    "    unit_list=[i for i in string]\n",
    "    for i in digits_list:\n",
    "        t=(i,unit_list.count(str(i)))\n",
    "        final_list.append(t)\n",
    "    return(final_list)\n",
    "\n",
    "integers_list = [-18, -31, 81, -19, 111, -888]\n",
    "digits_list = [1, 8, 4]\n",
    "\n",
    "print(count_spec_digits(integers_list, digits_list))\n"
   ]
  },
  {
   "cell_type": "code",
   "execution_count": 51,
   "id": "9128e360",
   "metadata": {},
   "outputs": [
    {
     "name": "stdout",
     "output_type": "stream",
     "text": [
      "[(1, 0), (8, 0), (4, 1)]\n"
     ]
    }
   ],
   "source": [
    "integersList3 = [-77, -65, 56, -79, 6666, 222]\n",
    "digitsList3 = [1, 8, 4]\n",
    "\n",
    "print(count_spec_digits(integersList3, digitsList3))"
   ]
  },
  {
   "cell_type": "code",
   "execution_count": null,
   "id": "ab43c1ff",
   "metadata": {},
   "outputs": [],
   "source": [
    "#Exercise 3\n",
    "\n",
    "# Count the number of occurrences of each character and return it as a list of tuples in order of appearance. For empty output return an empty list.\n",
    "\n",
    "# orderedCount(\"abracadabra\") == [['a', 5], ['b', 2], ['r', 2], ['c', 1], ['d', 1]]\n"
   ]
  },
  {
   "cell_type": "code",
   "execution_count": 57,
   "id": "462f5930",
   "metadata": {},
   "outputs": [
    {
     "name": "stdout",
     "output_type": "stream",
     "text": [
      "[('a', 5), ('b', 2), ('r', 2), ('c', 1), ('d', 1)]\n"
     ]
    }
   ],
   "source": [
    "word = \"abracadabra\"\n",
    "\n",
    "from collections import Counter\n",
    "\n",
    "def ordered_count(input):\n",
    "    return list(Counter(input).items())\n",
    "\n",
    "print(ordered_count(word))"
   ]
  }
 ],
 "metadata": {
  "kernelspec": {
   "display_name": "Python 3 (ipykernel)",
   "language": "python",
   "name": "python3"
  },
  "language_info": {
   "codemirror_mode": {
    "name": "ipython",
    "version": 3
   },
   "file_extension": ".py",
   "mimetype": "text/x-python",
   "name": "python",
   "nbconvert_exporter": "python",
   "pygments_lexer": "ipython3",
   "version": "3.9.7"
  }
 },
 "nbformat": 4,
 "nbformat_minor": 5
}
