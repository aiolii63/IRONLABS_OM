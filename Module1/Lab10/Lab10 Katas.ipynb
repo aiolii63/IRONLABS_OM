{
 "cells": [
  {
   "cell_type": "code",
   "execution_count": null,
   "id": "c001f0bd",
   "metadata": {},
   "outputs": [],
   "source": [
    "#Counting sheeps"
   ]
  },
  {
   "cell_type": "code",
   "execution_count": 20,
   "id": "d17948c2",
   "metadata": {},
   "outputs": [
    {
     "name": "stdout",
     "output_type": "stream",
     "text": [
      "[True, True, True, False, True, True, True, True, True, False, True, False, True, False, False, True, True, True, True, True, False, False, True, True]\n"
     ]
    }
   ],
   "source": [
    "list1 = [True,  True,  True,  False,\n",
    "  True,  True,  True,  True ,\n",
    "  True,  False, True,  False,\n",
    "  True,  False, False, True ,\n",
    "  True,  True,  True,  True ,\n",
    "  False, False, True,  True]\n",
    "\n",
    "string1 = str(list1)\n",
    "print(string1)"
   ]
  },
  {
   "cell_type": "code",
   "execution_count": 23,
   "id": "fbccd56d",
   "metadata": {},
   "outputs": [
    {
     "name": "stdout",
     "output_type": "stream",
     "text": [
      "['True', 'True', 'True', 'True', 'True', 'True', 'True', 'True', 'True', 'True', 'True', 'True', 'True', 'True', 'True', 'True', 'True']\n"
     ]
    }
   ],
   "source": [
    "import re\n",
    "pattern = 'True'\n",
    "print(re.findall(pattern, string1))"
   ]
  },
  {
   "cell_type": "code",
   "execution_count": 24,
   "id": "8ee1a09b",
   "metadata": {},
   "outputs": [
    {
     "name": "stdout",
     "output_type": "stream",
     "text": [
      "17\n"
     ]
    }
   ],
   "source": [
    "print(string1.count('True'))"
   ]
  },
  {
   "cell_type": "code",
   "execution_count": null,
   "id": "637a4e1b",
   "metadata": {},
   "outputs": [],
   "source": [
    "#Removing elements"
   ]
  },
  {
   "cell_type": "code",
   "execution_count": 40,
   "id": "12035a82",
   "metadata": {},
   "outputs": [
    {
     "name": "stdout",
     "output_type": "stream",
     "text": [
      "['Keep', 'Keep', 'Keep']\n"
     ]
    }
   ],
   "source": [
    "array = ['Keep', 'Remove', 'Keep', 'Remove', 'Keep']\n",
    "my_list2 = []\n",
    "for i in range (0, len(array)):\n",
    "    if i % 2 != 1:\n",
    "        my_list2.append(array[i])\n",
    "print(my_list2)"
   ]
  },
  {
   "cell_type": "code",
   "execution_count": null,
   "id": "8fd47cf4",
   "metadata": {},
   "outputs": [],
   "source": [
    "#Exercise 3"
   ]
  },
  {
   "cell_type": "code",
   "execution_count": 42,
   "id": "97165f11",
   "metadata": {},
   "outputs": [
    {
     "name": "stdout",
     "output_type": "stream",
     "text": [
      "Please input a non-negative number: -35\n",
      "Please input a non-negative number: -42\n",
      "Please input a non-negative number: 42\n",
      "['2', '4']\n"
     ]
    }
   ],
   "source": [
    "flag= False\n",
    "\n",
    "while flag == False:\n",
    "    x = int(input(\"Please input a non-negative number: \"))\n",
    "    if x<0: flag == False\n",
    "    else: flag = True\n",
    " \n",
    "y = str(x)\n",
    "list=[]\n",
    "for i in range(0,len(y)):\n",
    "    list.append(y[i])\n",
    "print(list[::-1])"
   ]
  },
  {
   "cell_type": "code",
   "execution_count": null,
   "id": "206df72c",
   "metadata": {},
   "outputs": [],
   "source": [
    "#Exercise4"
   ]
  },
  {
   "cell_type": "code",
   "execution_count": 43,
   "id": "a2fc6cc4",
   "metadata": {},
   "outputs": [
    {
     "name": "stdout",
     "output_type": "stream",
     "text": [
      "Please input a non-negative number -45\n",
      "Please input a non-negative number -100\n",
      "Please input a non-negative number 56\n",
      "2536\n"
     ]
    }
   ],
   "source": [
    "flag= False\n",
    "\n",
    "\n",
    "while flag == False:\n",
    "    x = int(input(\"Please input a non-negative number \"))\n",
    "    if x<0: flag == False\n",
    "    else: flag = True\n",
    "  \n",
    "y = str(x)\n",
    "list=[]\n",
    "str1 =''\n",
    "for i in range(0,len(y)):\n",
    "    list.append(int(y[i])**2)\n",
    "for i in list:\n",
    "    str1 = str1 + str(i)\n",
    "print(str1)"
   ]
  }
 ],
 "metadata": {
  "kernelspec": {
   "display_name": "Python 3 (ipykernel)",
   "language": "python",
   "name": "python3"
  },
  "language_info": {
   "codemirror_mode": {
    "name": "ipython",
    "version": 3
   },
   "file_extension": ".py",
   "mimetype": "text/x-python",
   "name": "python",
   "nbconvert_exporter": "python",
   "pygments_lexer": "ipython3",
   "version": "3.9.7"
  }
 },
 "nbformat": 4,
 "nbformat_minor": 5
}
