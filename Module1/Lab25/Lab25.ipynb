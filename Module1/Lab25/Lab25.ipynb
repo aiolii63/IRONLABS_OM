{
 "cells": [
  {
   "cell_type": "markdown",
   "id": "631217b9",
   "metadata": {},
   "source": [
    "Before your start:\n",
    "Read the README.md file\n",
    "Use the resources in the README.md file\n",
    "Happy learning!\n",
    "Challenge - Passing a Lambda Expression to a Function\n",
    "In the next excercise you will create a function that returns a lambda expression. Create a function called modify_list. The function takes two arguments, a list and a lambda expression. The function iterates through the list and applies the lambda expression to every element in the list.\n",
    "\n",
    "def modify_list(lst, lmbda):\n",
    "    \"\"\"\n",
    "    Input: list and lambda expression\n",
    "    Output: the transformed list\n",
    "    \"\"\"\n",
    "    \n",
    "    # your code here\n",
    "    "
   ]
  },
  {
   "cell_type": "code",
   "execution_count": 24,
   "id": "cfc346b4",
   "metadata": {},
   "outputs": [
    {
     "data": {
      "text/plain": [
       "[2, 4, 6]"
      ]
     },
     "execution_count": 24,
     "metadata": {},
     "output_type": "execute_result"
    }
   ],
   "source": [
    "def modify_list(lst, lmbda):\n",
    "    return list(map(lmbda, lst))\n",
    "\n",
    "lst1=[1,2,3]\n",
    "a = (lambda x : x+x)\n",
    "\n",
    "modify_list(lst1, a)"
   ]
  },
  {
   "cell_type": "code",
   "execution_count": 25,
   "id": "7eb47780",
   "metadata": {},
   "outputs": [],
   "source": [
    "#Now we will define a lambda expression that will transform the elements of the list.\n",
    "#In the cell below, create a lambda expression that converts Celsius to Kelvin. Recall that 0°C + 273.15 = 273.15K\n",
    "\n",
    "# your code here\n",
    "\n",
    "lmbda = (lambda x: x+273.15)"
   ]
  },
  {
   "cell_type": "code",
   "execution_count": 27,
   "id": "85af6616",
   "metadata": {},
   "outputs": [
    {
     "data": {
      "text/plain": [
       "[285.15, 296.15, 311.15, 218.14999999999998, 297.15]"
      ]
     },
     "execution_count": 27,
     "metadata": {},
     "output_type": "execute_result"
    }
   ],
   "source": [
    "#Finally, convert the list of temperatures below from Celsius to Kelvin.\n",
    "\n",
    "def modify_list(lst, lmbda):\n",
    "    return list(map(lmbda, lst))\n",
    "\n",
    "temps = [12, 23, 38, -55, 24]\n",
    "temps_kels = modify_list(temps, lmbda)\n",
    "temps_kels"
   ]
  },
  {
   "cell_type": "code",
   "execution_count": 12,
   "id": "a4ca9ba7",
   "metadata": {},
   "outputs": [
    {
     "name": "stdout",
     "output_type": "stream",
     "text": [
      "1\n"
     ]
    }
   ],
   "source": [
    "#In this part, we will define a function that returns a lambda expression\n",
    "#In the cell below, write a lambda expression that takes two numbers and returns 1 if one is divisible by the other and zero otherwise. Call the lambda expression mod.\n",
    "\n",
    "# your code here\n",
    "\n",
    "mod = lambda x,y: 0 if x%y==0 else 1\n",
    "\n",
    "print(mod(5,3))"
   ]
  },
  {
   "cell_type": "code",
   "execution_count": 29,
   "id": "24b45bb9",
   "metadata": {},
   "outputs": [
    {
     "name": "stdout",
     "output_type": "stream",
     "text": [
      "please input an integer number to check for divisibility:5\n"
     ]
    },
    {
     "data": {
      "text/plain": [
       "0"
      ]
     },
     "execution_count": 29,
     "metadata": {},
     "output_type": "execute_result"
    }
   ],
   "source": [
    "#Now create a function that returns mod. The function only takes one argument - the first number in the mod lambda function.\n",
    "#Note: the lambda function above took two arguments, the lambda function in the return statement only takes one argument but also uses the argument passed to the function.\n",
    "\n",
    "#    \"\"\"\n",
    "#    Input: a number\n",
    "#    Output: a function that returns 1 if the number is \n",
    "#    divisible by another number (to be passed later) and zero otherwise.\n",
    "#    \"\"\"\n",
    "    \n",
    "    # your code here\n",
    "    \n",
    "def divisor(b):\n",
    "    c = int(input(\"please input an integer number to check for divisibility:\"))\n",
    "    return mod(b,c)\n",
    "\n",
    "divisor(10)\n",
    "       "
   ]
  },
  {
   "cell_type": "code",
   "execution_count": 34,
   "id": "41b39c1f",
   "metadata": {},
   "outputs": [
    {
     "name": "stdout",
     "output_type": "stream",
     "text": [
      "please input an integer number to check for divisibility:8\n",
      "1\n"
     ]
    }
   ],
   "source": [
    "#Finally, pass the number 5 to divisor. Now the function will check whether a number is divisble by 5. Assign this function to divisible5\n",
    "\n",
    "# your code here\n",
    "\n",
    "divisible5 = divisor(5)\n",
    "\n",
    "print(divisible5)"
   ]
  },
  {
   "cell_type": "code",
   "execution_count": null,
   "id": "987bac95",
   "metadata": {},
   "outputs": [],
   "source": [
    "#Bonus Challenge - Using Lambda Expressions in List Comprehensions\n",
    "#In the following challenge, we will combine two lists using a lambda expression in a list comprehension.\n",
    "\n",
    "#To do this, we will need to introduce the zip function. The zip function returns an iterator of tuples.\n",
    "\n",
    "# Here is an example of passing one list to the zip function. \n",
    "# Since the zip function returns an iterator, we need to evaluate the iterator by using a list comprehension.\n",
    "\n",
    "\n",
    "#Using the zip function, let's iterate through two lists and add the elements by position.\n",
    "\n"
   ]
  },
  {
   "cell_type": "code",
   "execution_count": 35,
   "id": "9126bc7d",
   "metadata": {},
   "outputs": [
    {
     "name": "stdout",
     "output_type": "stream",
     "text": [
      "{'Green': 'eggs', 'cheese': 'cheese', 'English': 'cucumber', 'tomato': 'tomato'}\n"
     ]
    }
   ],
   "source": [
    "# your code here\n",
    "l = [1,2,3,4,5]\n",
    "[x for x in zip(l)]\n",
    "[(1,), (2,), (3,), (4,), (5,)]\n",
    "\n",
    "list1 = ['Green', 'cheese', 'English', 'tomato']\n",
    "list2 = ['eggs', 'cheese', 'cucumber', 'tomato']\n",
    "\n",
    "mapped = zip(list1, list2)\n",
    "\n",
    "print(dict(mapped))"
   ]
  },
  {
   "cell_type": "code",
   "execution_count": null,
   "id": "6208581f",
   "metadata": {},
   "outputs": [],
   "source": []
  },
  {
   "cell_type": "code",
   "execution_count": null,
   "id": "a9bd6951",
   "metadata": {},
   "outputs": [],
   "source": []
  },
  {
   "cell_type": "code",
   "execution_count": 36,
   "id": "b249b4f0",
   "metadata": {},
   "outputs": [
    {
     "name": "stdout",
     "output_type": "stream",
     "text": [
      "{'Engineering': 'Lab', 'Computer Science': 'Homework', 'Political Science': 'Essay', 'Mathematics': 'Module'}\n"
     ]
    }
   ],
   "source": [
    "#Bonus Challenge - Using Lambda Expressions as Arguments\n",
    "#In this challenge, we will zip together two lists and sort by the resulting tuple.\n",
    "#In the cell below, take the two lists provided, zip them together and sort by the first letter of the second element of each tuple. Do this using a lambda function.\n",
    "\n",
    "list1 = ['Engineering', 'Computer Science', 'Political Science', 'Mathematics']\n",
    "list2 = ['Lab', 'Homework', 'Essay', 'Module']\n",
    "\n",
    "# your code here\n",
    "\n",
    "mapped = zip(list1, list2)\n",
    "print(dict(mapped))\n"
   ]
  },
  {
   "cell_type": "code",
   "execution_count": 42,
   "id": "ca619f10",
   "metadata": {},
   "outputs": [
    {
     "data": {
      "text/plain": [
       "{'Toyota': 1995, 'Honda': 1997, 'Audi': 2001, 'BMW': 2005}"
      ]
     },
     "execution_count": 42,
     "metadata": {},
     "output_type": "execute_result"
    }
   ],
   "source": [
    "#Bonus Challenge - Sort a Dictionary by Values\n",
    "#Given the dictionary below, sort it by values rather than by keys. Use a lambda function to specify the values as a sorting key.\n",
    "\n",
    "d = {'Honda': 1997, 'Toyota': 1995, 'Audi': 2001, 'BMW': 2005}\n",
    "\n",
    "# your code here\n",
    "\n",
    "dict(sorted(d.items(), key=lambda item: item[1]))"
   ]
  },
  {
   "cell_type": "code",
   "execution_count": null,
   "id": "a9e05768",
   "metadata": {},
   "outputs": [],
   "source": []
  },
  {
   "cell_type": "code",
   "execution_count": null,
   "id": "f541bd33",
   "metadata": {},
   "outputs": [],
   "source": []
  }
 ],
 "metadata": {
  "kernelspec": {
   "display_name": "Python 3 (ipykernel)",
   "language": "python",
   "name": "python3"
  },
  "language_info": {
   "codemirror_mode": {
    "name": "ipython",
    "version": 3
   },
   "file_extension": ".py",
   "mimetype": "text/x-python",
   "name": "python",
   "nbconvert_exporter": "python",
   "pygments_lexer": "ipython3",
   "version": "3.9.7"
  }
 },
 "nbformat": 4,
 "nbformat_minor": 5
}
