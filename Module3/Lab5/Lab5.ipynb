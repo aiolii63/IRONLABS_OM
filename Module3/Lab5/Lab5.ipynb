{
  "cells": [
    {
      "cell_type": "markdown",
      "metadata": {
        "id": "2ZTc5VXDfhbh"
      },
      "source": [
        "# Before your start:\n",
        "- Read the README.md file\n",
        "- Comment as much as you can and use the resources in the README.md file\n",
        "- Happy learning!"
      ]
    },
    {
      "cell_type": "code",
      "execution_count": 108,
      "metadata": {
        "id": "i5noFtjbfhbs"
      },
      "outputs": [],
      "source": [
        "#Import your libraries\n",
        "\n",
        "import numpy as np\n",
        "import pandas as pd"
      ]
    },
    {
      "cell_type": "markdown",
      "metadata": {
        "id": "14Y2pxPxfhbv"
      },
      "source": [
        "# Introduction\n",
        "\n",
        "In this lab, we will use two datasets. Both datasets contain variables that describe apps from the Google Play Store. We will use our knowledge in feature extraction to process these datasets and prepare them for the use of a ML algorithm."
      ]
    },
    {
      "cell_type": "markdown",
      "metadata": {
        "id": "hwvi18ARfhbx"
      },
      "source": [
        "# Challenge 1 - Loading and Extracting Features from the First Dataset"
      ]
    },
    {
      "cell_type": "markdown",
      "metadata": {
        "id": "xDmBR6W3fhby"
      },
      "source": [
        "#### In this challenge, our goals are: \n",
        "\n",
        "* Exploring the dataset.\n",
        "* Identify the columns with missing values.\n",
        "* Either replacing the missing values in each column or drop the columns.\n",
        "* Conver each column to the appropriate type."
      ]
    },
    {
      "cell_type": "markdown",
      "metadata": {
        "id": "3C6aY7wzfhbz"
      },
      "source": [
        "#### The first dataset contains different information describing the apps. \n",
        "\n",
        "Load the dataset into the variable `google_play` in the cell below. The dataset is in the file `googleplaystore.csv`"
      ]
    },
    {
      "cell_type": "code",
      "execution_count": 109,
      "metadata": {
        "id": "mdOKsqcwfhb0"
      },
      "outputs": [],
      "source": [
        "# Your code here:\n",
        "\n",
        "google_play = pd.read_csv('C:/Users/olivi/Documents/Ironhack/DAFT_212/module_3/Lab_5_Feature-Extraction/data/googleplaystore.csv')"
      ]
    },
    {
      "cell_type": "markdown",
      "metadata": {
        "id": "Gmuu6N0Vfhb2"
      },
      "source": [
        "#### Examine all variables and their types in the following cell"
      ]
    },
    {
      "cell_type": "code",
      "execution_count": 110,
      "metadata": {
        "id": "2BsicbPUfhb3"
      },
      "outputs": [
        {
          "name": "stdout",
          "output_type": "stream",
          "text": [
            "<class 'pandas.core.frame.DataFrame'>\n",
            "RangeIndex: 10841 entries, 0 to 10840\n",
            "Data columns (total 13 columns):\n",
            " #   Column          Non-Null Count  Dtype  \n",
            "---  ------          --------------  -----  \n",
            " 0   App             10841 non-null  object \n",
            " 1   Category        10841 non-null  object \n",
            " 2   Rating          9367 non-null   float64\n",
            " 3   Reviews         10841 non-null  object \n",
            " 4   Size            10841 non-null  object \n",
            " 5   Installs        10841 non-null  object \n",
            " 6   Type            10840 non-null  object \n",
            " 7   Price           10841 non-null  object \n",
            " 8   Content Rating  10840 non-null  object \n",
            " 9   Genres          10841 non-null  object \n",
            " 10  Last Updated    10841 non-null  object \n",
            " 11  Current Ver     10833 non-null  object \n",
            " 12  Android Ver     10838 non-null  object \n",
            "dtypes: float64(1), object(12)\n",
            "memory usage: 1.1+ MB\n"
          ]
        }
      ],
      "source": [
        "# Your code here:\n",
        "\n",
        "google_play.info()"
      ]
    },
    {
      "cell_type": "markdown",
      "metadata": {
        "id": "t6pMZohgfhb5"
      },
      "source": [
        "#### Since this dataset only contains one numeric column, let's skip the `describe()` function and look at the first 5 rows using the `head()` function"
      ]
    },
    {
      "cell_type": "code",
      "execution_count": 111,
      "metadata": {
        "id": "bwaLYF25fhb6"
      },
      "outputs": [
        {
          "data": {
            "text/html": [
              "<div><div id=f3bf88b1-7578-4e2f-bea5-c1e01900d0b8 style=\"display:none; background-color:#9D6CFF; color:white; width:200px; height:30px; padding-left:5px; border-radius:4px; flex-direction:row; justify-content:space-around; align-items:center;\" onmouseover=\"this.style.backgroundColor='#BA9BF8'\" onmouseout=\"this.style.backgroundColor='#9D6CFF'\" onclick=\"window.commands?.execute('create-mitosheet-from-dataframe-output');\">See Full Dataframe in Mito</div> <script> if (window.commands.hasCommand('create-mitosheet-from-dataframe-output')) document.getElementById('f3bf88b1-7578-4e2f-bea5-c1e01900d0b8').style.display = 'flex' </script> <table border=\"1\" class=\"dataframe\">\n",
              "  <thead>\n",
              "    <tr style=\"text-align: right;\">\n",
              "      <th></th>\n",
              "      <th>App</th>\n",
              "      <th>Category</th>\n",
              "      <th>Rating</th>\n",
              "      <th>Reviews</th>\n",
              "      <th>Size</th>\n",
              "      <th>Installs</th>\n",
              "      <th>Type</th>\n",
              "      <th>Price</th>\n",
              "      <th>Content Rating</th>\n",
              "      <th>Genres</th>\n",
              "      <th>Last Updated</th>\n",
              "      <th>Current Ver</th>\n",
              "      <th>Android Ver</th>\n",
              "    </tr>\n",
              "  </thead>\n",
              "  <tbody>\n",
              "    <tr>\n",
              "      <th>0</th>\n",
              "      <td>Photo Editor &amp; Candy Camera &amp; Grid &amp; ScrapBook</td>\n",
              "      <td>ART_AND_DESIGN</td>\n",
              "      <td>4.1</td>\n",
              "      <td>159</td>\n",
              "      <td>19M</td>\n",
              "      <td>10,000+</td>\n",
              "      <td>Free</td>\n",
              "      <td>0</td>\n",
              "      <td>Everyone</td>\n",
              "      <td>Art &amp; Design</td>\n",
              "      <td>January 7, 2018</td>\n",
              "      <td>1.0.0</td>\n",
              "      <td>4.0.3 and up</td>\n",
              "    </tr>\n",
              "    <tr>\n",
              "      <th>1</th>\n",
              "      <td>Coloring book moana</td>\n",
              "      <td>ART_AND_DESIGN</td>\n",
              "      <td>3.9</td>\n",
              "      <td>967</td>\n",
              "      <td>14M</td>\n",
              "      <td>500,000+</td>\n",
              "      <td>Free</td>\n",
              "      <td>0</td>\n",
              "      <td>Everyone</td>\n",
              "      <td>Art &amp; Design;Pretend Play</td>\n",
              "      <td>January 15, 2018</td>\n",
              "      <td>2.0.0</td>\n",
              "      <td>4.0.3 and up</td>\n",
              "    </tr>\n",
              "    <tr>\n",
              "      <th>2</th>\n",
              "      <td>U Launcher Lite – FREE Live Cool Themes, Hide Apps</td>\n",
              "      <td>ART_AND_DESIGN</td>\n",
              "      <td>4.7</td>\n",
              "      <td>87510</td>\n",
              "      <td>8.7M</td>\n",
              "      <td>5,000,000+</td>\n",
              "      <td>Free</td>\n",
              "      <td>0</td>\n",
              "      <td>Everyone</td>\n",
              "      <td>Art &amp; Design</td>\n",
              "      <td>August 1, 2018</td>\n",
              "      <td>1.2.4</td>\n",
              "      <td>4.0.3 and up</td>\n",
              "    </tr>\n",
              "    <tr>\n",
              "      <th>3</th>\n",
              "      <td>Sketch - Draw &amp; Paint</td>\n",
              "      <td>ART_AND_DESIGN</td>\n",
              "      <td>4.5</td>\n",
              "      <td>215644</td>\n",
              "      <td>25M</td>\n",
              "      <td>50,000,000+</td>\n",
              "      <td>Free</td>\n",
              "      <td>0</td>\n",
              "      <td>Teen</td>\n",
              "      <td>Art &amp; Design</td>\n",
              "      <td>June 8, 2018</td>\n",
              "      <td>Varies with device</td>\n",
              "      <td>4.2 and up</td>\n",
              "    </tr>\n",
              "    <tr>\n",
              "      <th>4</th>\n",
              "      <td>Pixel Draw - Number Art Coloring Book</td>\n",
              "      <td>ART_AND_DESIGN</td>\n",
              "      <td>4.3</td>\n",
              "      <td>967</td>\n",
              "      <td>2.8M</td>\n",
              "      <td>100,000+</td>\n",
              "      <td>Free</td>\n",
              "      <td>0</td>\n",
              "      <td>Everyone</td>\n",
              "      <td>Art &amp; Design;Creativity</td>\n",
              "      <td>June 20, 2018</td>\n",
              "      <td>1.1</td>\n",
              "      <td>4.4 and up</td>\n",
              "    </tr>\n",
              "  </tbody>\n",
              "</table></div>"
            ],
            "text/plain": [
              "                                                 App        Category  Rating  \\\n",
              "0     Photo Editor & Candy Camera & Grid & ScrapBook  ART_AND_DESIGN     4.1   \n",
              "1                                Coloring book moana  ART_AND_DESIGN     3.9   \n",
              "2  U Launcher Lite – FREE Live Cool Themes, Hide ...  ART_AND_DESIGN     4.7   \n",
              "3                              Sketch - Draw & Paint  ART_AND_DESIGN     4.5   \n",
              "4              Pixel Draw - Number Art Coloring Book  ART_AND_DESIGN     4.3   \n",
              "\n",
              "  Reviews  Size     Installs  Type Price Content Rating  \\\n",
              "0     159   19M      10,000+  Free     0       Everyone   \n",
              "1     967   14M     500,000+  Free     0       Everyone   \n",
              "2   87510  8.7M   5,000,000+  Free     0       Everyone   \n",
              "3  215644   25M  50,000,000+  Free     0           Teen   \n",
              "4     967  2.8M     100,000+  Free     0       Everyone   \n",
              "\n",
              "                      Genres      Last Updated         Current Ver  \\\n",
              "0               Art & Design   January 7, 2018               1.0.0   \n",
              "1  Art & Design;Pretend Play  January 15, 2018               2.0.0   \n",
              "2               Art & Design    August 1, 2018               1.2.4   \n",
              "3               Art & Design      June 8, 2018  Varies with device   \n",
              "4    Art & Design;Creativity     June 20, 2018                 1.1   \n",
              "\n",
              "    Android Ver  \n",
              "0  4.0.3 and up  \n",
              "1  4.0.3 and up  \n",
              "2  4.0.3 and up  \n",
              "3    4.2 and up  \n",
              "4    4.4 and up  "
            ]
          },
          "execution_count": 111,
          "metadata": {},
          "output_type": "execute_result"
        }
      ],
      "source": [
        "# Your code here:\n",
        "\n",
        "google_play.head()"
      ]
    },
    {
      "cell_type": "code",
      "execution_count": null,
      "metadata": {},
      "outputs": [],
      "source": []
    },
    {
      "cell_type": "markdown",
      "metadata": {
        "id": "cCzO2eA-fhb7"
      },
      "source": [
        "#### We can see that there are a few columns that could be coerced to numeric.\n",
        "\n",
        "Start with the reviews column. We can evaluate what value is causing this column to be of object type finding the non-numeric values in this column. To do this, we recall the `to_numeric()` function. With this function, we are able to coerce all non-numeric data to null. We can then use the `isnull()` function to subset our dataframe using the True/False column that this function generates.\n",
        "\n",
        "In the cell below, transform the Reviews column to numeric and assign this new column to the variable `Reviews_numeric`. Make sure to coerce the errors."
      ]
    },
    {
      "cell_type": "code",
      "execution_count": 112,
      "metadata": {},
      "outputs": [
        {
          "data": {
            "text/html": [
              "<div><div id=a336a018-1bd7-4e36-a510-e3895967be86 style=\"display:none; background-color:#9D6CFF; color:white; width:200px; height:30px; padding-left:5px; border-radius:4px; flex-direction:row; justify-content:space-around; align-items:center;\" onmouseover=\"this.style.backgroundColor='#BA9BF8'\" onmouseout=\"this.style.backgroundColor='#9D6CFF'\" onclick=\"window.commands?.execute('create-mitosheet-from-dataframe-output');\">See Full Dataframe in Mito</div> <script> if (window.commands.hasCommand('create-mitosheet-from-dataframe-output')) document.getElementById('a336a018-1bd7-4e36-a510-e3895967be86').style.display = 'flex' </script> <table border=\"1\" class=\"dataframe\">\n",
              "  <thead>\n",
              "    <tr style=\"text-align: right;\">\n",
              "      <th></th>\n",
              "      <th>App</th>\n",
              "      <th>Category</th>\n",
              "      <th>Rating</th>\n",
              "      <th>Reviews</th>\n",
              "      <th>Size</th>\n",
              "      <th>Installs</th>\n",
              "      <th>Type</th>\n",
              "      <th>Price</th>\n",
              "      <th>Content Rating</th>\n",
              "      <th>Genres</th>\n",
              "      <th>Last Updated</th>\n",
              "      <th>Current Ver</th>\n",
              "      <th>Android Ver</th>\n",
              "    </tr>\n",
              "  </thead>\n",
              "  <tbody>\n",
              "    <tr>\n",
              "      <th>10472</th>\n",
              "      <td>Life Made WI-Fi Touchscreen Photo Frame</td>\n",
              "      <td>1.9</td>\n",
              "      <td>19.0</td>\n",
              "      <td>3.0M</td>\n",
              "      <td>1,000+</td>\n",
              "      <td>Free</td>\n",
              "      <td>0</td>\n",
              "      <td>Everyone</td>\n",
              "      <td>NaN</td>\n",
              "      <td>February 11, 2018</td>\n",
              "      <td>1.0.19</td>\n",
              "      <td>4.0 and up</td>\n",
              "      <td>NaN</td>\n",
              "    </tr>\n",
              "  </tbody>\n",
              "</table></div>"
            ],
            "text/plain": [
              "                                           App Category  Rating Reviews  \\\n",
              "10472  Life Made WI-Fi Touchscreen Photo Frame      1.9    19.0    3.0M   \n",
              "\n",
              "         Size Installs Type     Price Content Rating             Genres  \\\n",
              "10472  1,000+     Free    0  Everyone            NaN  February 11, 2018   \n",
              "\n",
              "      Last Updated Current Ver Android Ver  \n",
              "10472       1.0.19  4.0 and up         NaN  "
            ]
          },
          "execution_count": 112,
          "metadata": {},
          "output_type": "execute_result"
        }
      ],
      "source": [
        "\n",
        "google_play[google_play['Reviews'].str.contains('M')]"
      ]
    },
    {
      "cell_type": "code",
      "execution_count": 113,
      "metadata": {},
      "outputs": [
        {
          "data": {
            "text/plain": [
              "App               Life Made WI-Fi Touchscreen Photo Frame\n",
              "Category                                              1.9\n",
              "Rating                                               19.0\n",
              "Reviews                                              3.0M\n",
              "Size                                               1,000+\n",
              "Installs                                             Free\n",
              "Type                                                    0\n",
              "Price                                            Everyone\n",
              "Content Rating                                        NaN\n",
              "Genres                                  February 11, 2018\n",
              "Last Updated                                       1.0.19\n",
              "Current Ver                                    4.0 and up\n",
              "Android Ver                                           NaN\n",
              "Name: 10472, dtype: object"
            ]
          },
          "execution_count": 113,
          "metadata": {},
          "output_type": "execute_result"
        }
      ],
      "source": [
        "google_play.iloc[10472, :]"
      ]
    },
    {
      "cell_type": "code",
      "execution_count": 114,
      "metadata": {},
      "outputs": [],
      "source": [
        "google_play['Reviews_numeric'] = pd.to_numeric(google_play['Reviews'], errors=\"coerce\")"
      ]
    },
    {
      "cell_type": "markdown",
      "metadata": {
        "id": "j1W0fmqmfhb9"
      },
      "source": [
        "Next, create a column containing True/False values using the `isnull()` function. Assign this column to the `Reviews_isnull` variable."
      ]
    },
    {
      "cell_type": "code",
      "execution_count": 115,
      "metadata": {
        "id": "LGX4U6Pyfhb-"
      },
      "outputs": [
        {
          "data": {
            "text/html": [
              "<div><div id=66e48b13-585e-4518-89d4-c0ef81850855 style=\"display:none; background-color:#9D6CFF; color:white; width:200px; height:30px; padding-left:5px; border-radius:4px; flex-direction:row; justify-content:space-around; align-items:center;\" onmouseover=\"this.style.backgroundColor='#BA9BF8'\" onmouseout=\"this.style.backgroundColor='#9D6CFF'\" onclick=\"window.commands?.execute('create-mitosheet-from-dataframe-output');\">See Full Dataframe in Mito</div> <script> if (window.commands.hasCommand('create-mitosheet-from-dataframe-output')) document.getElementById('66e48b13-585e-4518-89d4-c0ef81850855').style.display = 'flex' </script> <table border=\"1\" class=\"dataframe\">\n",
              "  <thead>\n",
              "    <tr style=\"text-align: right;\">\n",
              "      <th></th>\n",
              "      <th>App</th>\n",
              "      <th>Category</th>\n",
              "      <th>Rating</th>\n",
              "      <th>Reviews</th>\n",
              "      <th>Size</th>\n",
              "      <th>Installs</th>\n",
              "      <th>Type</th>\n",
              "      <th>Price</th>\n",
              "      <th>Content Rating</th>\n",
              "      <th>Genres</th>\n",
              "      <th>Last Updated</th>\n",
              "      <th>Current Ver</th>\n",
              "      <th>Android Ver</th>\n",
              "      <th>Reviews_numeric</th>\n",
              "      <th>Reviews_isnull</th>\n",
              "    </tr>\n",
              "  </thead>\n",
              "  <tbody>\n",
              "    <tr>\n",
              "      <th>0</th>\n",
              "      <td>Photo Editor &amp; Candy Camera &amp; Grid &amp; ScrapBook</td>\n",
              "      <td>ART_AND_DESIGN</td>\n",
              "      <td>4.1</td>\n",
              "      <td>159</td>\n",
              "      <td>19M</td>\n",
              "      <td>10,000+</td>\n",
              "      <td>Free</td>\n",
              "      <td>0</td>\n",
              "      <td>Everyone</td>\n",
              "      <td>Art &amp; Design</td>\n",
              "      <td>January 7, 2018</td>\n",
              "      <td>1.0.0</td>\n",
              "      <td>4.0.3 and up</td>\n",
              "      <td>159.0</td>\n",
              "      <td>False</td>\n",
              "    </tr>\n",
              "    <tr>\n",
              "      <th>1</th>\n",
              "      <td>Coloring book moana</td>\n",
              "      <td>ART_AND_DESIGN</td>\n",
              "      <td>3.9</td>\n",
              "      <td>967</td>\n",
              "      <td>14M</td>\n",
              "      <td>500,000+</td>\n",
              "      <td>Free</td>\n",
              "      <td>0</td>\n",
              "      <td>Everyone</td>\n",
              "      <td>Art &amp; Design;Pretend Play</td>\n",
              "      <td>January 15, 2018</td>\n",
              "      <td>2.0.0</td>\n",
              "      <td>4.0.3 and up</td>\n",
              "      <td>967.0</td>\n",
              "      <td>False</td>\n",
              "    </tr>\n",
              "    <tr>\n",
              "      <th>2</th>\n",
              "      <td>U Launcher Lite – FREE Live Cool Themes, Hide Apps</td>\n",
              "      <td>ART_AND_DESIGN</td>\n",
              "      <td>4.7</td>\n",
              "      <td>87510</td>\n",
              "      <td>8.7M</td>\n",
              "      <td>5,000,000+</td>\n",
              "      <td>Free</td>\n",
              "      <td>0</td>\n",
              "      <td>Everyone</td>\n",
              "      <td>Art &amp; Design</td>\n",
              "      <td>August 1, 2018</td>\n",
              "      <td>1.2.4</td>\n",
              "      <td>4.0.3 and up</td>\n",
              "      <td>87510.0</td>\n",
              "      <td>False</td>\n",
              "    </tr>\n",
              "    <tr>\n",
              "      <th>3</th>\n",
              "      <td>Sketch - Draw &amp; Paint</td>\n",
              "      <td>ART_AND_DESIGN</td>\n",
              "      <td>4.5</td>\n",
              "      <td>215644</td>\n",
              "      <td>25M</td>\n",
              "      <td>50,000,000+</td>\n",
              "      <td>Free</td>\n",
              "      <td>0</td>\n",
              "      <td>Teen</td>\n",
              "      <td>Art &amp; Design</td>\n",
              "      <td>June 8, 2018</td>\n",
              "      <td>Varies with device</td>\n",
              "      <td>4.2 and up</td>\n",
              "      <td>215644.0</td>\n",
              "      <td>False</td>\n",
              "    </tr>\n",
              "    <tr>\n",
              "      <th>4</th>\n",
              "      <td>Pixel Draw - Number Art Coloring Book</td>\n",
              "      <td>ART_AND_DESIGN</td>\n",
              "      <td>4.3</td>\n",
              "      <td>967</td>\n",
              "      <td>2.8M</td>\n",
              "      <td>100,000+</td>\n",
              "      <td>Free</td>\n",
              "      <td>0</td>\n",
              "      <td>Everyone</td>\n",
              "      <td>Art &amp; Design;Creativity</td>\n",
              "      <td>June 20, 2018</td>\n",
              "      <td>1.1</td>\n",
              "      <td>4.4 and up</td>\n",
              "      <td>967.0</td>\n",
              "      <td>False</td>\n",
              "    </tr>\n",
              "  </tbody>\n",
              "</table></div>"
            ],
            "text/plain": [
              "                                                 App        Category  Rating  \\\n",
              "0     Photo Editor & Candy Camera & Grid & ScrapBook  ART_AND_DESIGN     4.1   \n",
              "1                                Coloring book moana  ART_AND_DESIGN     3.9   \n",
              "2  U Launcher Lite – FREE Live Cool Themes, Hide ...  ART_AND_DESIGN     4.7   \n",
              "3                              Sketch - Draw & Paint  ART_AND_DESIGN     4.5   \n",
              "4              Pixel Draw - Number Art Coloring Book  ART_AND_DESIGN     4.3   \n",
              "\n",
              "  Reviews  Size     Installs  Type Price Content Rating  \\\n",
              "0     159   19M      10,000+  Free     0       Everyone   \n",
              "1     967   14M     500,000+  Free     0       Everyone   \n",
              "2   87510  8.7M   5,000,000+  Free     0       Everyone   \n",
              "3  215644   25M  50,000,000+  Free     0           Teen   \n",
              "4     967  2.8M     100,000+  Free     0       Everyone   \n",
              "\n",
              "                      Genres      Last Updated         Current Ver  \\\n",
              "0               Art & Design   January 7, 2018               1.0.0   \n",
              "1  Art & Design;Pretend Play  January 15, 2018               2.0.0   \n",
              "2               Art & Design    August 1, 2018               1.2.4   \n",
              "3               Art & Design      June 8, 2018  Varies with device   \n",
              "4    Art & Design;Creativity     June 20, 2018                 1.1   \n",
              "\n",
              "    Android Ver  Reviews_numeric  Reviews_isnull  \n",
              "0  4.0.3 and up            159.0           False  \n",
              "1  4.0.3 and up            967.0           False  \n",
              "2  4.0.3 and up          87510.0           False  \n",
              "3    4.2 and up         215644.0           False  \n",
              "4    4.4 and up            967.0           False  "
            ]
          },
          "execution_count": 115,
          "metadata": {},
          "output_type": "execute_result"
        }
      ],
      "source": [
        "# Your code here:\n",
        "google_play['Reviews_isnull'] = google_play['Reviews_numeric'].isnull()\n",
        "google_play.head()"
      ]
    },
    {
      "cell_type": "code",
      "execution_count": 116,
      "metadata": {},
      "outputs": [
        {
          "data": {
            "text/plain": [
              "False    10840\n",
              "True         1\n",
              "Name: Reviews_isnull, dtype: int64"
            ]
          },
          "execution_count": 116,
          "metadata": {},
          "output_type": "execute_result"
        }
      ],
      "source": [
        "google_play['Reviews_isnull'].value_counts()"
      ]
    },
    {
      "cell_type": "code",
      "execution_count": 117,
      "metadata": {},
      "outputs": [
        {
          "name": "stdout",
          "output_type": "stream",
          "text": [
            "<class 'pandas.core.frame.DataFrame'>\n",
            "RangeIndex: 10841 entries, 0 to 10840\n",
            "Data columns (total 15 columns):\n",
            " #   Column           Non-Null Count  Dtype  \n",
            "---  ------           --------------  -----  \n",
            " 0   App              10841 non-null  object \n",
            " 1   Category         10841 non-null  object \n",
            " 2   Rating           9367 non-null   float64\n",
            " 3   Reviews          10841 non-null  object \n",
            " 4   Size             10841 non-null  object \n",
            " 5   Installs         10841 non-null  object \n",
            " 6   Type             10840 non-null  object \n",
            " 7   Price            10841 non-null  object \n",
            " 8   Content Rating   10840 non-null  object \n",
            " 9   Genres           10841 non-null  object \n",
            " 10  Last Updated     10841 non-null  object \n",
            " 11  Current Ver      10833 non-null  object \n",
            " 12  Android Ver      10838 non-null  object \n",
            " 13  Reviews_numeric  10840 non-null  float64\n",
            " 14  Reviews_isnull   10841 non-null  bool   \n",
            "dtypes: bool(1), float64(2), object(12)\n",
            "memory usage: 1.2+ MB\n"
          ]
        }
      ],
      "source": [
        "google_play.info()"
      ]
    },
    {
      "cell_type": "markdown",
      "metadata": {
        "id": "jHDPCdHVfhb-"
      },
      "source": [
        "Finally, subset the `google_play` with `Reviews_isnull`. This should give you all the rows that contain non-numeric characters.\n",
        "\n",
        "Your output should look like:\n",
        "\n",
        "![Reviews_bool.png](reviews-bool.png)"
      ]
    },
    {
      "cell_type": "markdown",
      "metadata": {
        "id": "gDkJXhN9fhcA"
      },
      "source": [
        "#### We see that Google Play is using a shorthand for millions. \n",
        "\n",
        "Let's write a function to transform this data.\n",
        "\n",
        "Steps:\n",
        "\n",
        "1. Create a function that returns the correct numeric values of *Reviews*.\n",
        "1. Define a test string with `M` in the last character.\n",
        "1. Test your function with the test string. Make sure your function works correctly. If not, modify your functions and test again."
      ]
    },
    {
      "cell_type": "code",
      "execution_count": 118,
      "metadata": {},
      "outputs": [],
      "source": [
        "import re\n",
        "import pandas as pd"
      ]
    },
    {
      "cell_type": "code",
      "execution_count": 119,
      "metadata": {
        "id": "3DLRLUkYfhcA"
      },
      "outputs": [
        {
          "data": {
            "text/plain": [
              "True"
            ]
          },
          "execution_count": 119,
          "metadata": {},
          "output_type": "execute_result"
        }
      ],
      "source": [
        "# Your code here\n",
        "\n",
        "def convert_string_to_numeric(s):\n",
        "    \"\"\"\n",
        "    Convert a string value to numeric. If the last character of the string is `M`, obtain the \n",
        "    numeric part of the string, multiply it with 1,000,000, then return the result. Otherwise, \n",
        "    convert the string to numeric value and return the result.\n",
        "    \n",
        "    Args:\n",
        "        s: The Reviews score in string format.\n",
        "\n",
        "    Returns:\n",
        "        The correct numeric value of the Reviews score.\n",
        "    \"\"\"\n",
        "    \n",
        "    if s.endswith(\"M\"):\n",
        "        s = s.replace(\"M\", \"\")\n",
        "        s = pd.to_numeric(s) * 1000000\n",
        "        return s \n",
        "    else : \n",
        "        s = pd.to_numeric(s)\n",
        "        return s\n",
        "    \n",
        "test_string = '4.0M'\n",
        "\n",
        "convert_string_to_numeric(test_string) == 4000000"
      ]
    },
    {
      "cell_type": "code",
      "execution_count": 120,
      "metadata": {},
      "outputs": [
        {
          "name": "stdout",
          "output_type": "stream",
          "text": [
            "<class 'pandas.core.series.Series'>\n",
            "RangeIndex: 10841 entries, 0 to 10840\n",
            "Series name: Reviews\n",
            "Non-Null Count  Dtype \n",
            "--------------  ----- \n",
            "10841 non-null  object\n",
            "dtypes: object(1)\n",
            "memory usage: 84.8+ KB\n"
          ]
        }
      ],
      "source": [
        "google_play['Reviews'].info()"
      ]
    },
    {
      "cell_type": "markdown",
      "metadata": {
        "id": "V5mvhSpafhcC"
      },
      "source": [
        "The last step is to apply the function to the `Reviews` column in the following cell:"
      ]
    },
    {
      "cell_type": "code",
      "execution_count": 121,
      "metadata": {},
      "outputs": [],
      "source": [
        "google_play['Reviews']=google_play['Reviews'].apply(lambda x: convert_string_to_numeric(x))"
      ]
    },
    {
      "cell_type": "markdown",
      "metadata": {
        "id": "jL-H212YfhcD"
      },
      "source": [
        "Check the non-numeric `Reviews` row again. It should have been fixed now and you should see:\n",
        "\n",
        "![Reviews_bool_fixed.png](reviews-bool-fixed.png)"
      ]
    },
    {
      "cell_type": "code",
      "execution_count": 122,
      "metadata": {},
      "outputs": [
        {
          "data": {
            "text/plain": [
              "3000000.0"
            ]
          },
          "execution_count": 122,
          "metadata": {},
          "output_type": "execute_result"
        }
      ],
      "source": [
        "google_play['Reviews'][10472]"
      ]
    },
    {
      "cell_type": "markdown",
      "metadata": {
        "id": "MK3E33YAfhcE"
      },
      "source": [
        "Also check the variable types of `google_play`. The `Reviews` column should be a `float64` type now."
      ]
    },
    {
      "cell_type": "code",
      "execution_count": 123,
      "metadata": {
        "id": "Y7Tw2lX8fhcF"
      },
      "outputs": [
        {
          "name": "stdout",
          "output_type": "stream",
          "text": [
            "<class 'pandas.core.series.Series'>\n",
            "RangeIndex: 10841 entries, 0 to 10840\n",
            "Series name: Reviews\n",
            "Non-Null Count  Dtype  \n",
            "--------------  -----  \n",
            "10841 non-null  float64\n",
            "dtypes: float64(1)\n",
            "memory usage: 84.8 KB\n"
          ]
        }
      ],
      "source": [
        "# Your code here:\n",
        "\n",
        "google_play['Reviews'].info()"
      ]
    },
    {
      "cell_type": "markdown",
      "metadata": {
        "id": "49TTLiq7fhcF"
      },
      "source": [
        "#### The next column we will look at is `Size`. We start by looking at all unique values in `Size`:\n",
        "\n",
        "*Hint: use `unique()` ([documentation](https://pandas.pydata.org/pandas-docs/stable/generated/pandas.Series.unique.html))*."
      ]
    },
    {
      "cell_type": "code",
      "execution_count": 124,
      "metadata": {
        "id": "LOSnt7fMfhcF"
      },
      "outputs": [
        {
          "data": {
            "text/plain": [
              "array(['19M', '14M', '8.7M', '25M', '2.8M', '5.6M', '29M', '33M', '3.1M',\n",
              "       '28M', '12M', '20M', '21M', '37M', '2.7M', '5.5M', '17M', '39M',\n",
              "       '31M', '4.2M', '7.0M', '23M', '6.0M', '6.1M', '4.6M', '9.2M',\n",
              "       '5.2M', '11M', '24M', 'Varies with device', '9.4M', '15M', '10M',\n",
              "       '1.2M', '26M', '8.0M', '7.9M', '56M', '57M', '35M', '54M', '201k',\n",
              "       '3.6M', '5.7M', '8.6M', '2.4M', '27M', '2.5M', '16M', '3.4M',\n",
              "       '8.9M', '3.9M', '2.9M', '38M', '32M', '5.4M', '18M', '1.1M',\n",
              "       '2.2M', '4.5M', '9.8M', '52M', '9.0M', '6.7M', '30M', '2.6M',\n",
              "       '7.1M', '3.7M', '22M', '7.4M', '6.4M', '3.2M', '8.2M', '9.9M',\n",
              "       '4.9M', '9.5M', '5.0M', '5.9M', '13M', '73M', '6.8M', '3.5M',\n",
              "       '4.0M', '2.3M', '7.2M', '2.1M', '42M', '7.3M', '9.1M', '55M',\n",
              "       '23k', '6.5M', '1.5M', '7.5M', '51M', '41M', '48M', '8.5M', '46M',\n",
              "       '8.3M', '4.3M', '4.7M', '3.3M', '40M', '7.8M', '8.8M', '6.6M',\n",
              "       '5.1M', '61M', '66M', '79k', '8.4M', '118k', '44M', '695k', '1.6M',\n",
              "       '6.2M', '18k', '53M', '1.4M', '3.0M', '5.8M', '3.8M', '9.6M',\n",
              "       '45M', '63M', '49M', '77M', '4.4M', '4.8M', '70M', '6.9M', '9.3M',\n",
              "       '10.0M', '8.1M', '36M', '84M', '97M', '2.0M', '1.9M', '1.8M',\n",
              "       '5.3M', '47M', '556k', '526k', '76M', '7.6M', '59M', '9.7M', '78M',\n",
              "       '72M', '43M', '7.7M', '6.3M', '334k', '34M', '93M', '65M', '79M',\n",
              "       '100M', '58M', '50M', '68M', '64M', '67M', '60M', '94M', '232k',\n",
              "       '99M', '624k', '95M', '8.5k', '41k', '292k', '11k', '80M', '1.7M',\n",
              "       '74M', '62M', '69M', '75M', '98M', '85M', '82M', '96M', '87M',\n",
              "       '71M', '86M', '91M', '81M', '92M', '83M', '88M', '704k', '862k',\n",
              "       '899k', '378k', '266k', '375k', '1.3M', '975k', '980k', '4.1M',\n",
              "       '89M', '696k', '544k', '525k', '920k', '779k', '853k', '720k',\n",
              "       '713k', '772k', '318k', '58k', '241k', '196k', '857k', '51k',\n",
              "       '953k', '865k', '251k', '930k', '540k', '313k', '746k', '203k',\n",
              "       '26k', '314k', '239k', '371k', '220k', '730k', '756k', '91k',\n",
              "       '293k', '17k', '74k', '14k', '317k', '78k', '924k', '902k', '818k',\n",
              "       '81k', '939k', '169k', '45k', '475k', '965k', '90M', '545k', '61k',\n",
              "       '283k', '655k', '714k', '93k', '872k', '121k', '322k', '1.0M',\n",
              "       '976k', '172k', '238k', '549k', '206k', '954k', '444k', '717k',\n",
              "       '210k', '609k', '308k', '705k', '306k', '904k', '473k', '175k',\n",
              "       '350k', '383k', '454k', '421k', '70k', '812k', '442k', '842k',\n",
              "       '417k', '412k', '459k', '478k', '335k', '782k', '721k', '430k',\n",
              "       '429k', '192k', '200k', '460k', '728k', '496k', '816k', '414k',\n",
              "       '506k', '887k', '613k', '243k', '569k', '778k', '683k', '592k',\n",
              "       '319k', '186k', '840k', '647k', '191k', '373k', '437k', '598k',\n",
              "       '716k', '585k', '982k', '222k', '219k', '55k', '948k', '323k',\n",
              "       '691k', '511k', '951k', '963k', '25k', '554k', '351k', '27k',\n",
              "       '82k', '208k', '913k', '514k', '551k', '29k', '103k', '898k',\n",
              "       '743k', '116k', '153k', '209k', '353k', '499k', '173k', '597k',\n",
              "       '809k', '122k', '411k', '400k', '801k', '787k', '237k', '50k',\n",
              "       '643k', '986k', '97k', '516k', '837k', '780k', '961k', '269k',\n",
              "       '20k', '498k', '600k', '749k', '642k', '881k', '72k', '656k',\n",
              "       '601k', '221k', '228k', '108k', '940k', '176k', '33k', '663k',\n",
              "       '34k', '942k', '259k', '164k', '458k', '245k', '629k', '28k',\n",
              "       '288k', '775k', '785k', '636k', '916k', '994k', '309k', '485k',\n",
              "       '914k', '903k', '608k', '500k', '54k', '562k', '847k', '957k',\n",
              "       '688k', '811k', '270k', '48k', '329k', '523k', '921k', '874k',\n",
              "       '981k', '784k', '280k', '24k', '518k', '754k', '892k', '154k',\n",
              "       '860k', '364k', '387k', '626k', '161k', '879k', '39k', '970k',\n",
              "       '170k', '141k', '160k', '144k', '143k', '190k', '376k', '193k',\n",
              "       '246k', '73k', '658k', '992k', '253k', '420k', '404k', '1,000+',\n",
              "       '470k', '226k', '240k', '89k', '234k', '257k', '861k', '467k',\n",
              "       '157k', '44k', '676k', '67k', '552k', '885k', '1020k', '582k',\n",
              "       '619k'], dtype=object)"
            ]
          },
          "execution_count": 124,
          "metadata": {},
          "output_type": "execute_result"
        }
      ],
      "source": [
        "# Your code here:\n",
        "\n",
        "google_play['Size'].unique()"
      ]
    },
    {
      "cell_type": "markdown",
      "metadata": {
        "id": "TciEBCyXfhcG"
      },
      "source": [
        "You should have seen lots of unique values of the app sizes.\n",
        "\n",
        "#### While we can convert most of the `Size` values to numeric in the same way we converted the `Reviews` values, there is one value that is impossible to convert.\n",
        "\n",
        "What is that badass value? Enter it in the next cell and calculate the proportion of its occurence to the total number of records of `google_play`."
      ]
    },
    {
      "cell_type": "code",
      "execution_count": 125,
      "metadata": {},
      "outputs": [
        {
          "data": {
            "text/plain": [
              "0.156"
            ]
          },
          "execution_count": 125,
          "metadata": {},
          "output_type": "execute_result"
        }
      ],
      "source": [
        "numer = len(google_play.loc[google_play['Size'].str.startswith('Varies')])\n",
        "denom = len(google_play['Size'])\n",
        "\n",
        "proportion = round(numer / denom, 3)\n",
        "\n",
        "proportion\n"
      ]
    },
    {
      "cell_type": "markdown",
      "metadata": {
        "id": "memkwXoPfhcH"
      },
      "source": [
        "#### While this column may be useful for other types of analysis, we opt to drop it from our dataset. \n",
        "\n",
        "There are two reasons. First, the majority of the data are ordinal but a sizeable proportion are missing because we cannot convert them to numerical values. Ordinal data are both numerical and categorical, and they usually can be ranked (e.g. 82k is smaller than 91M). In contrast, non-ordinal categorical data such as blood type and eye color cannot be ranked. The second reason is as a categorical column, it has too many unique values to produce meaningful insights. Therefore, in our case the simplest strategy would be to drop the column.\n",
        "\n",
        "Drop the column in the cell below (use `inplace=True`)"
      ]
    },
    {
      "cell_type": "code",
      "execution_count": 126,
      "metadata": {
        "id": "UH5vyr6WfhcH"
      },
      "outputs": [],
      "source": [
        "# Your code here:\n",
        "\n",
        "google_play1 = google_play.drop(columns= \"Size\", axis=1)"
      ]
    },
    {
      "cell_type": "code",
      "execution_count": 127,
      "metadata": {},
      "outputs": [
        {
          "data": {
            "text/plain": [
              "App                 object\n",
              "Category            object\n",
              "Rating             float64\n",
              "Reviews            float64\n",
              "Size                object\n",
              "Installs            object\n",
              "Type                object\n",
              "Price               object\n",
              "Content Rating      object\n",
              "Genres              object\n",
              "Last Updated        object\n",
              "Current Ver         object\n",
              "Android Ver         object\n",
              "Reviews_numeric    float64\n",
              "Reviews_isnull        bool\n",
              "dtype: object"
            ]
          },
          "execution_count": 127,
          "metadata": {},
          "output_type": "execute_result"
        }
      ],
      "source": [
        "google_play.dtypes"
      ]
    },
    {
      "cell_type": "markdown",
      "metadata": {
        "id": "t5SyM4bTfhcH"
      },
      "source": [
        "#### Now let's look at how many missing values are in each column. \n",
        "\n",
        "This will give us an idea of whether we should come up with a missing data strategy or give up on the column all together. In the next column, find the number of missing values in each column: \n",
        "\n",
        "*Hint: use the `isna()` and `sum()` functions.*"
      ]
    },
    {
      "cell_type": "code",
      "execution_count": 128,
      "metadata": {
        "id": "u-esah2afhcI"
      },
      "outputs": [
        {
          "data": {
            "text/plain": [
              "App                   0\n",
              "Category              0\n",
              "Rating             1474\n",
              "Reviews               0\n",
              "Size                  0\n",
              "Installs              0\n",
              "Type                  1\n",
              "Price                 0\n",
              "Content Rating        1\n",
              "Genres                0\n",
              "Last Updated          0\n",
              "Current Ver           8\n",
              "Android Ver           3\n",
              "Reviews_numeric       1\n",
              "Reviews_isnull        0\n",
              "dtype: int64"
            ]
          },
          "execution_count": 128,
          "metadata": {},
          "output_type": "execute_result"
        }
      ],
      "source": [
        "# Your code here:\n",
        "\n",
        "google_play.isna().sum()"
      ]
    },
    {
      "cell_type": "code",
      "execution_count": 129,
      "metadata": {},
      "outputs": [
        {
          "data": {
            "text/plain": [
              "App                   0\n",
              "Category              0\n",
              "Rating             1474\n",
              "Reviews               0\n",
              "Size                  0\n",
              "Installs              0\n",
              "Type                  1\n",
              "Price                 0\n",
              "Content Rating        1\n",
              "Genres                0\n",
              "Last Updated          0\n",
              "Current Ver           8\n",
              "Android Ver           3\n",
              "Reviews_numeric       1\n",
              "Reviews_isnull        0\n",
              "dtype: int64"
            ]
          },
          "execution_count": 129,
          "metadata": {},
          "output_type": "execute_result"
        }
      ],
      "source": [
        "google_play.isnull().sum()"
      ]
    },
    {
      "cell_type": "markdown",
      "metadata": {
        "id": "SufgsNC1fhcI"
      },
      "source": [
        "You should find the column with the most missing values is now `Rating`.\n",
        "\n",
        "#### What is the proportion of the missing values in `Rating` to the total number of records?\n",
        "\n",
        "Enter your answer in the cell below."
      ]
    },
    {
      "cell_type": "code",
      "execution_count": 130,
      "metadata": {
        "id": "7xauADUjfhcJ"
      },
      "outputs": [
        {
          "data": {
            "text/plain": [
              "0.136"
            ]
          },
          "execution_count": 130,
          "metadata": {},
          "output_type": "execute_result"
        }
      ],
      "source": [
        "# Your code here:\n",
        "\n",
        "num = len(google_play.loc[google_play['Rating'].isna()])\n",
        "den = len(google_play['Rating'])\n",
        "\n",
        "proportion2 = round(num/ den, 3)\n",
        "\n",
        "proportion2"
      ]
    },
    {
      "cell_type": "markdown",
      "metadata": {
        "id": "6nbSfbWWfhcJ"
      },
      "source": [
        "A sizeable proportion of the `Rating` column is missing. A few other columns also contain several missing values.\n",
        "\n",
        "#### We opt to preserve these columns and remove the rows containing missing data.\n",
        "\n",
        "In particular, we don't want to drop the `Rating` column because:\n",
        "\n",
        "* It is one of the most important columns in our dataset. \n",
        "\n",
        "* Since the dataset is not a time series, the loss of these rows will not have a negative impact on our ability to analyze the data. It will, however, cause us to lose some meaningful observations. But the loss is limited compared to the gain we receive by preserving these columns.\n",
        "\n",
        "In the cell below, remove all rows containing at least one missing value. Use the `dropna()` function ([documentation](https://pandas.pydata.org/pandas-docs/stable/generated/pandas.DataFrame.dropna.html)). Assign the new dataframe to the variable `google_missing_removed`."
      ]
    },
    {
      "cell_type": "code",
      "execution_count": 131,
      "metadata": {
        "id": "Tlk9qbEhfhcK"
      },
      "outputs": [],
      "source": [
        "# Your code here:\n",
        "\n",
        "google_missing_removed = google_play.dropna(axis=0)\n"
      ]
    },
    {
      "cell_type": "code",
      "execution_count": 132,
      "metadata": {},
      "outputs": [
        {
          "data": {
            "text/plain": [
              "App                0\n",
              "Category           0\n",
              "Rating             0\n",
              "Reviews            0\n",
              "Size               0\n",
              "Installs           0\n",
              "Type               0\n",
              "Price              0\n",
              "Content Rating     0\n",
              "Genres             0\n",
              "Last Updated       0\n",
              "Current Ver        0\n",
              "Android Ver        0\n",
              "Reviews_numeric    0\n",
              "Reviews_isnull     0\n",
              "dtype: int64"
            ]
          },
          "execution_count": 132,
          "metadata": {},
          "output_type": "execute_result"
        }
      ],
      "source": [
        "google_missing_removed.isna().sum()"
      ]
    },
    {
      "cell_type": "markdown",
      "metadata": {
        "id": "tbCazUjNfhcK"
      },
      "source": [
        "From now on, we use the `google_missing_removed` variable instead of `google_play`.\n",
        "\n",
        "#### Next, we look at the `Last Updated` column.\n",
        "\n",
        "The `Last Updated` column seems to contain a date, though it is classified as an object type. Let's convert this column using the `pd.to_datetime` function ([documentation](https://pandas.pydata.org/pandas-docs/stable/generated/pandas.to_datetime.html))."
      ]
    },
    {
      "cell_type": "code",
      "execution_count": 133,
      "metadata": {
        "id": "ZV8lxE2JfhcL"
      },
      "outputs": [
        {
          "name": "stderr",
          "output_type": "stream",
          "text": [
            "C:\\Users\\olivi\\AppData\\Local\\Temp\\ipykernel_29000\\1972404124.py:2: SettingWithCopyWarning: \n",
            "A value is trying to be set on a copy of a slice from a DataFrame.\n",
            "Try using .loc[row_indexer,col_indexer] = value instead\n",
            "\n",
            "See the caveats in the documentation: https://pandas.pydata.org/pandas-docs/stable/user_guide/indexing.html#returning-a-view-versus-a-copy\n",
            "  google_missing_removed[\"Last Updated\"] = pd.to_datetime(google_missing_removed[\"Last Updated\"])\n"
          ]
        }
      ],
      "source": [
        "# Your code here:\n",
        "google_missing_removed[\"Last Updated\"] = pd.to_datetime(google_missing_removed[\"Last Updated\"])"
      ]
    },
    {
      "cell_type": "code",
      "execution_count": 134,
      "metadata": {},
      "outputs": [
        {
          "data": {
            "text/plain": [
              "App                        object\n",
              "Category                   object\n",
              "Rating                    float64\n",
              "Reviews                   float64\n",
              "Size                       object\n",
              "Installs                   object\n",
              "Type                       object\n",
              "Price                      object\n",
              "Content Rating             object\n",
              "Genres                     object\n",
              "Last Updated       datetime64[ns]\n",
              "Current Ver                object\n",
              "Android Ver                object\n",
              "Reviews_numeric           float64\n",
              "Reviews_isnull               bool\n",
              "dtype: object"
            ]
          },
          "execution_count": 134,
          "metadata": {},
          "output_type": "execute_result"
        }
      ],
      "source": [
        "google_missing_removed.dtypes"
      ]
    },
    {
      "cell_type": "markdown",
      "metadata": {
        "id": "8ctUrk4DfhcL"
      },
      "source": [
        "#### The last column we will transform is `Price`. \n",
        "\n",
        "We start by looking at the unique values of this column."
      ]
    },
    {
      "cell_type": "code",
      "execution_count": 135,
      "metadata": {
        "id": "Y1GAvf7sfhcL"
      },
      "outputs": [
        {
          "data": {
            "text/plain": [
              "array(['0', '$4.99', '$3.99', '$6.99', '$7.99', '$5.99', '$2.99', '$3.49',\n",
              "       '$1.99', '$9.99', '$7.49', '$0.99', '$9.00', '$5.49', '$10.00',\n",
              "       '$24.99', '$11.99', '$79.99', '$16.99', '$14.99', '$29.99',\n",
              "       '$12.99', '$2.49', '$10.99', '$1.50', '$19.99', '$15.99', '$33.99',\n",
              "       '$39.99', '$3.95', '$4.49', '$1.70', '$8.99', '$1.49', '$3.88',\n",
              "       '$399.99', '$17.99', '$400.00', '$3.02', '$1.76', '$4.84', '$4.77',\n",
              "       '$1.61', '$2.50', '$1.59', '$6.49', '$1.29', '$299.99', '$379.99',\n",
              "       '$37.99', '$18.99', '$389.99', '$8.49', '$1.75', '$14.00', '$2.00',\n",
              "       '$3.08', '$2.59', '$19.40', '$3.90', '$4.59', '$15.46', '$3.04',\n",
              "       '$13.99', '$4.29', '$3.28', '$4.60', '$1.00', '$2.95', '$2.90',\n",
              "       '$1.97', '$2.56', '$1.20'], dtype=object)"
            ]
          },
          "execution_count": 135,
          "metadata": {},
          "output_type": "execute_result"
        }
      ],
      "source": [
        "# Your code here:\n",
        "google_missing_removed['Price'].unique()"
      ]
    },
    {
      "cell_type": "markdown",
      "metadata": {
        "id": "UfPYpqjHfhcM"
      },
      "source": [
        "Since all prices are ordinal data without exceptions, we can tranform this column by removing the dollar sign and converting to numeric. We can create a new column called `Price Numerical` and drop the original column.\n",
        "\n",
        "We will achieve our goal in three steps. Follow the instructions of each step below.\n",
        "\n",
        "#### First we remove the dollar sign. Do this in the next cell by applying the `str.replace` function to the column to replace `$` with an empty string (`''`)."
      ]
    },
    {
      "cell_type": "code",
      "execution_count": 136,
      "metadata": {
        "id": "l42htAspfhcM"
      },
      "outputs": [
        {
          "name": "stderr",
          "output_type": "stream",
          "text": [
            "C:\\Users\\olivi\\AppData\\Local\\Temp\\ipykernel_29000\\597087824.py:3: FutureWarning: The default value of regex will change from True to False in a future version. In addition, single character regular expressions will *not* be treated as literal strings when regex=True.\n",
            "  google_missing_removed['Price Numerical'] = google_missing_removed['Price'].str.replace(\"$\", \"\")\n",
            "C:\\Users\\olivi\\AppData\\Local\\Temp\\ipykernel_29000\\597087824.py:3: SettingWithCopyWarning: \n",
            "A value is trying to be set on a copy of a slice from a DataFrame.\n",
            "Try using .loc[row_indexer,col_indexer] = value instead\n",
            "\n",
            "See the caveats in the documentation: https://pandas.pydata.org/pandas-docs/stable/user_guide/indexing.html#returning-a-view-versus-a-copy\n",
            "  google_missing_removed['Price Numerical'] = google_missing_removed['Price'].str.replace(\"$\", \"\")\n"
          ]
        }
      ],
      "source": [
        "# Your code here:\n",
        "\n",
        "google_missing_removed['Price Numerical'] = google_missing_removed['Price'].str.replace(\"$\", \"\")\n"
      ]
    },
    {
      "cell_type": "markdown",
      "metadata": {
        "id": "oDMV_zHffhcM"
      },
      "source": [
        "#### Second step, coerce the `Price Numerical` column to numeric."
      ]
    },
    {
      "cell_type": "code",
      "execution_count": 137,
      "metadata": {
        "id": "IXq9POEtfhcN"
      },
      "outputs": [
        {
          "name": "stderr",
          "output_type": "stream",
          "text": [
            "C:\\Users\\olivi\\AppData\\Local\\Temp\\ipykernel_29000\\317345484.py:3: SettingWithCopyWarning: \n",
            "A value is trying to be set on a copy of a slice from a DataFrame.\n",
            "Try using .loc[row_indexer,col_indexer] = value instead\n",
            "\n",
            "See the caveats in the documentation: https://pandas.pydata.org/pandas-docs/stable/user_guide/indexing.html#returning-a-view-versus-a-copy\n",
            "  google_missing_removed['Price Numerical'] = pd.to_numeric(google_missing_removed['Price Numerical'])\n"
          ]
        }
      ],
      "source": [
        "# Your code here:\n",
        "\n",
        "google_missing_removed['Price Numerical'] = pd.to_numeric(google_missing_removed['Price Numerical'])"
      ]
    },
    {
      "cell_type": "markdown",
      "metadata": {
        "id": "GjHJN5jIfhcN"
      },
      "source": [
        "**Finally, drop the original `Price` column.**"
      ]
    },
    {
      "cell_type": "code",
      "execution_count": 138,
      "metadata": {
        "id": "uMHBFe_1fhcN"
      },
      "outputs": [],
      "source": [
        "# Your code here:\n",
        "\n",
        "google_missing_removed2 = google_missing_removed.drop(\"Price\", axis=1)\n"
      ]
    },
    {
      "cell_type": "code",
      "execution_count": 139,
      "metadata": {},
      "outputs": [],
      "source": [
        "google_missing_removed = google_missing_removed2"
      ]
    },
    {
      "cell_type": "markdown",
      "metadata": {
        "id": "VQdgVdxEfhcO"
      },
      "source": [
        "Now check the variable types of `google_missing_removed`. Make sure:\n",
        "\n",
        "* `Size` and `Price` columns have been removed.\n",
        "* `Rating`, `Reviews`, and `Price Numerical` have the type of `float64`.\n",
        "* `Last Updated` has the type of `datetime64`."
      ]
    },
    {
      "cell_type": "code",
      "execution_count": 140,
      "metadata": {},
      "outputs": [],
      "source": [
        "google_missing_removed2 = google_missing_removed.drop(\"Size\", axis=1)\n",
        "google_missing_removed = google_missing_removed2"
      ]
    },
    {
      "cell_type": "code",
      "execution_count": 141,
      "metadata": {
        "id": "2Z0K5PNZfhcO"
      },
      "outputs": [
        {
          "data": {
            "text/plain": [
              "App                        object\n",
              "Category                   object\n",
              "Rating                    float64\n",
              "Reviews                   float64\n",
              "Installs                   object\n",
              "Type                       object\n",
              "Content Rating             object\n",
              "Genres                     object\n",
              "Last Updated       datetime64[ns]\n",
              "Current Ver                object\n",
              "Android Ver                object\n",
              "Reviews_numeric           float64\n",
              "Reviews_isnull               bool\n",
              "Price Numerical           float64\n",
              "dtype: object"
            ]
          },
          "execution_count": 141,
          "metadata": {},
          "output_type": "execute_result"
        }
      ],
      "source": [
        "# Your code here\n",
        "\n",
        "google_missing_removed.dtypes"
      ]
    },
    {
      "cell_type": "markdown",
      "metadata": {
        "id": "QcYL2Zh7fhcO"
      },
      "source": [
        "# Challenge 2 - Loading and Extracting Features from the Second Dataset"
      ]
    },
    {
      "cell_type": "markdown",
      "metadata": {
        "id": "prHjUxNofhcP"
      },
      "source": [
        "Load the second dataset to the variable `google_reviews`. The data is in the file `googleplaystore_user_reviews.csv`."
      ]
    },
    {
      "cell_type": "code",
      "execution_count": 142,
      "metadata": {
        "id": "K6Byv70wfhcP"
      },
      "outputs": [],
      "source": [
        "# Your code here:\n",
        "\n",
        "google_review = pd.read_csv('C:/Users/olivi/Documents/Ironhack/DAFT_212/module_3/Lab_5_Feature-Extraction/data/googleplaystore_user_reviews.csv')"
      ]
    },
    {
      "cell_type": "markdown",
      "metadata": {
        "id": "128J08eFfhcP"
      },
      "source": [
        "#### This dataset contains the top 100 reviews for each app. \n",
        "\n",
        "Let's examine this dataset using the `head` function"
      ]
    },
    {
      "cell_type": "code",
      "execution_count": 143,
      "metadata": {
        "id": "Ler-taRKfhcQ"
      },
      "outputs": [
        {
          "data": {
            "text/html": [
              "<div><div id=9fba7cee-41fc-48d8-a40d-c0261c9a269b style=\"display:none; background-color:#9D6CFF; color:white; width:200px; height:30px; padding-left:5px; border-radius:4px; flex-direction:row; justify-content:space-around; align-items:center;\" onmouseover=\"this.style.backgroundColor='#BA9BF8'\" onmouseout=\"this.style.backgroundColor='#9D6CFF'\" onclick=\"window.commands?.execute('create-mitosheet-from-dataframe-output');\">See Full Dataframe in Mito</div> <script> if (window.commands.hasCommand('create-mitosheet-from-dataframe-output')) document.getElementById('9fba7cee-41fc-48d8-a40d-c0261c9a269b').style.display = 'flex' </script> <table border=\"1\" class=\"dataframe\">\n",
              "  <thead>\n",
              "    <tr style=\"text-align: right;\">\n",
              "      <th></th>\n",
              "      <th>App</th>\n",
              "      <th>Translated_Review</th>\n",
              "      <th>Sentiment</th>\n",
              "      <th>Sentiment_Polarity</th>\n",
              "      <th>Sentiment_Subjectivity</th>\n",
              "    </tr>\n",
              "  </thead>\n",
              "  <tbody>\n",
              "    <tr>\n",
              "      <th>0</th>\n",
              "      <td>10 Best Foods for You</td>\n",
              "      <td>I like eat delicious food. That's I'm cooking food myself, case \"10 Best Foods\" helps lot, also \"Best Before (Shelf Life)\"</td>\n",
              "      <td>Positive</td>\n",
              "      <td>1.00</td>\n",
              "      <td>0.533333</td>\n",
              "    </tr>\n",
              "    <tr>\n",
              "      <th>1</th>\n",
              "      <td>10 Best Foods for You</td>\n",
              "      <td>This help eating healthy exercise regular basis</td>\n",
              "      <td>Positive</td>\n",
              "      <td>0.25</td>\n",
              "      <td>0.288462</td>\n",
              "    </tr>\n",
              "    <tr>\n",
              "      <th>2</th>\n",
              "      <td>10 Best Foods for You</td>\n",
              "      <td>NaN</td>\n",
              "      <td>NaN</td>\n",
              "      <td>NaN</td>\n",
              "      <td>NaN</td>\n",
              "    </tr>\n",
              "    <tr>\n",
              "      <th>3</th>\n",
              "      <td>10 Best Foods for You</td>\n",
              "      <td>Works great especially going grocery store</td>\n",
              "      <td>Positive</td>\n",
              "      <td>0.40</td>\n",
              "      <td>0.875000</td>\n",
              "    </tr>\n",
              "    <tr>\n",
              "      <th>4</th>\n",
              "      <td>10 Best Foods for You</td>\n",
              "      <td>Best idea us</td>\n",
              "      <td>Positive</td>\n",
              "      <td>1.00</td>\n",
              "      <td>0.300000</td>\n",
              "    </tr>\n",
              "  </tbody>\n",
              "</table></div>"
            ],
            "text/plain": [
              "                     App                                  Translated_Review  \\\n",
              "0  10 Best Foods for You  I like eat delicious food. That's I'm cooking ...   \n",
              "1  10 Best Foods for You    This help eating healthy exercise regular basis   \n",
              "2  10 Best Foods for You                                                NaN   \n",
              "3  10 Best Foods for You         Works great especially going grocery store   \n",
              "4  10 Best Foods for You                                       Best idea us   \n",
              "\n",
              "  Sentiment  Sentiment_Polarity  Sentiment_Subjectivity  \n",
              "0  Positive                1.00                0.533333  \n",
              "1  Positive                0.25                0.288462  \n",
              "2       NaN                 NaN                     NaN  \n",
              "3  Positive                0.40                0.875000  \n",
              "4  Positive                1.00                0.300000  "
            ]
          },
          "execution_count": 143,
          "metadata": {},
          "output_type": "execute_result"
        }
      ],
      "source": [
        "# Your code here\n",
        "google_review.head()"
      ]
    },
    {
      "cell_type": "code",
      "execution_count": 144,
      "metadata": {},
      "outputs": [
        {
          "data": {
            "text/plain": [
              "array(['Positive', nan, 'Neutral', 'Negative'], dtype=object)"
            ]
          },
          "execution_count": 144,
          "metadata": {},
          "output_type": "execute_result"
        }
      ],
      "source": [
        "google_review['Sentiment'].unique()"
      ]
    },
    {
      "cell_type": "markdown",
      "metadata": {
        "id": "auNRd2TjfhcQ"
      },
      "source": [
        "#### The main piece of information we would like to extract from this dataset is the proportion of positive reviews of each app. \n",
        "\n",
        "Columns like `Sentiment_Polarity` and `Sentiment_Subjectivity` are not to our interests because we have no clue how to use them. We do not care about `Translated_Review` because natural language processing is too complex for us at present (in fact the `Sentiment`, `Sentiment_Polarity`, and `Sentiment_Subjectivity` columns are derived from `Translated_Review` the data scientists). \n",
        "\n",
        "What we care about in this challenge is `Sentiment`. To be more precise, we care about **what is the proportion of *Positive* sentiment of each app**. This will require us to aggregate the `Sentiment` data by `App` in order to calculate the proportions.\n",
        "\n",
        "Now that you are clear about what we are trying to achieve, follow the steps below that will walk you through towards our goal."
      ]
    },
    {
      "cell_type": "markdown",
      "metadata": {
        "id": "x6NQcl_vfhcR"
      },
      "source": [
        "#### Our first step will be to remove all rows with missing sentiment. \n",
        "\n",
        "In the next cell, drop all rows with missing data using the `dropna()` function and assign this new dataframe to `review_missing_removed`."
      ]
    },
    {
      "cell_type": "code",
      "execution_count": 145,
      "metadata": {
        "id": "vECNpngxfhcR"
      },
      "outputs": [],
      "source": [
        "# Your code here:\n",
        "\n",
        "review_missing_removed = google_review.dropna()\n"
      ]
    },
    {
      "cell_type": "markdown",
      "metadata": {
        "id": "m1cfmFmWfhcS"
      },
      "source": [
        "#### Now, use the `value_counts()` function ([documentation](https://pandas.pydata.org/pandas-docs/stable/generated/pandas.Series.value_counts.html)) to get a sense on how many apps are in this dataset and their review counts."
      ]
    },
    {
      "cell_type": "code",
      "execution_count": 146,
      "metadata": {
        "id": "ihd2E23NfhcS"
      },
      "outputs": [
        {
          "data": {
            "text/plain": [
              "Bowmasters                        312\n",
              "Helix Jump                        273\n",
              "Angry Birds Classic               273\n",
              "Calorie Counter - MyFitnessPal    254\n",
              "Duolingo: Learn Languages Free    240\n",
              "                                 ... \n",
              "Draw a Stickman: EPIC 2             1\n",
              "HD Camera                           1\n",
              "Draw In                             1\n",
              "Draw A Stickman                     1\n",
              "Best Fiends - Free Puzzle Game      1\n",
              "Name: App, Length: 865, dtype: int64"
            ]
          },
          "execution_count": 146,
          "metadata": {},
          "output_type": "execute_result"
        }
      ],
      "source": [
        "# Your code here:\n",
        "\n",
        "review_missing_removed['App'].value_counts()\n"
      ]
    },
    {
      "cell_type": "code",
      "execution_count": 147,
      "metadata": {},
      "outputs": [
        {
          "data": {
            "text/plain": [
              "Good                                                                                                                                                                                                                                                                                                                 247\n",
              "Nice                                                                                                                                                                                                                                                                                                                 173\n",
              "Great                                                                                                                                                                                                                                                                                                                131\n",
              "Love                                                                                                                                                                                                                                                                                                                 116\n",
              "Awesome                                                                                                                                                                                                                                                                                                               71\n",
              "                                                                                                                                                                                                                                                                                                                    ... \n",
              "This many great pictures. However, none free. You get couple color palettes. I guess I wanted spend real money fake diamonds color palettes I would love. I hate I search free coloring books I get kind stuff free categorie. Oh well, make money too. I wish honest front I go hassle downloading uninstalling.      1\n",
              "I really like choices we're given colors, hue type. The pictures too, basic elaborate...but using awhile now, become frustrating use. You guys become careless pictures. The colors run whole image, lines define pictures connected, colors run. I wish guys would fix problem, great app.                            1\n",
              "I love discovered feature draw mandala, always crashes midway drawing I lose picture. I mad save feature I could save drawing come back keep drawing. Right I save come back color it.... unfinished. This really frustrating I hope issue resolved soon.                                                              1\n",
              "I enjoy least earn pages checking everyday. Most frustrating thing using \"diamonds\" buy page color night \"diamonds\" finish day rolled over. I mostly night.                                                                                                                                                            1\n",
              "Useless app, I searched flats kondapur, Hyderabad . None number reachable I know flats unavailable would keep posts active                                                                                                                                                                                             1\n",
              "Name: Translated_Review, Length: 27994, dtype: int64"
            ]
          },
          "execution_count": 147,
          "metadata": {},
          "output_type": "execute_result"
        }
      ],
      "source": [
        "review_missing_removed['Translated_Review'].value_counts()"
      ]
    },
    {
      "cell_type": "markdown",
      "metadata": {
        "id": "eNxu-scifhcT"
      },
      "source": [
        "#### Now the tough part comes. Let's plan how we will achieve our goal:\n",
        "\n",
        "1. We will count the number of reviews that contain *Positive* in the `Sentiment` column.\n",
        "\n",
        "1. We will create a new dataframe to contain the `App` name, the number of positive reviews, and the total number of reviews of each app.\n",
        "\n",
        "1. We will then loop the new dataframe to calculate the postivie review portion of each app."
      ]
    },
    {
      "cell_type": "markdown",
      "metadata": {
        "id": "o0Llo0cNfhcT"
      },
      "source": [
        "#### Step 1: Count the number of positive reviews.\n",
        "\n",
        "In the following cell, write a function that takes a column and returns the number of times *Positive* appears in the column. \n",
        "\n",
        "*Hint: One option is to use the `np.where()` function ([documentation](https://docs.scipy.org/doc/numpy-1.13.0/reference/generated/numpy.where.html)).*"
      ]
    },
    {
      "cell_type": "code",
      "execution_count": 152,
      "metadata": {
        "id": "_sFFkhM1fhcT"
      },
      "outputs": [
        {
          "data": {
            "text/plain": [
              "23998"
            ]
          },
          "execution_count": 152,
          "metadata": {},
          "output_type": "execute_result"
        }
      ],
      "source": [
        "# Your code below\n",
        "\n",
        "def positive_function(x):\n",
        "    \"\"\"\n",
        "    Count how many times the string `Positive` appears in a column (exact string match).\n",
        "    \n",
        "    Args:\n",
        "        x: data column\n",
        "    \n",
        "    Returns:\n",
        "        The number of occurrences of `Positive` in the column data.\n",
        "    \"\"\"\n",
        "    return np.where(x == 'Positive',1,0).sum()\n",
        "\n",
        "    \n",
        "positive_function(review_missing_removed[\"Sentiment\"])"
      ]
    },
    {
      "cell_type": "markdown",
      "metadata": {
        "id": "Aj0qu-_1fhcU"
      },
      "source": [
        "#### Step 2: Create a new dataframe to contain the `App` name, the number of positive reviews, and the total number of reviews of each app\n",
        "\n",
        "We will group `review_missing_removed` by the `App` column, then aggregate the grouped dataframe on the number of positive reviews and the total review counts of each app. The result will be assigned to a new variable `google_agg`. Here is the ([documentation on how to achieve it](https://pandas.pydata.org/pandas-docs/stable/generated/pandas.core.groupby.DataFrameGroupBy.agg.html)). Take a moment or two to read the documentation and google examples because it is pretty complex.\n",
        "\n",
        "When you obtain `google_agg`, check its values to make sure it has an `App` column as its index as well as a `Positive` column and a `Total` column. Your output should look like:\n",
        "\n",
        "![Positive Reviews Agg](positive-review-agg.png)\n",
        "\n",
        "*Hint: Use `positive_function` you created earlier as part of the param passed to the `agg()` function in order to aggregate the number of positive reviews.*\n",
        "\n",
        "#### Bonus:\n",
        "\n",
        "As of Pandas v0.23.4, you may opt to supply an array or an object to `agg()`. If you use the array param, you'll need to rename the columns so that their names are `Positive` and `Total`. Using the object param will allow you to create the aggregated columns with the desirable names without renaming them. However, you will probably encounter a warning indicating supplying an object to `agg()` will become outdated. It's up to you which way you will use. Try both ways out. Any way is fine as long as it works."
      ]
    },
    {
      "cell_type": "code",
      "execution_count": 153,
      "metadata": {},
      "outputs": [],
      "source": [
        "from scipy import stats"
      ]
    },
    {
      "cell_type": "code",
      "execution_count": 185,
      "metadata": {},
      "outputs": [],
      "source": [
        "google_agg = review_missing_removed.groupby('App')['Sentiment'].agg([positive_function, len]).rename(columns = {'positive_function':'Positive', 'len':'Total'})\n"
      ]
    },
    {
      "cell_type": "code",
      "execution_count": 186,
      "metadata": {},
      "outputs": [
        {
          "data": {
            "text/html": [
              "<div><div id=33b00237-f3dc-4e4f-a7b5-a5d68929b667 style=\"display:none; background-color:#9D6CFF; color:white; width:200px; height:30px; padding-left:5px; border-radius:4px; flex-direction:row; justify-content:space-around; align-items:center;\" onmouseover=\"this.style.backgroundColor='#BA9BF8'\" onmouseout=\"this.style.backgroundColor='#9D6CFF'\" onclick=\"window.commands?.execute('create-mitosheet-from-dataframe-output');\">See Full Dataframe in Mito</div> <script> if (window.commands.hasCommand('create-mitosheet-from-dataframe-output')) document.getElementById('33b00237-f3dc-4e4f-a7b5-a5d68929b667').style.display = 'flex' </script> <table border=\"1\" class=\"dataframe\">\n",
              "  <thead>\n",
              "    <tr style=\"text-align: right;\">\n",
              "      <th></th>\n",
              "      <th>Positive</th>\n",
              "      <th>Total</th>\n",
              "    </tr>\n",
              "    <tr>\n",
              "      <th>App</th>\n",
              "      <th></th>\n",
              "      <th></th>\n",
              "    </tr>\n",
              "  </thead>\n",
              "  <tbody>\n",
              "    <tr>\n",
              "      <th>10 Best Foods for You</th>\n",
              "      <td>162</td>\n",
              "      <td>194</td>\n",
              "    </tr>\n",
              "    <tr>\n",
              "      <th>104 找工作 - 找工作 找打工 找兼職 履歷健檢 履歷診療室</th>\n",
              "      <td>31</td>\n",
              "      <td>40</td>\n",
              "    </tr>\n",
              "    <tr>\n",
              "      <th>11st</th>\n",
              "      <td>23</td>\n",
              "      <td>39</td>\n",
              "    </tr>\n",
              "    <tr>\n",
              "      <th>1800 Contacts - Lens Store</th>\n",
              "      <td>64</td>\n",
              "      <td>80</td>\n",
              "    </tr>\n",
              "    <tr>\n",
              "      <th>1LINE – One Line with One Touch</th>\n",
              "      <td>27</td>\n",
              "      <td>38</td>\n",
              "    </tr>\n",
              "  </tbody>\n",
              "</table></div>"
            ],
            "text/plain": [
              "                                  Positive  Total\n",
              "App                                              \n",
              "10 Best Foods for You                  162    194\n",
              "104 找工作 - 找工作 找打工 找兼職 履歷健檢 履歷診療室        31     40\n",
              "11st                                    23     39\n",
              "1800 Contacts - Lens Store              64     80\n",
              "1LINE – One Line with One Touch         27     38"
            ]
          },
          "execution_count": 186,
          "metadata": {},
          "output_type": "execute_result"
        }
      ],
      "source": [
        "google_agg.head(5)"
      ]
    },
    {
      "cell_type": "markdown",
      "metadata": {
        "id": "r_MhV5N7fhcW"
      },
      "source": [
        "Print the first 5 rows of `google_agg` to check it."
      ]
    },
    {
      "cell_type": "code",
      "execution_count": null,
      "metadata": {
        "id": "_eNSsiRVfhcW"
      },
      "outputs": [],
      "source": [
        "# Your code here\n"
      ]
    },
    {
      "cell_type": "markdown",
      "metadata": {
        "id": "aNZMlA9RfhcX"
      },
      "source": [
        "#### Add a derived column to `google_agg` that is the ratio of the `Positive` and the `Total` columns. Call this column `Positive Ratio`. \n",
        "\n",
        "Make sure to account for the case where the denominator is zero using the `np.where()` function."
      ]
    },
    {
      "cell_type": "code",
      "execution_count": 187,
      "metadata": {
        "id": "ATzCD8egfhcY"
      },
      "outputs": [
        {
          "data": {
            "text/html": [
              "<div><div id=a5bd95a1-7de8-43b1-9bdb-0ea1baebfe1f style=\"display:none; background-color:#9D6CFF; color:white; width:200px; height:30px; padding-left:5px; border-radius:4px; flex-direction:row; justify-content:space-around; align-items:center;\" onmouseover=\"this.style.backgroundColor='#BA9BF8'\" onmouseout=\"this.style.backgroundColor='#9D6CFF'\" onclick=\"window.commands?.execute('create-mitosheet-from-dataframe-output');\">See Full Dataframe in Mito</div> <script> if (window.commands.hasCommand('create-mitosheet-from-dataframe-output')) document.getElementById('a5bd95a1-7de8-43b1-9bdb-0ea1baebfe1f').style.display = 'flex' </script> <table border=\"1\" class=\"dataframe\">\n",
              "  <thead>\n",
              "    <tr style=\"text-align: right;\">\n",
              "      <th></th>\n",
              "      <th>Positive</th>\n",
              "      <th>Total</th>\n",
              "      <th>Positive Ratio</th>\n",
              "    </tr>\n",
              "    <tr>\n",
              "      <th>App</th>\n",
              "      <th></th>\n",
              "      <th></th>\n",
              "      <th></th>\n",
              "    </tr>\n",
              "  </thead>\n",
              "  <tbody>\n",
              "    <tr>\n",
              "      <th>10 Best Foods for You</th>\n",
              "      <td>162</td>\n",
              "      <td>194</td>\n",
              "      <td>0.84</td>\n",
              "    </tr>\n",
              "    <tr>\n",
              "      <th>104 找工作 - 找工作 找打工 找兼職 履歷健檢 履歷診療室</th>\n",
              "      <td>31</td>\n",
              "      <td>40</td>\n",
              "      <td>0.78</td>\n",
              "    </tr>\n",
              "    <tr>\n",
              "      <th>11st</th>\n",
              "      <td>23</td>\n",
              "      <td>39</td>\n",
              "      <td>0.59</td>\n",
              "    </tr>\n",
              "    <tr>\n",
              "      <th>1800 Contacts - Lens Store</th>\n",
              "      <td>64</td>\n",
              "      <td>80</td>\n",
              "      <td>0.80</td>\n",
              "    </tr>\n",
              "    <tr>\n",
              "      <th>1LINE – One Line with One Touch</th>\n",
              "      <td>27</td>\n",
              "      <td>38</td>\n",
              "      <td>0.71</td>\n",
              "    </tr>\n",
              "    <tr>\n",
              "      <th>...</th>\n",
              "      <td>...</td>\n",
              "      <td>...</td>\n",
              "      <td>...</td>\n",
              "    </tr>\n",
              "    <tr>\n",
              "      <th>Hotels.com: Book Hotel Rooms &amp; Find Vacation Deals</th>\n",
              "      <td>39</td>\n",
              "      <td>68</td>\n",
              "      <td>0.57</td>\n",
              "    </tr>\n",
              "    <tr>\n",
              "      <th>Hotspot Shield Free VPN Proxy &amp; Wi-Fi Security</th>\n",
              "      <td>17</td>\n",
              "      <td>34</td>\n",
              "      <td>0.50</td>\n",
              "    </tr>\n",
              "    <tr>\n",
              "      <th>Hotstar</th>\n",
              "      <td>14</td>\n",
              "      <td>32</td>\n",
              "      <td>0.44</td>\n",
              "    </tr>\n",
              "    <tr>\n",
              "      <th>Hotwire Hotel &amp; Car Rental App</th>\n",
              "      <td>16</td>\n",
              "      <td>33</td>\n",
              "      <td>0.48</td>\n",
              "    </tr>\n",
              "    <tr>\n",
              "      <th>Housing-Real Estate &amp; Property</th>\n",
              "      <td>8</td>\n",
              "      <td>21</td>\n",
              "      <td>0.38</td>\n",
              "    </tr>\n",
              "  </tbody>\n",
              "</table></div>"
            ],
            "text/plain": [
              "                                                    Positive  Total  \\\n",
              "App                                                                   \n",
              "10 Best Foods for You                                    162    194   \n",
              "104 找工作 - 找工作 找打工 找兼職 履歷健檢 履歷診療室                          31     40   \n",
              "11st                                                      23     39   \n",
              "1800 Contacts - Lens Store                                64     80   \n",
              "1LINE – One Line with One Touch                           27     38   \n",
              "...                                                      ...    ...   \n",
              "Hotels.com: Book Hotel Rooms & Find Vacation Deals        39     68   \n",
              "Hotspot Shield Free VPN Proxy & Wi-Fi Security            17     34   \n",
              "Hotstar                                                   14     32   \n",
              "Hotwire Hotel & Car Rental App                            16     33   \n",
              "Housing-Real Estate & Property                             8     21   \n",
              "\n",
              "                                                    Positive Ratio  \n",
              "App                                                                 \n",
              "10 Best Foods for You                                         0.84  \n",
              "104 找工作 - 找工作 找打工 找兼職 履歷健檢 履歷診療室                              0.78  \n",
              "11st                                                          0.59  \n",
              "1800 Contacts - Lens Store                                    0.80  \n",
              "1LINE – One Line with One Touch                               0.71  \n",
              "...                                                            ...  \n",
              "Hotels.com: Book Hotel Rooms & Find Vacation Deals            0.57  \n",
              "Hotspot Shield Free VPN Proxy & Wi-Fi Security                0.50  \n",
              "Hotstar                                                       0.44  \n",
              "Hotwire Hotel & Car Rental App                                0.48  \n",
              "Housing-Real Estate & Property                                0.38  \n",
              "\n",
              "[865 rows x 3 columns]"
            ]
          },
          "execution_count": 187,
          "metadata": {},
          "output_type": "execute_result"
        }
      ],
      "source": [
        "# Your code here:\n",
        "\n",
        "google_agg['Positive Ratio'] = round(google_agg['Positive'] / google_agg['Total'], 2)\n",
        "google_agg"
      ]
    },
    {
      "cell_type": "markdown",
      "metadata": {
        "id": "LTOHBfanfhcY"
      },
      "source": [
        "#### Now drop the `Positive` and `Total` columns. Do this with `inplace=True`."
      ]
    },
    {
      "cell_type": "code",
      "execution_count": 188,
      "metadata": {},
      "outputs": [
        {
          "data": {
            "text/plain": [
              "<bound method DataFrame.info of                                                     Positive  Total  \\\n",
              "App                                                                   \n",
              "10 Best Foods for You                                    162    194   \n",
              "104 找工作 - 找工作 找打工 找兼職 履歷健檢 履歷診療室                          31     40   \n",
              "11st                                                      23     39   \n",
              "1800 Contacts - Lens Store                                64     80   \n",
              "1LINE – One Line with One Touch                           27     38   \n",
              "...                                                      ...    ...   \n",
              "Hotels.com: Book Hotel Rooms & Find Vacation Deals        39     68   \n",
              "Hotspot Shield Free VPN Proxy & Wi-Fi Security            17     34   \n",
              "Hotstar                                                   14     32   \n",
              "Hotwire Hotel & Car Rental App                            16     33   \n",
              "Housing-Real Estate & Property                             8     21   \n",
              "\n",
              "                                                    Positive Ratio  \n",
              "App                                                                 \n",
              "10 Best Foods for You                                         0.84  \n",
              "104 找工作 - 找工作 找打工 找兼職 履歷健檢 履歷診療室                              0.78  \n",
              "11st                                                          0.59  \n",
              "1800 Contacts - Lens Store                                    0.80  \n",
              "1LINE – One Line with One Touch                               0.71  \n",
              "...                                                            ...  \n",
              "Hotels.com: Book Hotel Rooms & Find Vacation Deals            0.57  \n",
              "Hotspot Shield Free VPN Proxy & Wi-Fi Security                0.50  \n",
              "Hotstar                                                       0.44  \n",
              "Hotwire Hotel & Car Rental App                                0.48  \n",
              "Housing-Real Estate & Property                                0.38  \n",
              "\n",
              "[865 rows x 3 columns]>"
            ]
          },
          "execution_count": 188,
          "metadata": {},
          "output_type": "execute_result"
        }
      ],
      "source": [
        "google_agg.info"
      ]
    },
    {
      "cell_type": "code",
      "execution_count": 189,
      "metadata": {
        "id": "d4cPgxl0fhcZ"
      },
      "outputs": [],
      "source": [
        "# Your code here:\n",
        "\n",
        "import pandas as pd\n",
        "\n",
        "google_agg.drop(['Positive', 'Total'], axis=1, inplace=True)"
      ]
    },
    {
      "cell_type": "markdown",
      "metadata": {
        "id": "dxlD7394fhcZ"
      },
      "source": [
        "Print the first 5 rows of `google_agg`. Your output should look like:\n",
        "\n",
        "![Positive Reviews Agg](positive-review-ratio.png)"
      ]
    },
    {
      "cell_type": "code",
      "execution_count": 190,
      "metadata": {
        "id": "xMpEUPm9fhca"
      },
      "outputs": [
        {
          "data": {
            "text/html": [
              "<div><div id=741715e4-82c1-49fc-a6ab-a1fbaf552204 style=\"display:none; background-color:#9D6CFF; color:white; width:200px; height:30px; padding-left:5px; border-radius:4px; flex-direction:row; justify-content:space-around; align-items:center;\" onmouseover=\"this.style.backgroundColor='#BA9BF8'\" onmouseout=\"this.style.backgroundColor='#9D6CFF'\" onclick=\"window.commands?.execute('create-mitosheet-from-dataframe-output');\">See Full Dataframe in Mito</div> <script> if (window.commands.hasCommand('create-mitosheet-from-dataframe-output')) document.getElementById('741715e4-82c1-49fc-a6ab-a1fbaf552204').style.display = 'flex' </script> <table border=\"1\" class=\"dataframe\">\n",
              "  <thead>\n",
              "    <tr style=\"text-align: right;\">\n",
              "      <th></th>\n",
              "      <th>Positive Ratio</th>\n",
              "    </tr>\n",
              "    <tr>\n",
              "      <th>App</th>\n",
              "      <th></th>\n",
              "    </tr>\n",
              "  </thead>\n",
              "  <tbody>\n",
              "    <tr>\n",
              "      <th>10 Best Foods for You</th>\n",
              "      <td>0.84</td>\n",
              "    </tr>\n",
              "    <tr>\n",
              "      <th>104 找工作 - 找工作 找打工 找兼職 履歷健檢 履歷診療室</th>\n",
              "      <td>0.78</td>\n",
              "    </tr>\n",
              "    <tr>\n",
              "      <th>11st</th>\n",
              "      <td>0.59</td>\n",
              "    </tr>\n",
              "    <tr>\n",
              "      <th>1800 Contacts - Lens Store</th>\n",
              "      <td>0.80</td>\n",
              "    </tr>\n",
              "    <tr>\n",
              "      <th>1LINE – One Line with One Touch</th>\n",
              "      <td>0.71</td>\n",
              "    </tr>\n",
              "  </tbody>\n",
              "</table></div>"
            ],
            "text/plain": [
              "                                  Positive Ratio\n",
              "App                                             \n",
              "10 Best Foods for You                       0.84\n",
              "104 找工作 - 找工作 找打工 找兼職 履歷健檢 履歷診療室            0.78\n",
              "11st                                        0.59\n",
              "1800 Contacts - Lens Store                  0.80\n",
              "1LINE – One Line with One Touch             0.71"
            ]
          },
          "execution_count": 190,
          "metadata": {},
          "output_type": "execute_result"
        }
      ],
      "source": [
        "# Your code here:\n",
        "\n",
        "google_agg.head(5)"
      ]
    },
    {
      "cell_type": "markdown",
      "metadata": {
        "id": "ERLWPV5efhca"
      },
      "source": [
        "# Challenge 3 - Join the Dataframes\n",
        "\n",
        "In this part of the lab, we will join the two dataframes and obtain a dataframe that contains features we can use in our ML algorithm.\n",
        "\n",
        "In the next cell, join the `google_missing_removed` dataframe with the `google_agg` dataframe on the `App` column. Assign this dataframe to the variable `google`."
      ]
    },
    {
      "cell_type": "code",
      "execution_count": 191,
      "metadata": {
        "id": "7srN0WIzfhca"
      },
      "outputs": [],
      "source": [
        "# Your code here:\n",
        "\n",
        "google = google_missing_removed.join(google_agg, on= \"App\")"
      ]
    },
    {
      "cell_type": "markdown",
      "metadata": {
        "id": "EXhmXFJifhcb"
      },
      "source": [
        "#### Let's look at the final result using the `head()` function. Your final product should look like:\n",
        "\n",
        "![Final Product](google-final-head.png)"
      ]
    },
    {
      "cell_type": "code",
      "execution_count": 192,
      "metadata": {
        "id": "-jgqbQsnfhcb"
      },
      "outputs": [
        {
          "data": {
            "text/html": [
              "<div><div id=6505c55d-c442-4aef-b3c4-00115ab86d9a style=\"display:none; background-color:#9D6CFF; color:white; width:200px; height:30px; padding-left:5px; border-radius:4px; flex-direction:row; justify-content:space-around; align-items:center;\" onmouseover=\"this.style.backgroundColor='#BA9BF8'\" onmouseout=\"this.style.backgroundColor='#9D6CFF'\" onclick=\"window.commands?.execute('create-mitosheet-from-dataframe-output');\">See Full Dataframe in Mito</div> <script> if (window.commands.hasCommand('create-mitosheet-from-dataframe-output')) document.getElementById('6505c55d-c442-4aef-b3c4-00115ab86d9a').style.display = 'flex' </script> <table border=\"1\" class=\"dataframe\">\n",
              "  <thead>\n",
              "    <tr style=\"text-align: right;\">\n",
              "      <th></th>\n",
              "      <th>App</th>\n",
              "      <th>Category</th>\n",
              "      <th>Rating</th>\n",
              "      <th>Reviews</th>\n",
              "      <th>Installs</th>\n",
              "      <th>Type</th>\n",
              "      <th>Content Rating</th>\n",
              "      <th>Genres</th>\n",
              "      <th>Last Updated</th>\n",
              "      <th>Current Ver</th>\n",
              "      <th>Android Ver</th>\n",
              "      <th>Reviews_numeric</th>\n",
              "      <th>Reviews_isnull</th>\n",
              "      <th>Price Numerical</th>\n",
              "      <th>Positive Ratio</th>\n",
              "    </tr>\n",
              "  </thead>\n",
              "  <tbody>\n",
              "    <tr>\n",
              "      <th>0</th>\n",
              "      <td>Photo Editor &amp; Candy Camera &amp; Grid &amp; ScrapBook</td>\n",
              "      <td>ART_AND_DESIGN</td>\n",
              "      <td>4.1</td>\n",
              "      <td>159.0</td>\n",
              "      <td>10,000+</td>\n",
              "      <td>Free</td>\n",
              "      <td>Everyone</td>\n",
              "      <td>Art &amp; Design</td>\n",
              "      <td>2018-01-07</td>\n",
              "      <td>1.0.0</td>\n",
              "      <td>4.0.3 and up</td>\n",
              "      <td>159.0</td>\n",
              "      <td>False</td>\n",
              "      <td>0.0</td>\n",
              "      <td>NaN</td>\n",
              "    </tr>\n",
              "    <tr>\n",
              "      <th>1</th>\n",
              "      <td>Coloring book moana</td>\n",
              "      <td>ART_AND_DESIGN</td>\n",
              "      <td>3.9</td>\n",
              "      <td>967.0</td>\n",
              "      <td>500,000+</td>\n",
              "      <td>Free</td>\n",
              "      <td>Everyone</td>\n",
              "      <td>Art &amp; Design;Pretend Play</td>\n",
              "      <td>2018-01-15</td>\n",
              "      <td>2.0.0</td>\n",
              "      <td>4.0.3 and up</td>\n",
              "      <td>967.0</td>\n",
              "      <td>False</td>\n",
              "      <td>0.0</td>\n",
              "      <td>0.59</td>\n",
              "    </tr>\n",
              "    <tr>\n",
              "      <th>2</th>\n",
              "      <td>U Launcher Lite – FREE Live Cool Themes, Hide Apps</td>\n",
              "      <td>ART_AND_DESIGN</td>\n",
              "      <td>4.7</td>\n",
              "      <td>87510.0</td>\n",
              "      <td>5,000,000+</td>\n",
              "      <td>Free</td>\n",
              "      <td>Everyone</td>\n",
              "      <td>Art &amp; Design</td>\n",
              "      <td>2018-08-01</td>\n",
              "      <td>1.2.4</td>\n",
              "      <td>4.0.3 and up</td>\n",
              "      <td>87510.0</td>\n",
              "      <td>False</td>\n",
              "      <td>0.0</td>\n",
              "      <td>NaN</td>\n",
              "    </tr>\n",
              "    <tr>\n",
              "      <th>3</th>\n",
              "      <td>Sketch - Draw &amp; Paint</td>\n",
              "      <td>ART_AND_DESIGN</td>\n",
              "      <td>4.5</td>\n",
              "      <td>215644.0</td>\n",
              "      <td>50,000,000+</td>\n",
              "      <td>Free</td>\n",
              "      <td>Teen</td>\n",
              "      <td>Art &amp; Design</td>\n",
              "      <td>2018-06-08</td>\n",
              "      <td>Varies with device</td>\n",
              "      <td>4.2 and up</td>\n",
              "      <td>215644.0</td>\n",
              "      <td>False</td>\n",
              "      <td>0.0</td>\n",
              "      <td>NaN</td>\n",
              "    </tr>\n",
              "    <tr>\n",
              "      <th>4</th>\n",
              "      <td>Pixel Draw - Number Art Coloring Book</td>\n",
              "      <td>ART_AND_DESIGN</td>\n",
              "      <td>4.3</td>\n",
              "      <td>967.0</td>\n",
              "      <td>100,000+</td>\n",
              "      <td>Free</td>\n",
              "      <td>Everyone</td>\n",
              "      <td>Art &amp; Design;Creativity</td>\n",
              "      <td>2018-06-20</td>\n",
              "      <td>1.1</td>\n",
              "      <td>4.4 and up</td>\n",
              "      <td>967.0</td>\n",
              "      <td>False</td>\n",
              "      <td>0.0</td>\n",
              "      <td>NaN</td>\n",
              "    </tr>\n",
              "  </tbody>\n",
              "</table></div>"
            ],
            "text/plain": [
              "                                                 App        Category  Rating  \\\n",
              "0     Photo Editor & Candy Camera & Grid & ScrapBook  ART_AND_DESIGN     4.1   \n",
              "1                                Coloring book moana  ART_AND_DESIGN     3.9   \n",
              "2  U Launcher Lite – FREE Live Cool Themes, Hide ...  ART_AND_DESIGN     4.7   \n",
              "3                              Sketch - Draw & Paint  ART_AND_DESIGN     4.5   \n",
              "4              Pixel Draw - Number Art Coloring Book  ART_AND_DESIGN     4.3   \n",
              "\n",
              "    Reviews     Installs  Type Content Rating                     Genres  \\\n",
              "0     159.0      10,000+  Free       Everyone               Art & Design   \n",
              "1     967.0     500,000+  Free       Everyone  Art & Design;Pretend Play   \n",
              "2   87510.0   5,000,000+  Free       Everyone               Art & Design   \n",
              "3  215644.0  50,000,000+  Free           Teen               Art & Design   \n",
              "4     967.0     100,000+  Free       Everyone    Art & Design;Creativity   \n",
              "\n",
              "  Last Updated         Current Ver   Android Ver  Reviews_numeric  \\\n",
              "0   2018-01-07               1.0.0  4.0.3 and up            159.0   \n",
              "1   2018-01-15               2.0.0  4.0.3 and up            967.0   \n",
              "2   2018-08-01               1.2.4  4.0.3 and up          87510.0   \n",
              "3   2018-06-08  Varies with device    4.2 and up         215644.0   \n",
              "4   2018-06-20                 1.1    4.4 and up            967.0   \n",
              "\n",
              "   Reviews_isnull  Price Numerical  Positive Ratio  \n",
              "0           False              0.0             NaN  \n",
              "1           False              0.0            0.59  \n",
              "2           False              0.0             NaN  \n",
              "3           False              0.0             NaN  \n",
              "4           False              0.0             NaN  "
            ]
          },
          "execution_count": 192,
          "metadata": {},
          "output_type": "execute_result"
        }
      ],
      "source": [
        "# Your code here:\n",
        "\n",
        "google.head()"
      ]
    },
    {
      "cell_type": "code",
      "execution_count": null,
      "metadata": {
        "id": "MQngLJu_fyTb"
      },
      "outputs": [],
      "source": []
    },
    {
      "cell_type": "markdown",
      "metadata": {
        "id": "gsmZvpwXf3tk"
      },
      "source": [
        " # Challenge 4- Feature selection and modelling"
      ]
    },
    {
      "cell_type": "markdown",
      "metadata": {
        "id": "8b860R3Mxv6Y"
      },
      "source": [
        "Let's work with data about bank marketing.  You can find the dataset and description in the data folder\n",
        "Please use RFE, RFECV and SelectFomModel  for selecting the features from your dataset."
      ]
    },
    {
      "cell_type": "markdown",
      "metadata": {
        "id": "gQ9wFo2LyFlz"
      },
      "source": [
        "Step 1. Check your data. Clean and encode them if necessary"
      ]
    },
    {
      "cell_type": "code",
      "execution_count": 193,
      "metadata": {
        "id": "cXlgWMx-yeid"
      },
      "outputs": [
        {
          "name": "stdout",
          "output_type": "stream",
          "text": [
            "<class 'pandas.core.frame.DataFrame'>\n",
            "RangeIndex: 41188 entries, 0 to 41187\n",
            "Data columns (total 21 columns):\n",
            " #   Column          Non-Null Count  Dtype         \n",
            "---  ------          --------------  -----         \n",
            " 0   age             41188 non-null  int64         \n",
            " 1   job             41188 non-null  object        \n",
            " 2   marital         41188 non-null  object        \n",
            " 3   education       41188 non-null  object        \n",
            " 4   default         41188 non-null  object        \n",
            " 5   housing         41188 non-null  object        \n",
            " 6   loan            41188 non-null  object        \n",
            " 7   contact         41188 non-null  object        \n",
            " 8   month           41188 non-null  object        \n",
            " 9   day_of_week     41188 non-null  object        \n",
            " 10  duration        41188 non-null  int64         \n",
            " 11  campaign        41188 non-null  int64         \n",
            " 12  pdays           41188 non-null  int64         \n",
            " 13  previous        41188 non-null  int64         \n",
            " 14  poutcome        41188 non-null  object        \n",
            " 15  emp.var.rate    23997 non-null  datetime64[ns]\n",
            " 16  cons.price.idx  41188 non-null  float64       \n",
            " 17  cons.conf.idx   41188 non-null  float64       \n",
            " 18  euribor3m       41188 non-null  float64       \n",
            " 19  nr.employed     7763 non-null   float64       \n",
            " 20  y               41188 non-null  object        \n",
            "dtypes: datetime64[ns](1), float64(4), int64(5), object(11)\n",
            "memory usage: 6.6+ MB\n"
          ]
        }
      ],
      "source": [
        "df = pd.read_excel(r'C:/Users/olivi/Documents/Ironhack/DAFT_212/module_3/Lab_5_Feature-Extraction/data/bank_marketing.xlsx')\n",
        "df.info()"
      ]
    },
    {
      "cell_type": "code",
      "execution_count": 195,
      "metadata": {},
      "outputs": [
        {
          "data": {
            "text/html": [
              "<div><div id=afbbf61d-1bf2-4769-b001-d65c605a6465 style=\"display:none; background-color:#9D6CFF; color:white; width:200px; height:30px; padding-left:5px; border-radius:4px; flex-direction:row; justify-content:space-around; align-items:center;\" onmouseover=\"this.style.backgroundColor='#BA9BF8'\" onmouseout=\"this.style.backgroundColor='#9D6CFF'\" onclick=\"window.commands?.execute('create-mitosheet-from-dataframe-output');\">See Full Dataframe in Mito</div> <script> if (window.commands.hasCommand('create-mitosheet-from-dataframe-output')) document.getElementById('afbbf61d-1bf2-4769-b001-d65c605a6465').style.display = 'flex' </script> <table border=\"1\" class=\"dataframe\">\n",
              "  <thead>\n",
              "    <tr style=\"text-align: right;\">\n",
              "      <th></th>\n",
              "      <th>age</th>\n",
              "      <th>job</th>\n",
              "      <th>marital</th>\n",
              "      <th>education</th>\n",
              "      <th>default</th>\n",
              "      <th>housing</th>\n",
              "      <th>loan</th>\n",
              "      <th>contact</th>\n",
              "      <th>month</th>\n",
              "      <th>day_of_week</th>\n",
              "      <th>...</th>\n",
              "      <th>campaign</th>\n",
              "      <th>pdays</th>\n",
              "      <th>previous</th>\n",
              "      <th>poutcome</th>\n",
              "      <th>emp.var.rate</th>\n",
              "      <th>cons.price.idx</th>\n",
              "      <th>cons.conf.idx</th>\n",
              "      <th>euribor3m</th>\n",
              "      <th>nr.employed</th>\n",
              "      <th>y</th>\n",
              "    </tr>\n",
              "  </thead>\n",
              "  <tbody>\n",
              "    <tr>\n",
              "      <th>0</th>\n",
              "      <td>56</td>\n",
              "      <td>housemaid</td>\n",
              "      <td>married</td>\n",
              "      <td>basic.4y</td>\n",
              "      <td>no</td>\n",
              "      <td>no</td>\n",
              "      <td>no</td>\n",
              "      <td>telephone</td>\n",
              "      <td>may</td>\n",
              "      <td>mon</td>\n",
              "      <td>...</td>\n",
              "      <td>1</td>\n",
              "      <td>999</td>\n",
              "      <td>0</td>\n",
              "      <td>nonexistent</td>\n",
              "      <td>2022-01-01</td>\n",
              "      <td>93.994</td>\n",
              "      <td>-36.4</td>\n",
              "      <td>4.857</td>\n",
              "      <td>5191.0</td>\n",
              "      <td>no</td>\n",
              "    </tr>\n",
              "    <tr>\n",
              "      <th>1</th>\n",
              "      <td>57</td>\n",
              "      <td>services</td>\n",
              "      <td>married</td>\n",
              "      <td>high.school</td>\n",
              "      <td>unknown</td>\n",
              "      <td>no</td>\n",
              "      <td>no</td>\n",
              "      <td>telephone</td>\n",
              "      <td>may</td>\n",
              "      <td>mon</td>\n",
              "      <td>...</td>\n",
              "      <td>1</td>\n",
              "      <td>999</td>\n",
              "      <td>0</td>\n",
              "      <td>nonexistent</td>\n",
              "      <td>2022-01-01</td>\n",
              "      <td>93.994</td>\n",
              "      <td>-36.4</td>\n",
              "      <td>4.857</td>\n",
              "      <td>5191.0</td>\n",
              "      <td>no</td>\n",
              "    </tr>\n",
              "    <tr>\n",
              "      <th>2</th>\n",
              "      <td>37</td>\n",
              "      <td>services</td>\n",
              "      <td>married</td>\n",
              "      <td>high.school</td>\n",
              "      <td>no</td>\n",
              "      <td>yes</td>\n",
              "      <td>no</td>\n",
              "      <td>telephone</td>\n",
              "      <td>may</td>\n",
              "      <td>mon</td>\n",
              "      <td>...</td>\n",
              "      <td>1</td>\n",
              "      <td>999</td>\n",
              "      <td>0</td>\n",
              "      <td>nonexistent</td>\n",
              "      <td>2022-01-01</td>\n",
              "      <td>93.994</td>\n",
              "      <td>-36.4</td>\n",
              "      <td>4.857</td>\n",
              "      <td>5191.0</td>\n",
              "      <td>no</td>\n",
              "    </tr>\n",
              "    <tr>\n",
              "      <th>3</th>\n",
              "      <td>40</td>\n",
              "      <td>admin.</td>\n",
              "      <td>married</td>\n",
              "      <td>basic.6y</td>\n",
              "      <td>no</td>\n",
              "      <td>no</td>\n",
              "      <td>no</td>\n",
              "      <td>telephone</td>\n",
              "      <td>may</td>\n",
              "      <td>mon</td>\n",
              "      <td>...</td>\n",
              "      <td>1</td>\n",
              "      <td>999</td>\n",
              "      <td>0</td>\n",
              "      <td>nonexistent</td>\n",
              "      <td>2022-01-01</td>\n",
              "      <td>93.994</td>\n",
              "      <td>-36.4</td>\n",
              "      <td>4.857</td>\n",
              "      <td>5191.0</td>\n",
              "      <td>no</td>\n",
              "    </tr>\n",
              "    <tr>\n",
              "      <th>4</th>\n",
              "      <td>56</td>\n",
              "      <td>services</td>\n",
              "      <td>married</td>\n",
              "      <td>high.school</td>\n",
              "      <td>no</td>\n",
              "      <td>no</td>\n",
              "      <td>yes</td>\n",
              "      <td>telephone</td>\n",
              "      <td>may</td>\n",
              "      <td>mon</td>\n",
              "      <td>...</td>\n",
              "      <td>1</td>\n",
              "      <td>999</td>\n",
              "      <td>0</td>\n",
              "      <td>nonexistent</td>\n",
              "      <td>2022-01-01</td>\n",
              "      <td>93.994</td>\n",
              "      <td>-36.4</td>\n",
              "      <td>4.857</td>\n",
              "      <td>5191.0</td>\n",
              "      <td>no</td>\n",
              "    </tr>\n",
              "  </tbody>\n",
              "</table></div>"
            ],
            "text/plain": [
              "   age        job  marital    education  default housing loan    contact  \\\n",
              "0   56  housemaid  married     basic.4y       no      no   no  telephone   \n",
              "1   57   services  married  high.school  unknown      no   no  telephone   \n",
              "2   37   services  married  high.school       no     yes   no  telephone   \n",
              "3   40     admin.  married     basic.6y       no      no   no  telephone   \n",
              "4   56   services  married  high.school       no      no  yes  telephone   \n",
              "\n",
              "  month day_of_week  ...  campaign  pdays  previous     poutcome emp.var.rate  \\\n",
              "0   may         mon  ...         1    999         0  nonexistent   2022-01-01   \n",
              "1   may         mon  ...         1    999         0  nonexistent   2022-01-01   \n",
              "2   may         mon  ...         1    999         0  nonexistent   2022-01-01   \n",
              "3   may         mon  ...         1    999         0  nonexistent   2022-01-01   \n",
              "4   may         mon  ...         1    999         0  nonexistent   2022-01-01   \n",
              "\n",
              "  cons.price.idx  cons.conf.idx  euribor3m  nr.employed   y  \n",
              "0         93.994          -36.4      4.857       5191.0  no  \n",
              "1         93.994          -36.4      4.857       5191.0  no  \n",
              "2         93.994          -36.4      4.857       5191.0  no  \n",
              "3         93.994          -36.4      4.857       5191.0  no  \n",
              "4         93.994          -36.4      4.857       5191.0  no  \n",
              "\n",
              "[5 rows x 21 columns]"
            ]
          },
          "execution_count": 195,
          "metadata": {},
          "output_type": "execute_result"
        }
      ],
      "source": [
        "df.head()"
      ]
    },
    {
      "cell_type": "code",
      "execution_count": 194,
      "metadata": {},
      "outputs": [
        {
          "data": {
            "text/plain": [
              "age                   0\n",
              "job                   0\n",
              "marital               0\n",
              "education             0\n",
              "default               0\n",
              "housing               0\n",
              "loan                  0\n",
              "contact               0\n",
              "month                 0\n",
              "day_of_week           0\n",
              "duration              0\n",
              "campaign              0\n",
              "pdays                 0\n",
              "previous              0\n",
              "poutcome              0\n",
              "emp.var.rate      17191\n",
              "cons.price.idx        0\n",
              "cons.conf.idx         0\n",
              "euribor3m             0\n",
              "nr.employed       33425\n",
              "y                     0\n",
              "dtype: int64"
            ]
          },
          "execution_count": 194,
          "metadata": {},
          "output_type": "execute_result"
        }
      ],
      "source": [
        "df.isna().sum()"
      ]
    },
    {
      "cell_type": "code",
      "execution_count": 196,
      "metadata": {},
      "outputs": [
        {
          "data": {
            "text/html": [
              "<div><div id=ce51e9a6-4947-4692-beff-8f6e637fa01b style=\"display:none; background-color:#9D6CFF; color:white; width:200px; height:30px; padding-left:5px; border-radius:4px; flex-direction:row; justify-content:space-around; align-items:center;\" onmouseover=\"this.style.backgroundColor='#BA9BF8'\" onmouseout=\"this.style.backgroundColor='#9D6CFF'\" onclick=\"window.commands?.execute('create-mitosheet-from-dataframe-output');\">See Full Dataframe in Mito</div> <script> if (window.commands.hasCommand('create-mitosheet-from-dataframe-output')) document.getElementById('ce51e9a6-4947-4692-beff-8f6e637fa01b').style.display = 'flex' </script> <table border=\"1\" class=\"dataframe\">\n",
              "  <thead>\n",
              "    <tr style=\"text-align: right;\">\n",
              "      <th></th>\n",
              "      <th>age</th>\n",
              "      <th>duration</th>\n",
              "      <th>campaign</th>\n",
              "      <th>pdays</th>\n",
              "      <th>previous</th>\n",
              "      <th>cons.price.idx</th>\n",
              "      <th>cons.conf.idx</th>\n",
              "      <th>euribor3m</th>\n",
              "      <th>nr.employed</th>\n",
              "    </tr>\n",
              "  </thead>\n",
              "  <tbody>\n",
              "    <tr>\n",
              "      <th>count</th>\n",
              "      <td>41188.00000</td>\n",
              "      <td>41188.000000</td>\n",
              "      <td>41188.000000</td>\n",
              "      <td>41188.000000</td>\n",
              "      <td>41188.000000</td>\n",
              "      <td>41188.000000</td>\n",
              "      <td>41188.000000</td>\n",
              "      <td>41188.000000</td>\n",
              "      <td>7763.0</td>\n",
              "    </tr>\n",
              "    <tr>\n",
              "      <th>mean</th>\n",
              "      <td>40.02406</td>\n",
              "      <td>258.285010</td>\n",
              "      <td>2.567593</td>\n",
              "      <td>962.475454</td>\n",
              "      <td>0.172963</td>\n",
              "      <td>93.575664</td>\n",
              "      <td>-40.502600</td>\n",
              "      <td>3.621291</td>\n",
              "      <td>5191.0</td>\n",
              "    </tr>\n",
              "    <tr>\n",
              "      <th>std</th>\n",
              "      <td>10.42125</td>\n",
              "      <td>259.279249</td>\n",
              "      <td>2.770014</td>\n",
              "      <td>186.910907</td>\n",
              "      <td>0.494901</td>\n",
              "      <td>0.578840</td>\n",
              "      <td>4.628198</td>\n",
              "      <td>1.734447</td>\n",
              "      <td>0.0</td>\n",
              "    </tr>\n",
              "    <tr>\n",
              "      <th>min</th>\n",
              "      <td>17.00000</td>\n",
              "      <td>0.000000</td>\n",
              "      <td>1.000000</td>\n",
              "      <td>0.000000</td>\n",
              "      <td>0.000000</td>\n",
              "      <td>92.201000</td>\n",
              "      <td>-50.800000</td>\n",
              "      <td>0.634000</td>\n",
              "      <td>5191.0</td>\n",
              "    </tr>\n",
              "    <tr>\n",
              "      <th>25%</th>\n",
              "      <td>32.00000</td>\n",
              "      <td>102.000000</td>\n",
              "      <td>1.000000</td>\n",
              "      <td>999.000000</td>\n",
              "      <td>0.000000</td>\n",
              "      <td>93.075000</td>\n",
              "      <td>-42.700000</td>\n",
              "      <td>1.344000</td>\n",
              "      <td>5191.0</td>\n",
              "    </tr>\n",
              "    <tr>\n",
              "      <th>50%</th>\n",
              "      <td>38.00000</td>\n",
              "      <td>180.000000</td>\n",
              "      <td>2.000000</td>\n",
              "      <td>999.000000</td>\n",
              "      <td>0.000000</td>\n",
              "      <td>93.749000</td>\n",
              "      <td>-41.800000</td>\n",
              "      <td>4.857000</td>\n",
              "      <td>5191.0</td>\n",
              "    </tr>\n",
              "    <tr>\n",
              "      <th>75%</th>\n",
              "      <td>47.00000</td>\n",
              "      <td>319.000000</td>\n",
              "      <td>3.000000</td>\n",
              "      <td>999.000000</td>\n",
              "      <td>0.000000</td>\n",
              "      <td>93.994000</td>\n",
              "      <td>-36.400000</td>\n",
              "      <td>4.961000</td>\n",
              "      <td>5191.0</td>\n",
              "    </tr>\n",
              "    <tr>\n",
              "      <th>max</th>\n",
              "      <td>98.00000</td>\n",
              "      <td>4918.000000</td>\n",
              "      <td>56.000000</td>\n",
              "      <td>999.000000</td>\n",
              "      <td>7.000000</td>\n",
              "      <td>94.767000</td>\n",
              "      <td>-26.900000</td>\n",
              "      <td>5.045000</td>\n",
              "      <td>5191.0</td>\n",
              "    </tr>\n",
              "  </tbody>\n",
              "</table></div>"
            ],
            "text/plain": [
              "               age      duration      campaign         pdays      previous  \\\n",
              "count  41188.00000  41188.000000  41188.000000  41188.000000  41188.000000   \n",
              "mean      40.02406    258.285010      2.567593    962.475454      0.172963   \n",
              "std       10.42125    259.279249      2.770014    186.910907      0.494901   \n",
              "min       17.00000      0.000000      1.000000      0.000000      0.000000   \n",
              "25%       32.00000    102.000000      1.000000    999.000000      0.000000   \n",
              "50%       38.00000    180.000000      2.000000    999.000000      0.000000   \n",
              "75%       47.00000    319.000000      3.000000    999.000000      0.000000   \n",
              "max       98.00000   4918.000000     56.000000    999.000000      7.000000   \n",
              "\n",
              "       cons.price.idx  cons.conf.idx     euribor3m  nr.employed  \n",
              "count    41188.000000   41188.000000  41188.000000       7763.0  \n",
              "mean        93.575664     -40.502600      3.621291       5191.0  \n",
              "std          0.578840       4.628198      1.734447          0.0  \n",
              "min         92.201000     -50.800000      0.634000       5191.0  \n",
              "25%         93.075000     -42.700000      1.344000       5191.0  \n",
              "50%         93.749000     -41.800000      4.857000       5191.0  \n",
              "75%         93.994000     -36.400000      4.961000       5191.0  \n",
              "max         94.767000     -26.900000      5.045000       5191.0  "
            ]
          },
          "execution_count": 196,
          "metadata": {},
          "output_type": "execute_result"
        }
      ],
      "source": [
        "df.describe()"
      ]
    },
    {
      "cell_type": "code",
      "execution_count": 197,
      "metadata": {},
      "outputs": [],
      "source": [
        "df.drop(['emp.var.rate', 'nr.employed'], axis=1, inplace=True)"
      ]
    },
    {
      "cell_type": "code",
      "execution_count": 198,
      "metadata": {},
      "outputs": [],
      "source": [
        "import numpy as np"
      ]
    },
    {
      "cell_type": "code",
      "execution_count": 200,
      "metadata": {},
      "outputs": [],
      "source": [
        "df_num = df.select_dtypes(include=np.number)\n",
        "df_categorical = df.select_dtypes(exclude=np.number)"
      ]
    },
    {
      "cell_type": "code",
      "execution_count": 201,
      "metadata": {},
      "outputs": [
        {
          "data": {
            "text/plain": [
              "job        marital   education          default  housing  loan  contact    month  day_of_week  poutcome     y  \n",
              "admin.     single    university.degree  no       yes      no    cellular   aug    thu          nonexistent  no     60\n",
              "           married   university.degree  no       yes      no    cellular   aug    wed          nonexistent  no     55\n",
              "                                                                                  thu          nonexistent  no     51\n",
              "                                                                                  tue          nonexistent  no     49\n",
              "           single    university.degree  no       yes      no    cellular   aug    mon          nonexistent  no     45\n",
              "                                                                                                                   ..\n",
              "housemaid  divorced  basic.4y           unknown  no       no    cellular   mar    fri          nonexistent  yes     1\n",
              "                                                                telephone  jun    mon          nonexistent  no      1\n",
              "                                                                           may    fri          nonexistent  no      1\n",
              "                                                                                  mon          nonexistent  no      1\n",
              "unknown    unknown   unknown            unknown  yes      yes   cellular   jul    mon          nonexistent  no      1\n",
              "Length: 19757, dtype: int64"
            ]
          },
          "execution_count": 201,
          "metadata": {},
          "output_type": "execute_result"
        }
      ],
      "source": [
        "df_categorical.value_counts()"
      ]
    },
    {
      "cell_type": "code",
      "execution_count": 202,
      "metadata": {},
      "outputs": [],
      "source": [
        "import matplotlib.pyplot as plt\n",
        "import seaborn as sns"
      ]
    },
    {
      "cell_type": "code",
      "execution_count": 203,
      "metadata": {},
      "outputs": [
        {
          "data": {
            "image/png": "[encoded data removed]",
            "text/plain": [
              "<Figure size 864x504 with 2 Axes>"
            ]
          },
          "metadata": {
            "needs_background": "light"
          },
          "output_type": "display_data"
        }
      ],
      "source": [
        "fig, ax = plt.subplots(figsize= (12,7))\n",
        "\n",
        "corr = df_num.corr().round(2)\n",
        "\n",
        "# Generate a mask for the upper triangle\n",
        "mask = np.triu(np.ones_like(corr, dtype=bool))\n",
        "\n",
        "sns.heatmap(corr, annot=True, fmt=\"\", cmap='RdYlGn', mask=mask, linewidths=0.30, ax=ax)\n",
        "plt.show()"
      ]
    },
    {
      "cell_type": "code",
      "execution_count": 205,
      "metadata": {},
      "outputs": [
        {
          "data": {
            "text/plain": [
              "job        marital   education          default  housing  loan  contact    month  day_of_week  poutcome     y  \n",
              "admin.     single    university.degree  no       yes      no    cellular   aug    thu          nonexistent  no     60\n",
              "           married   university.degree  no       yes      no    cellular   aug    wed          nonexistent  no     55\n",
              "                                                                                  thu          nonexistent  no     51\n",
              "                                                                                  tue          nonexistent  no     49\n",
              "           single    university.degree  no       yes      no    cellular   aug    mon          nonexistent  no     45\n",
              "                                                                                                                   ..\n",
              "housemaid  divorced  basic.4y           unknown  no       no    cellular   mar    fri          nonexistent  yes     1\n",
              "                                                                telephone  jun    mon          nonexistent  no      1\n",
              "                                                                           may    fri          nonexistent  no      1\n",
              "                                                                                  mon          nonexistent  no      1\n",
              "unknown    unknown   unknown            unknown  yes      yes   cellular   jul    mon          nonexistent  no      1\n",
              "Length: 19757, dtype: int64"
            ]
          },
          "execution_count": 205,
          "metadata": {},
          "output_type": "execute_result"
        }
      ],
      "source": [
        "df_categorical.value_counts()"
      ]
    },
    {
      "cell_type": "code",
      "execution_count": 206,
      "metadata": {},
      "outputs": [
        {
          "data": {
            "text/plain": [
              "admin.           10422\n",
              "blue-collar       9254\n",
              "technician        6743\n",
              "services          3969\n",
              "management        2924\n",
              "retired           1720\n",
              "entrepreneur      1456\n",
              "self-employed     1421\n",
              "housemaid         1060\n",
              "unemployed        1014\n",
              "student            875\n",
              "unknown            330\n",
              "Name: job, dtype: int64"
            ]
          },
          "execution_count": 206,
          "metadata": {},
          "output_type": "execute_result"
        }
      ],
      "source": [
        "df['job'].value_counts()"
      ]
    },
    {
      "cell_type": "code",
      "execution_count": 207,
      "metadata": {},
      "outputs": [
        {
          "data": {
            "text/plain": [
              "array(['married', 'single', 'divorced', 'unknown'], dtype=object)"
            ]
          },
          "execution_count": 207,
          "metadata": {},
          "output_type": "execute_result"
        }
      ],
      "source": [
        "df['marital'].unique()"
      ]
    },
    {
      "cell_type": "code",
      "execution_count": 208,
      "metadata": {},
      "outputs": [
        {
          "data": {
            "text/plain": [
              "array(['basic.4y', 'high.school', 'basic.6y', 'basic.9y',\n",
              "       'professional.course', 'unknown', 'university.degree',\n",
              "       'illiterate'], dtype=object)"
            ]
          },
          "execution_count": 208,
          "metadata": {},
          "output_type": "execute_result"
        }
      ],
      "source": [
        "df['education'].unique()"
      ]
    },
    {
      "cell_type": "code",
      "execution_count": 209,
      "metadata": {},
      "outputs": [
        {
          "data": {
            "text/plain": [
              "array(['no', 'unknown', 'yes'], dtype=object)"
            ]
          },
          "execution_count": 209,
          "metadata": {},
          "output_type": "execute_result"
        }
      ],
      "source": [
        "df['default'].unique()"
      ]
    },
    {
      "cell_type": "code",
      "execution_count": 210,
      "metadata": {},
      "outputs": [
        {
          "data": {
            "text/plain": [
              "array(['no', 'yes', 'unknown'], dtype=object)"
            ]
          },
          "execution_count": 210,
          "metadata": {},
          "output_type": "execute_result"
        }
      ],
      "source": [
        "df['housing'].unique()"
      ]
    },
    {
      "cell_type": "code",
      "execution_count": 211,
      "metadata": {},
      "outputs": [
        {
          "data": {
            "text/plain": [
              "array(['no', 'yes', 'unknown'], dtype=object)"
            ]
          },
          "execution_count": 211,
          "metadata": {},
          "output_type": "execute_result"
        }
      ],
      "source": [
        "df['loan'].unique()"
      ]
    },
    {
      "cell_type": "code",
      "execution_count": 212,
      "metadata": {},
      "outputs": [
        {
          "data": {
            "text/plain": [
              "array(['telephone', 'cellular'], dtype=object)"
            ]
          },
          "execution_count": 212,
          "metadata": {},
          "output_type": "execute_result"
        }
      ],
      "source": [
        "df['contact'].unique()"
      ]
    },
    {
      "cell_type": "code",
      "execution_count": 213,
      "metadata": {},
      "outputs": [
        {
          "data": {
            "text/plain": [
              "array(['nonexistent', 'failure', 'success'], dtype=object)"
            ]
          },
          "execution_count": 213,
          "metadata": {},
          "output_type": "execute_result"
        }
      ],
      "source": [
        "df['poutcome'].unique()"
      ]
    },
    {
      "cell_type": "code",
      "execution_count": 214,
      "metadata": {},
      "outputs": [
        {
          "data": {
            "text/plain": [
              "array(['no', 'yes'], dtype=object)"
            ]
          },
          "execution_count": 214,
          "metadata": {},
          "output_type": "execute_result"
        }
      ],
      "source": [
        "df['y'].unique()"
      ]
    },
    {
      "cell_type": "code",
      "execution_count": 215,
      "metadata": {},
      "outputs": [],
      "source": [
        "\n",
        "df_dummy = pd.get_dummies(df, columns = ['job', 'marital', 'education', 'default', 'housing', 'loan', 'contact', 'month', 'day_of_week', 'poutcome', 'y'], drop_first=True)"
      ]
    },
    {
      "cell_type": "code",
      "execution_count": 216,
      "metadata": {},
      "outputs": [
        {
          "data": {
            "text/html": [
              "<div><div id=7500e5fd-8486-4a62-a810-3b4145279541 style=\"display:none; background-color:#9D6CFF; color:white; width:200px; height:30px; padding-left:5px; border-radius:4px; flex-direction:row; justify-content:space-around; align-items:center;\" onmouseover=\"this.style.backgroundColor='#BA9BF8'\" onmouseout=\"this.style.backgroundColor='#9D6CFF'\" onclick=\"window.commands?.execute('create-mitosheet-from-dataframe-output');\">See Full Dataframe in Mito</div> <script> if (window.commands.hasCommand('create-mitosheet-from-dataframe-output')) document.getElementById('7500e5fd-8486-4a62-a810-3b4145279541').style.display = 'flex' </script> <table border=\"1\" class=\"dataframe\">\n",
              "  <thead>\n",
              "    <tr style=\"text-align: right;\">\n",
              "      <th></th>\n",
              "      <th>age</th>\n",
              "      <th>duration</th>\n",
              "      <th>campaign</th>\n",
              "      <th>pdays</th>\n",
              "      <th>previous</th>\n",
              "      <th>cons.price.idx</th>\n",
              "      <th>cons.conf.idx</th>\n",
              "      <th>euribor3m</th>\n",
              "      <th>job_blue-collar</th>\n",
              "      <th>job_entrepreneur</th>\n",
              "      <th>...</th>\n",
              "      <th>month_nov</th>\n",
              "      <th>month_oct</th>\n",
              "      <th>month_sep</th>\n",
              "      <th>day_of_week_mon</th>\n",
              "      <th>day_of_week_thu</th>\n",
              "      <th>day_of_week_tue</th>\n",
              "      <th>day_of_week_wed</th>\n",
              "      <th>poutcome_nonexistent</th>\n",
              "      <th>poutcome_success</th>\n",
              "      <th>y_yes</th>\n",
              "    </tr>\n",
              "  </thead>\n",
              "  <tbody>\n",
              "    <tr>\n",
              "      <th>0</th>\n",
              "      <td>56</td>\n",
              "      <td>261</td>\n",
              "      <td>1</td>\n",
              "      <td>999</td>\n",
              "      <td>0</td>\n",
              "      <td>93.994</td>\n",
              "      <td>-36.4</td>\n",
              "      <td>4.857</td>\n",
              "      <td>0</td>\n",
              "      <td>0</td>\n",
              "      <td>...</td>\n",
              "      <td>0</td>\n",
              "      <td>0</td>\n",
              "      <td>0</td>\n",
              "      <td>1</td>\n",
              "      <td>0</td>\n",
              "      <td>0</td>\n",
              "      <td>0</td>\n",
              "      <td>1</td>\n",
              "      <td>0</td>\n",
              "      <td>0</td>\n",
              "    </tr>\n",
              "    <tr>\n",
              "      <th>1</th>\n",
              "      <td>57</td>\n",
              "      <td>149</td>\n",
              "      <td>1</td>\n",
              "      <td>999</td>\n",
              "      <td>0</td>\n",
              "      <td>93.994</td>\n",
              "      <td>-36.4</td>\n",
              "      <td>4.857</td>\n",
              "      <td>0</td>\n",
              "      <td>0</td>\n",
              "      <td>...</td>\n",
              "      <td>0</td>\n",
              "      <td>0</td>\n",
              "      <td>0</td>\n",
              "      <td>1</td>\n",
              "      <td>0</td>\n",
              "      <td>0</td>\n",
              "      <td>0</td>\n",
              "      <td>1</td>\n",
              "      <td>0</td>\n",
              "      <td>0</td>\n",
              "    </tr>\n",
              "    <tr>\n",
              "      <th>2</th>\n",
              "      <td>37</td>\n",
              "      <td>226</td>\n",
              "      <td>1</td>\n",
              "      <td>999</td>\n",
              "      <td>0</td>\n",
              "      <td>93.994</td>\n",
              "      <td>-36.4</td>\n",
              "      <td>4.857</td>\n",
              "      <td>0</td>\n",
              "      <td>0</td>\n",
              "      <td>...</td>\n",
              "      <td>0</td>\n",
              "      <td>0</td>\n",
              "      <td>0</td>\n",
              "      <td>1</td>\n",
              "      <td>0</td>\n",
              "      <td>0</td>\n",
              "      <td>0</td>\n",
              "      <td>1</td>\n",
              "      <td>0</td>\n",
              "      <td>0</td>\n",
              "    </tr>\n",
              "    <tr>\n",
              "      <th>3</th>\n",
              "      <td>40</td>\n",
              "      <td>151</td>\n",
              "      <td>1</td>\n",
              "      <td>999</td>\n",
              "      <td>0</td>\n",
              "      <td>93.994</td>\n",
              "      <td>-36.4</td>\n",
              "      <td>4.857</td>\n",
              "      <td>0</td>\n",
              "      <td>0</td>\n",
              "      <td>...</td>\n",
              "      <td>0</td>\n",
              "      <td>0</td>\n",
              "      <td>0</td>\n",
              "      <td>1</td>\n",
              "      <td>0</td>\n",
              "      <td>0</td>\n",
              "      <td>0</td>\n",
              "      <td>1</td>\n",
              "      <td>0</td>\n",
              "      <td>0</td>\n",
              "    </tr>\n",
              "    <tr>\n",
              "      <th>4</th>\n",
              "      <td>56</td>\n",
              "      <td>307</td>\n",
              "      <td>1</td>\n",
              "      <td>999</td>\n",
              "      <td>0</td>\n",
              "      <td>93.994</td>\n",
              "      <td>-36.4</td>\n",
              "      <td>4.857</td>\n",
              "      <td>0</td>\n",
              "      <td>0</td>\n",
              "      <td>...</td>\n",
              "      <td>0</td>\n",
              "      <td>0</td>\n",
              "      <td>0</td>\n",
              "      <td>1</td>\n",
              "      <td>0</td>\n",
              "      <td>0</td>\n",
              "      <td>0</td>\n",
              "      <td>1</td>\n",
              "      <td>0</td>\n",
              "      <td>0</td>\n",
              "    </tr>\n",
              "  </tbody>\n",
              "</table></div>"
            ],
            "text/plain": [
              "   age  duration  campaign  pdays  previous  cons.price.idx  cons.conf.idx  \\\n",
              "0   56       261         1    999         0          93.994          -36.4   \n",
              "1   57       149         1    999         0          93.994          -36.4   \n",
              "2   37       226         1    999         0          93.994          -36.4   \n",
              "3   40       151         1    999         0          93.994          -36.4   \n",
              "4   56       307         1    999         0          93.994          -36.4   \n",
              "\n",
              "   euribor3m  job_blue-collar  job_entrepreneur  ...  month_nov  month_oct  \\\n",
              "0      4.857                0                 0  ...          0          0   \n",
              "1      4.857                0                 0  ...          0          0   \n",
              "2      4.857                0                 0  ...          0          0   \n",
              "3      4.857                0                 0  ...          0          0   \n",
              "4      4.857                0                 0  ...          0          0   \n",
              "\n",
              "   month_sep  day_of_week_mon  day_of_week_thu  day_of_week_tue  \\\n",
              "0          0                1                0                0   \n",
              "1          0                1                0                0   \n",
              "2          0                1                0                0   \n",
              "3          0                1                0                0   \n",
              "4          0                1                0                0   \n",
              "\n",
              "   day_of_week_wed  poutcome_nonexistent  poutcome_success  y_yes  \n",
              "0                0                     1                 0      0  \n",
              "1                0                     1                 0      0  \n",
              "2                0                     1                 0      0  \n",
              "3                0                     1                 0      0  \n",
              "4                0                     1                 0      0  \n",
              "\n",
              "[5 rows x 52 columns]"
            ]
          },
          "execution_count": 216,
          "metadata": {},
          "output_type": "execute_result"
        }
      ],
      "source": [
        "df_dummy.head()"
      ]
    },
    {
      "cell_type": "code",
      "execution_count": 217,
      "metadata": {},
      "outputs": [
        {
          "data": {
            "text/plain": [
              "age                                int64\n",
              "duration                           int64\n",
              "campaign                           int64\n",
              "pdays                              int64\n",
              "previous                           int64\n",
              "cons.price.idx                   float64\n",
              "cons.conf.idx                    float64\n",
              "euribor3m                        float64\n",
              "job_blue-collar                    uint8\n",
              "job_entrepreneur                   uint8\n",
              "job_housemaid                      uint8\n",
              "job_management                     uint8\n",
              "job_retired                        uint8\n",
              "job_self-employed                  uint8\n",
              "job_services                       uint8\n",
              "job_student                        uint8\n",
              "job_technician                     uint8\n",
              "job_unemployed                     uint8\n",
              "job_unknown                        uint8\n",
              "marital_married                    uint8\n",
              "marital_single                     uint8\n",
              "marital_unknown                    uint8\n",
              "education_basic.6y                 uint8\n",
              "education_basic.9y                 uint8\n",
              "education_high.school              uint8\n",
              "education_illiterate               uint8\n",
              "education_professional.course      uint8\n",
              "education_university.degree        uint8\n",
              "education_unknown                  uint8\n",
              "default_unknown                    uint8\n",
              "default_yes                        uint8\n",
              "housing_unknown                    uint8\n",
              "housing_yes                        uint8\n",
              "loan_unknown                       uint8\n",
              "loan_yes                           uint8\n",
              "contact_telephone                  uint8\n",
              "month_aug                          uint8\n",
              "month_dec                          uint8\n",
              "month_jul                          uint8\n",
              "month_jun                          uint8\n",
              "month_mar                          uint8\n",
              "month_may                          uint8\n",
              "month_nov                          uint8\n",
              "month_oct                          uint8\n",
              "month_sep                          uint8\n",
              "day_of_week_mon                    uint8\n",
              "day_of_week_thu                    uint8\n",
              "day_of_week_tue                    uint8\n",
              "day_of_week_wed                    uint8\n",
              "poutcome_nonexistent               uint8\n",
              "poutcome_success                   uint8\n",
              "y_yes                              uint8\n",
              "dtype: object"
            ]
          },
          "execution_count": 217,
          "metadata": {},
          "output_type": "execute_result"
        }
      ],
      "source": [
        "df_dummy.dtypes"
      ]
    },
    {
      "cell_type": "markdown",
      "metadata": {
        "id": "MPrB6mNSyHg5"
      },
      "source": [
        "Step 2. List your features"
      ]
    },
    {
      "cell_type": "code",
      "execution_count": 218,
      "metadata": {
        "id": "178yrku5yfYc"
      },
      "outputs": [
        {
          "name": "stdout",
          "output_type": "stream",
          "text": [
            "(41188, 51)\n",
            "(41188,)\n",
            "(32950, 51)\n",
            "(32950,)\n",
            "(8238, 51)\n",
            "(8238,)\n"
          ]
        }
      ],
      "source": [
        "from sklearn.model_selection import train_test_split\n",
        "\n",
        "# Your code here:\n",
        "\n",
        "x = df_dummy.drop(['y_yes'], axis=1)\n",
        "y = df_dummy['y_yes']\n",
        "# print(x.head())\n",
        "print(x.shape)\n",
        "# print(y.head())\n",
        "print(y.shape)\n",
        "\n",
        "\n",
        "x_train, x_test, y_train, y_test = train_test_split(x, y, test_size=0.2, random_state=42)\n",
        "print(x_train.shape)\n",
        "print(y_train.shape)\n",
        "print(x_test.shape)\n",
        "print(y_test.shape)\n"
      ]
    },
    {
      "cell_type": "markdown",
      "metadata": {
        "id": "XoUOhvuiyNsc"
      },
      "source": [
        "Step 3. Apply the RandomForestClassifier and LogisticRegression model with default parameters to your data \n",
        "What is the accuracy for your models?"
      ]
    },
    {
      "cell_type": "code",
      "execution_count": 220,
      "metadata": {
        "id": "9lQmeMMNyf9i"
      },
      "outputs": [],
      "source": [
        "from sklearn.linear_model import LogisticRegression\n",
        "\n",
        "lr = LogisticRegression(random_state = 0, solver='lbfgs', multi_class='auto', max_iter=2000)\n",
        "\n",
        "\n",
        "lr.fit(x_train, y_train)\n",
        "\n",
        "y_pred = lr.predict(x_test)\n",
        "# Predict probabilities\n",
        "probs_y=lr.predict_proba(x_test)\n",
        "### Print results \n",
        "probs_y = np.round(probs_y, 2)\n",
        "\n",
        "from sklearn.metrics import classification_report\n",
        "from sklearn.metrics import confusion_matrix"
      ]
    },
    {
      "cell_type": "code",
      "execution_count": 221,
      "metadata": {},
      "outputs": [],
      "source": [
        "def generate_results(model, predictions, name):\n",
        "    cl_rep = classification_report(y_test, predictions)\n",
        "    print(\"\\nThe classification report for \" + name + \" is:\", cl_rep, sep = \"\\n\")\n",
        "    cm_model = confusion_matrix(y_test, predictions)\n",
        "    plt.figure(figsize = (8, 6))\n",
        "    sns.heatmap(cm_model, annot = True, cmap = 'Blues', annot_kws = {'size': 15}, square = True)\n",
        "    plt.title('Confusion Matrix for ' + name, size = 15)\n",
        "    plt.xticks(size = 15)\n",
        "    plt.yticks(size = 15)\n",
        "    plt.show() "
      ]
    },
    {
      "cell_type": "code",
      "execution_count": 222,
      "metadata": {},
      "outputs": [
        {
          "name": "stdout",
          "output_type": "stream",
          "text": [
            "The accuracy of the Logistic Regression is: 90.99295945617868 %\n",
            "\n",
            "The classification report for Logistic Regression is:\n",
            "              precision    recall  f1-score   support\n",
            "\n",
            "           0       0.93      0.97      0.95      7303\n",
            "           1       0.66      0.42      0.52       935\n",
            "\n",
            "    accuracy                           0.91      8238\n",
            "   macro avg       0.80      0.70      0.73      8238\n",
            "weighted avg       0.90      0.91      0.90      8238\n",
            "\n"
          ]
        },
        {
          "data": {
            "image/png": "[encoded data removed]",
            "text/plain": [
              "<Figure size 576x432 with 2 Axes>"
            ]
          },
          "metadata": {
            "needs_background": "light"
          },
          "output_type": "display_data"
        }
      ],
      "source": [
        "print('The accuracy of the Logistic Regression is:', lr.score(x_test, y_test) * 100, '%')\n",
        "generate_results(lr, y_pred, 'Logistic Regression')"
      ]
    },
    {
      "cell_type": "code",
      "execution_count": 223,
      "metadata": {},
      "outputs": [],
      "source": [
        "import pandas as pd\n",
        "import numpy as np\n",
        "import seaborn as sns\n",
        "import matplotlib.pyplot as plt\n",
        "from sklearn.model_selection import train_test_split\n",
        "from pandas.plotting import parallel_coordinates\n",
        "from sklearn.tree import DecisionTreeClassifier, plot_tree\n",
        "from sklearn import metrics\n",
        "from sklearn.naive_bayes import GaussianNB\n",
        "from sklearn.discriminant_analysis import LinearDiscriminantAnalysis, QuadraticDiscriminantAnalysis\n",
        "from sklearn.neighbors import KNeighborsClassifier\n",
        "from sklearn.svm import SVC\n",
        "from sklearn.linear_model import LogisticRegression"
      ]
    },
    {
      "cell_type": "code",
      "execution_count": 224,
      "metadata": {},
      "outputs": [
        {
          "name": "stdout",
          "output_type": "stream",
          "text": [
            "The accuracy of the Random Forest Classifier is: 91.18718135469774 %\n",
            "\n",
            "The classification report for Random Forest Classifier is:\n",
            "              precision    recall  f1-score   support\n",
            "\n",
            "           0       0.94      0.97      0.95      7303\n",
            "           1       0.65      0.49      0.56       935\n",
            "\n",
            "    accuracy                           0.91      8238\n",
            "   macro avg       0.79      0.73      0.75      8238\n",
            "weighted avg       0.90      0.91      0.91      8238\n",
            "\n"
          ]
        },
        {
          "data": {
            "image/png": "[encoded data removed]",
            "text/plain": [
              "<Figure size 576x432 with 2 Axes>"
            ]
          },
          "metadata": {
            "needs_background": "light"
          },
          "output_type": "display_data"
        }
      ],
      "source": [
        "#Random Forest\n",
        "\n",
        "from sklearn.ensemble import RandomForestClassifier\n",
        "\n",
        "rfc = RandomForestClassifier()\n",
        "rfc.fit(x_train, y_train)\n",
        "y_pred = rfc.predict(x_test)\n",
        "acc_rfc = rfc.score(x_test, y_test)\n",
        "print('The accuracy of the Random Forest Classifier is:', acc_rfc * 100, '%')\n",
        "generate_results(rfc, y_pred, 'Random Forest Classifier')"
      ]
    },
    {
      "cell_type": "markdown",
      "metadata": {
        "id": "qIG-oSLKyR7v"
      },
      "source": [
        "\n",
        "Step 4. Select features using SelectFromModel method. Explain, how you define the optimal number of features\n"
      ]
    },
    {
      "cell_type": "code",
      "execution_count": 226,
      "metadata": {},
      "outputs": [],
      "source": [
        "from sklearn.feature_selection import SelectFromModel\n",
        "\n",
        "sfm_selector = SelectFromModel(estimator=RandomForestClassifier())\n",
        "s=sfm_selector.fit(x_train, y_train)"
      ]
    },
    {
      "cell_type": "code",
      "execution_count": 227,
      "metadata": {
        "id": "1gu17-s3ygub"
      },
      "outputs": [
        {
          "data": {
            "text/plain": [
              "8"
            ]
          },
          "execution_count": 227,
          "metadata": {},
          "output_type": "execute_result"
        }
      ],
      "source": [
        "n_features = s.transform(x_train).shape[1]\n",
        "n_features\n"
      ]
    },
    {
      "cell_type": "code",
      "execution_count": 228,
      "metadata": {},
      "outputs": [
        {
          "data": {
            "text/plain": [
              "['age',\n",
              " 'duration',\n",
              " 'campaign',\n",
              " 'pdays',\n",
              " 'cons.price.idx',\n",
              " 'cons.conf.idx',\n",
              " 'euribor3m',\n",
              " 'poutcome_success']"
            ]
          },
          "execution_count": 228,
          "metadata": {},
          "output_type": "execute_result"
        }
      ],
      "source": [
        "features_idx = s.get_support()\n",
        "features_names = x_train.columns[features_idx]\n",
        "selected_features = features_names.to_list()\n",
        "selected_features"
      ]
    },
    {
      "cell_type": "markdown",
      "metadata": {
        "id": "-bV-demNyVBQ"
      },
      "source": [
        "\n",
        "Step 5. Apply the RandomForestClassifier and LogisticRegression model with default parameters to your data (only selected features). What is the accuracy for your models?"
      ]
    },
    {
      "cell_type": "code",
      "execution_count": 233,
      "metadata": {
        "id": "19_2unWgyhgi"
      },
      "outputs": [],
      "source": [
        "df_clean_dummy = df_dummy[selected_features + ['y_yes']]\n",
        "\n",
        "x_subset = df_clean_dummy.drop('y_yes', axis = 1)\n",
        "y_subset = df_clean_dummy['y_yes']\n",
        "x_subset_train, x_subset_test, y_subset_train, y_subset_test = train_test_split(x_subset, y_subset, test_size=0.2, random_state=42)"
      ]
    },
    {
      "cell_type": "code",
      "execution_count": 235,
      "metadata": {},
      "outputs": [
        {
          "name": "stdout",
          "output_type": "stream",
          "text": [
            "Accuracy score: 0.909\n",
            "[[7117  186]\n",
            " [ 567  368]]\n"
          ]
        }
      ],
      "source": [
        "from sklearn.metrics import confusion_matrix, accuracy_score\n",
        "\n",
        "lr = LogisticRegression(random_state=42)\n",
        "lr.fit(x_subset_train, y_subset_train)\n",
        "y_subset_pred = lr.predict(x_subset_test)\n",
        "print(f'Accuracy score: {accuracy_score(y_subset_test, y_subset_pred):.3f}')\n",
        "print(confusion_matrix(y_subset_test, y_subset_pred))"
      ]
    },
    {
      "cell_type": "code",
      "execution_count": 237,
      "metadata": {},
      "outputs": [
        {
          "name": "stdout",
          "output_type": "stream",
          "text": [
            "The accuracy of the Random Forest Classifier is: 90.81087642631707 %\n",
            "\n",
            "The classification report for Random Forest Classifier is:\n",
            "              precision    recall  f1-score   support\n",
            "\n",
            "           0       0.94      0.96      0.95      7303\n",
            "           1       0.61      0.53      0.57       935\n",
            "\n",
            "    accuracy                           0.91      8238\n",
            "   macro avg       0.78      0.74      0.76      8238\n",
            "weighted avg       0.90      0.91      0.91      8238\n",
            "\n"
          ]
        },
        {
          "data": {
            "image/png": "[encoded data removed]",
            "text/plain": [
              "<Figure size 576x432 with 2 Axes>"
            ]
          },
          "metadata": {
            "needs_background": "light"
          },
          "output_type": "display_data"
        }
      ],
      "source": [
        "rfc = RandomForestClassifier()\n",
        "rfc.fit(x_subset_train, y_subset_train)\n",
        "y_subset_pred = rfc.predict(x_subset_test)\n",
        "acc_rfc = rfc.score(x_subset_test, y_subset_test)\n",
        "print('The accuracy of the Random Forest Classifier is:', acc_rfc * 100, '%')\n",
        "generate_results(rfc, y_subset_pred, 'Random Forest Classifier')"
      ]
    },
    {
      "cell_type": "markdown",
      "metadata": {
        "id": "s_EcvHZEyYAj"
      },
      "source": [
        "\n",
        "Step 6. Select features using RFE and RFECV methods. Explain, how you define the optimal number of features for each of the cases."
      ]
    },
    {
      "cell_type": "code",
      "execution_count": 238,
      "metadata": {
        "id": "O3s1Abx9yiH0"
      },
      "outputs": [
        {
          "name": "stdout",
          "output_type": "stream",
          "text": [
            "Fitting estimator with 51 features.\n",
            "Fitting estimator with 46 features.\n",
            "Fitting estimator with 41 features.\n",
            "Fitting estimator with 36 features.\n",
            "Fitting estimator with 31 features.\n",
            "Fitting estimator with 26 features.\n",
            "Fitting estimator with 21 features.\n",
            "Fitting estimator with 16 features.\n",
            "Fitting estimator with 11 features.\n",
            "['age', 'duration', 'campaign', 'pdays', 'cons.price.idx', 'cons.conf.idx', 'euribor3m']\n",
            "Num Features: 7\n"
          ]
        }
      ],
      "source": [
        "from sklearn.feature_selection import RFE\n",
        "rfe_selector = RFE(estimator=RandomForestClassifier(random_state=42),n_features_to_select = 7, step = 5, verbose = 1)\n",
        "m=rfe_selector.fit(x_train, y_train)\n",
        "rfe_selected_features = x_train.columns[m.get_support()].to_list()\n",
        "print(rfe_selected_features)\n",
        "print(\"Num Features: %s\" % (m.n_features_))"
      ]
    },
    {
      "cell_type": "code",
      "execution_count": 239,
      "metadata": {},
      "outputs": [],
      "source": [
        "from sklearn.feature_selection import RFECV\n",
        "\n",
        "rfecv = RFECV(\n",
        "    estimator=RandomForestClassifier(random_state=42),\n",
        "    step=5,\n",
        "    n_jobs=-1,\n",
        "    cv=5,\n",
        "    verbose = 1\n",
        ")"
      ]
    },
    {
      "cell_type": "code",
      "execution_count": 240,
      "metadata": {},
      "outputs": [
        {
          "name": "stdout",
          "output_type": "stream",
          "text": [
            "Fitting estimator with 51 features.\n",
            "Fitting estimator with 46 features.\n",
            "Fitting estimator with 41 features.\n",
            "Fitting estimator with 36 features.\n",
            "['age', 'duration', 'campaign', 'pdays', 'previous', 'cons.price.idx', 'cons.conf.idx', 'euribor3m', 'job_blue-collar', 'job_management', 'job_services', 'job_technician', 'marital_married', 'marital_single', 'education_basic.9y', 'education_high.school', 'education_professional.course', 'education_university.degree', 'default_unknown', 'housing_yes', 'loan_yes', 'contact_telephone', 'month_mar', 'month_may', 'month_oct', 'day_of_week_mon', 'day_of_week_thu', 'day_of_week_tue', 'day_of_week_wed', 'poutcome_nonexistent', 'poutcome_success']\n",
            "Num Features: 31\n"
          ]
        }
      ],
      "source": [
        "m= rfecv.fit(x_train, y_train)\n",
        "rfecv_selected_features = x_train.columns[m.get_support()].to_list()\n",
        "print(rfecv_selected_features)\n",
        "print(\"Num Features: %s\" % (m.n_features_))"
      ]
    },
    {
      "cell_type": "code",
      "execution_count": 244,
      "metadata": {},
      "outputs": [],
      "source": [
        "rfecv_selected_features = dset.iloc[0:7,0].to_list()"
      ]
    },
    {
      "cell_type": "markdown",
      "metadata": {
        "id": "m9OmWQP5ybBw"
      },
      "source": [
        "Step 7. Apply the RandomForestClassifier and LogisticRegression model with default parameters to your data (you will have 4 models, taking into account two sets of features that you got). What is the accuracy for your models?\n"
      ]
    },
    {
      "cell_type": "code",
      "execution_count": 245,
      "metadata": {
        "id": "HU4cha-ryiqR"
      },
      "outputs": [
        {
          "name": "stdout",
          "output_type": "stream",
          "text": [
            "Accuracy score: 0.909\n",
            "[[7117  186]\n",
            " [ 567  368]]\n"
          ]
        }
      ],
      "source": [
        "# Logistic regression with selected features from RFE\n",
        "lr = LogisticRegression(random_state=42)\n",
        "\n",
        "x_subset_train = x_train[rfe_selected_features]\n",
        "x_subset_test = x_test[rfe_selected_features]\n",
        "\n",
        "\n",
        "lr.fit(x_subset_train, y_subset_train)\n",
        "y_subset_pred = lr.predict(x_subset_test)\n",
        "print(f'Accuracy score: {accuracy_score(y_subset_test, y_subset_pred):.3f}')\n",
        "print(confusion_matrix(y_subset_test, y_subset_pred))"
      ]
    },
    {
      "cell_type": "code",
      "execution_count": 246,
      "metadata": {},
      "outputs": [
        {
          "name": "stdout",
          "output_type": "stream",
          "text": [
            "Accuracy score: 0.911\n",
            "[[6994  309]\n",
            " [ 428  507]]\n"
          ]
        }
      ],
      "source": [
        "rfc = RandomForestClassifier(random_state=42)\n",
        "\n",
        "x_subset_train = x_train[rfe_selected_features]\n",
        "x_subset_test = x_test[rfe_selected_features]\n",
        "\n",
        "\n",
        "rfc.fit(x_subset_train, y_subset_train)\n",
        "y_subset_pred = rfc.predict(x_subset_test)\n",
        "print(f'Accuracy score: {accuracy_score(y_subset_test, y_subset_pred):.3f}')\n",
        "print(confusion_matrix(y_subset_test, y_subset_pred))"
      ]
    },
    {
      "cell_type": "markdown",
      "metadata": {
        "id": "37SCDzF0yBZC"
      },
      "source": [
        "\n",
        "\n",
        "\n",
        "\n",
        "\n",
        "\n",
        "\n",
        "\n",
        "\n",
        "Step 8. Please make the conclusion about the utility of the feature selection"
      ]
    },
    {
      "cell_type": "code",
      "execution_count": null,
      "metadata": {
        "id": "35gKrW65f9Ym"
      },
      "outputs": [],
      "source": [
        "#Much ado about nothing in this example: no significant improvement after feature selection "
      ]
    },
    {
      "cell_type": "code",
      "execution_count": null,
      "metadata": {
        "id": "xMG7-WLtx_kz"
      },
      "outputs": [],
      "source": []
    }
  ],
  "metadata": {
    "colab": {
      "collapsed_sections": [
        "gDkJXhN9fhcA",
        "49TTLiq7fhcF",
        "TciEBCyXfhcG",
        "memkwXoPfhcH",
        "t5SyM4bTfhcH",
        "SufgsNC1fhcI",
        "6nbSfbWWfhcJ",
        "tbCazUjNfhcK",
        "8ctUrk4DfhcL",
        "UfPYpqjHfhcM",
        "oDMV_zHffhcM",
        "128J08eFfhcP",
        "auNRd2TjfhcQ",
        "x6NQcl_vfhcR",
        "m1cfmFmWfhcS",
        "eNxu-scifhcT",
        "o0Llo0cNfhcT",
        "Aj0qu-_1fhcU",
        "aNZMlA9RfhcX",
        "LTOHBfanfhcY",
        "EXhmXFJifhcb"
      ],
      "name": "main.ipynb",
      "provenance": []
    },
    "kernelspec": {
      "display_name": "Python 3",
      "language": "python",
      "name": "python3"
    },
    "language_info": {
      "codemirror_mode": {
        "name": "ipython",
        "version": 3
      },
      "file_extension": ".py",
      "mimetype": "text/x-python",
      "name": "python",
      "nbconvert_exporter": "python",
      "pygments_lexer": "ipython3",
      "version": "3.9.12"
    }
  },
  "nbformat": 4,
  "nbformat_minor": 0
}
