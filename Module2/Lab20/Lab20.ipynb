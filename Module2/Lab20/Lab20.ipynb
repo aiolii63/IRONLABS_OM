{
  "cells": [
    {
      "cell_type": "markdown",
      "metadata": {
        "id": "F9o3Ygk-OcmZ"
      },
      "source": [
        "# Before your start:\n",
        "- Read the README.md file\n",
        "- Comment as much as you can and use the resources (README.md file)\n",
        "- Happy learning!"
      ]
    },
    {
      "cell_type": "code",
      "execution_count": 19,
      "metadata": {
        "colab": {
          "base_uri": "https://localhost:8080/"
        },
        "id": "DTjctqYAOcmc",
        "outputId": "09a3a21e-31b9-4c13-fe3f-0618d89b3904"
      },
      "outputs": [],
      "source": [
        "# Libraries\n",
        "import pandas as pd\n",
        "import matplotlib.pyplot as plt\n",
        "import statsmodels.api as sm\n",
        "from pandas.plotting import lag_plot\n",
        "from statsmodels.tsa.stattools import adfuller\n",
        "import numpy as np\n",
        "import warnings\n",
        "\n",
        "# Setup\n",
        "warnings.filterwarnings(\"ignore\")"
      ]
    },
    {
      "cell_type": "markdown",
      "metadata": {
        "id": "IhBS6XSFOcmd"
      },
      "source": [
        "# Challenge 1 - Loading and Evaluating The Data\n",
        "\n",
        "In this lab, we will look at a dataset of sensor data from a cellular phone. The phone was carried in the subject's pocket for a few minutes while they walked around.\n",
        "\n",
        "To load the data, run the code below."
      ]
    },
    {
      "cell_type": "code",
      "execution_count": 3,
      "metadata": {
        "id": "-hvvxCnlOcme"
      },
      "outputs": [
        {
          "data": {
            "text/html": [
              "<div>\n",
              "<style scoped>\n",
              "    .dataframe tbody tr th:only-of-type {\n",
              "        vertical-align: middle;\n",
              "    }\n",
              "\n",
              "    .dataframe tbody tr th {\n",
              "        vertical-align: top;\n",
              "    }\n",
              "\n",
              "    .dataframe thead th {\n",
              "        text-align: right;\n",
              "    }\n",
              "</style>\n",
              "<table border=\"1\" class=\"dataframe\">\n",
              "  <thead>\n",
              "    <tr style=\"text-align: right;\">\n",
              "      <th></th>\n",
              "      <th>Unnamed: 0</th>\n",
              "      <th>attitude.roll</th>\n",
              "      <th>attitude.pitch</th>\n",
              "      <th>attitude.yaw</th>\n",
              "      <th>gravity.x</th>\n",
              "      <th>gravity.y</th>\n",
              "      <th>gravity.z</th>\n",
              "      <th>rotationRate.x</th>\n",
              "      <th>rotationRate.y</th>\n",
              "      <th>rotationRate.z</th>\n",
              "      <th>userAcceleration.x</th>\n",
              "      <th>userAcceleration.y</th>\n",
              "      <th>userAcceleration.z</th>\n",
              "    </tr>\n",
              "  </thead>\n",
              "  <tbody>\n",
              "    <tr>\n",
              "      <th>0</th>\n",
              "      <td>0</td>\n",
              "      <td>1.528132</td>\n",
              "      <td>-0.733896</td>\n",
              "      <td>0.696372</td>\n",
              "      <td>0.741895</td>\n",
              "      <td>0.669768</td>\n",
              "      <td>-0.031672</td>\n",
              "      <td>0.316738</td>\n",
              "      <td>0.778180</td>\n",
              "      <td>1.082764</td>\n",
              "      <td>0.294894</td>\n",
              "      <td>-0.184493</td>\n",
              "      <td>0.377542</td>\n",
              "    </tr>\n",
              "    <tr>\n",
              "      <th>1</th>\n",
              "      <td>1</td>\n",
              "      <td>1.527992</td>\n",
              "      <td>-0.716987</td>\n",
              "      <td>0.677762</td>\n",
              "      <td>0.753099</td>\n",
              "      <td>0.657116</td>\n",
              "      <td>-0.032255</td>\n",
              "      <td>0.842032</td>\n",
              "      <td>0.424446</td>\n",
              "      <td>0.643574</td>\n",
              "      <td>0.219405</td>\n",
              "      <td>0.035846</td>\n",
              "      <td>0.114866</td>\n",
              "    </tr>\n",
              "    <tr>\n",
              "      <th>2</th>\n",
              "      <td>2</td>\n",
              "      <td>1.527765</td>\n",
              "      <td>-0.706999</td>\n",
              "      <td>0.670951</td>\n",
              "      <td>0.759611</td>\n",
              "      <td>0.649555</td>\n",
              "      <td>-0.032707</td>\n",
              "      <td>-0.138143</td>\n",
              "      <td>-0.040741</td>\n",
              "      <td>0.343563</td>\n",
              "      <td>0.010714</td>\n",
              "      <td>0.134701</td>\n",
              "      <td>-0.167808</td>\n",
              "    </tr>\n",
              "    <tr>\n",
              "      <th>3</th>\n",
              "      <td>3</td>\n",
              "      <td>1.516768</td>\n",
              "      <td>-0.704678</td>\n",
              "      <td>0.675735</td>\n",
              "      <td>0.760709</td>\n",
              "      <td>0.647788</td>\n",
              "      <td>-0.041140</td>\n",
              "      <td>-0.025005</td>\n",
              "      <td>-1.048717</td>\n",
              "      <td>0.035860</td>\n",
              "      <td>-0.008389</td>\n",
              "      <td>0.136788</td>\n",
              "      <td>0.094958</td>\n",
              "    </tr>\n",
              "    <tr>\n",
              "      <th>4</th>\n",
              "      <td>4</td>\n",
              "      <td>1.493941</td>\n",
              "      <td>-0.703918</td>\n",
              "      <td>0.672994</td>\n",
              "      <td>0.760062</td>\n",
              "      <td>0.647210</td>\n",
              "      <td>-0.058530</td>\n",
              "      <td>0.114253</td>\n",
              "      <td>-0.912890</td>\n",
              "      <td>0.047341</td>\n",
              "      <td>0.199441</td>\n",
              "      <td>0.353996</td>\n",
              "      <td>-0.044299</td>\n",
              "    </tr>\n",
              "    <tr>\n",
              "      <th>...</th>\n",
              "      <td>...</td>\n",
              "      <td>...</td>\n",
              "      <td>...</td>\n",
              "      <td>...</td>\n",
              "      <td>...</td>\n",
              "      <td>...</td>\n",
              "      <td>...</td>\n",
              "      <td>...</td>\n",
              "      <td>...</td>\n",
              "      <td>...</td>\n",
              "      <td>...</td>\n",
              "      <td>...</td>\n",
              "      <td>...</td>\n",
              "    </tr>\n",
              "    <tr>\n",
              "      <th>1746</th>\n",
              "      <td>1746</td>\n",
              "      <td>1.797120</td>\n",
              "      <td>-0.562324</td>\n",
              "      <td>2.445889</td>\n",
              "      <td>0.824443</td>\n",
              "      <td>0.533154</td>\n",
              "      <td>0.189844</td>\n",
              "      <td>-0.123211</td>\n",
              "      <td>0.909536</td>\n",
              "      <td>-0.379757</td>\n",
              "      <td>-0.268367</td>\n",
              "      <td>0.006733</td>\n",
              "      <td>-0.064874</td>\n",
              "    </tr>\n",
              "    <tr>\n",
              "      <th>1747</th>\n",
              "      <td>1747</td>\n",
              "      <td>1.814297</td>\n",
              "      <td>-0.569719</td>\n",
              "      <td>2.449655</td>\n",
              "      <td>0.817212</td>\n",
              "      <td>0.539396</td>\n",
              "      <td>0.203020</td>\n",
              "      <td>-0.057641</td>\n",
              "      <td>0.723118</td>\n",
              "      <td>-0.437812</td>\n",
              "      <td>-0.102444</td>\n",
              "      <td>-0.060666</td>\n",
              "      <td>-0.229738</td>\n",
              "    </tr>\n",
              "    <tr>\n",
              "      <th>1748</th>\n",
              "      <td>1748</td>\n",
              "      <td>1.830821</td>\n",
              "      <td>-0.578367</td>\n",
              "      <td>2.447967</td>\n",
              "      <td>0.809207</td>\n",
              "      <td>0.546658</td>\n",
              "      <td>0.215288</td>\n",
              "      <td>0.343238</td>\n",
              "      <td>0.997236</td>\n",
              "      <td>-0.338155</td>\n",
              "      <td>-0.085590</td>\n",
              "      <td>-0.030209</td>\n",
              "      <td>-0.087740</td>\n",
              "    </tr>\n",
              "    <tr>\n",
              "      <th>1749</th>\n",
              "      <td>1749</td>\n",
              "      <td>1.849557</td>\n",
              "      <td>-0.586962</td>\n",
              "      <td>2.439458</td>\n",
              "      <td>0.800485</td>\n",
              "      <td>0.553834</td>\n",
              "      <td>0.229110</td>\n",
              "      <td>0.470144</td>\n",
              "      <td>1.227937</td>\n",
              "      <td>-0.332223</td>\n",
              "      <td>-0.048105</td>\n",
              "      <td>0.029555</td>\n",
              "      <td>0.060441</td>\n",
              "    </tr>\n",
              "    <tr>\n",
              "      <th>1750</th>\n",
              "      <td>1750</td>\n",
              "      <td>1.869375</td>\n",
              "      <td>-0.596783</td>\n",
              "      <td>2.433775</td>\n",
              "      <td>0.790551</td>\n",
              "      <td>0.561984</td>\n",
              "      <td>0.243315</td>\n",
              "      <td>0.291873</td>\n",
              "      <td>1.102207</td>\n",
              "      <td>-0.436925</td>\n",
              "      <td>-0.065011</td>\n",
              "      <td>-0.042575</td>\n",
              "      <td>0.046052</td>\n",
              "    </tr>\n",
              "  </tbody>\n",
              "</table>\n",
              "<p>1751 rows × 13 columns</p>\n",
              "</div>"
            ],
            "text/plain": [
              "      Unnamed: 0  attitude.roll  attitude.pitch  attitude.yaw  gravity.x  \\\n",
              "0              0       1.528132       -0.733896      0.696372   0.741895   \n",
              "1              1       1.527992       -0.716987      0.677762   0.753099   \n",
              "2              2       1.527765       -0.706999      0.670951   0.759611   \n",
              "3              3       1.516768       -0.704678      0.675735   0.760709   \n",
              "4              4       1.493941       -0.703918      0.672994   0.760062   \n",
              "...          ...            ...             ...           ...        ...   \n",
              "1746        1746       1.797120       -0.562324      2.445889   0.824443   \n",
              "1747        1747       1.814297       -0.569719      2.449655   0.817212   \n",
              "1748        1748       1.830821       -0.578367      2.447967   0.809207   \n",
              "1749        1749       1.849557       -0.586962      2.439458   0.800485   \n",
              "1750        1750       1.869375       -0.596783      2.433775   0.790551   \n",
              "\n",
              "      gravity.y  gravity.z  rotationRate.x  rotationRate.y  rotationRate.z  \\\n",
              "0      0.669768  -0.031672        0.316738        0.778180        1.082764   \n",
              "1      0.657116  -0.032255        0.842032        0.424446        0.643574   \n",
              "2      0.649555  -0.032707       -0.138143       -0.040741        0.343563   \n",
              "3      0.647788  -0.041140       -0.025005       -1.048717        0.035860   \n",
              "4      0.647210  -0.058530        0.114253       -0.912890        0.047341   \n",
              "...         ...        ...             ...             ...             ...   \n",
              "1746   0.533154   0.189844       -0.123211        0.909536       -0.379757   \n",
              "1747   0.539396   0.203020       -0.057641        0.723118       -0.437812   \n",
              "1748   0.546658   0.215288        0.343238        0.997236       -0.338155   \n",
              "1749   0.553834   0.229110        0.470144        1.227937       -0.332223   \n",
              "1750   0.561984   0.243315        0.291873        1.102207       -0.436925   \n",
              "\n",
              "      userAcceleration.x  userAcceleration.y  userAcceleration.z  \n",
              "0               0.294894           -0.184493            0.377542  \n",
              "1               0.219405            0.035846            0.114866  \n",
              "2               0.010714            0.134701           -0.167808  \n",
              "3              -0.008389            0.136788            0.094958  \n",
              "4               0.199441            0.353996           -0.044299  \n",
              "...                  ...                 ...                 ...  \n",
              "1746           -0.268367            0.006733           -0.064874  \n",
              "1747           -0.102444           -0.060666           -0.229738  \n",
              "1748           -0.085590           -0.030209           -0.087740  \n",
              "1749           -0.048105            0.029555            0.060441  \n",
              "1750           -0.065011           -0.042575            0.046052  \n",
              "\n",
              "[1751 rows x 13 columns]"
            ]
          },
          "execution_count": 3,
          "metadata": {},
          "output_type": "execute_result"
        }
      ],
      "source": [
        "# Read data\n",
        "\n",
        "df = pd.read_csv('sub_1.csv')\n",
        "df"
      ]
    },
    {
      "cell_type": "markdown",
      "metadata": {
        "id": "MoDk2PnzOcme"
      },
      "source": [
        "Examine the data using the `head` function."
      ]
    },
    {
      "cell_type": "code",
      "execution_count": 4,
      "metadata": {
        "id": "DxGQg1QxOcme"
      },
      "outputs": [
        {
          "data": {
            "text/html": [
              "<div>\n",
              "<style scoped>\n",
              "    .dataframe tbody tr th:only-of-type {\n",
              "        vertical-align: middle;\n",
              "    }\n",
              "\n",
              "    .dataframe tbody tr th {\n",
              "        vertical-align: top;\n",
              "    }\n",
              "\n",
              "    .dataframe thead th {\n",
              "        text-align: right;\n",
              "    }\n",
              "</style>\n",
              "<table border=\"1\" class=\"dataframe\">\n",
              "  <thead>\n",
              "    <tr style=\"text-align: right;\">\n",
              "      <th></th>\n",
              "      <th>Unnamed: 0</th>\n",
              "      <th>attitude.roll</th>\n",
              "      <th>attitude.pitch</th>\n",
              "      <th>attitude.yaw</th>\n",
              "      <th>gravity.x</th>\n",
              "      <th>gravity.y</th>\n",
              "      <th>gravity.z</th>\n",
              "      <th>rotationRate.x</th>\n",
              "      <th>rotationRate.y</th>\n",
              "      <th>rotationRate.z</th>\n",
              "      <th>userAcceleration.x</th>\n",
              "      <th>userAcceleration.y</th>\n",
              "      <th>userAcceleration.z</th>\n",
              "    </tr>\n",
              "  </thead>\n",
              "  <tbody>\n",
              "    <tr>\n",
              "      <th>0</th>\n",
              "      <td>0</td>\n",
              "      <td>1.528132</td>\n",
              "      <td>-0.733896</td>\n",
              "      <td>0.696372</td>\n",
              "      <td>0.741895</td>\n",
              "      <td>0.669768</td>\n",
              "      <td>-0.031672</td>\n",
              "      <td>0.316738</td>\n",
              "      <td>0.778180</td>\n",
              "      <td>1.082764</td>\n",
              "      <td>0.294894</td>\n",
              "      <td>-0.184493</td>\n",
              "      <td>0.377542</td>\n",
              "    </tr>\n",
              "    <tr>\n",
              "      <th>1</th>\n",
              "      <td>1</td>\n",
              "      <td>1.527992</td>\n",
              "      <td>-0.716987</td>\n",
              "      <td>0.677762</td>\n",
              "      <td>0.753099</td>\n",
              "      <td>0.657116</td>\n",
              "      <td>-0.032255</td>\n",
              "      <td>0.842032</td>\n",
              "      <td>0.424446</td>\n",
              "      <td>0.643574</td>\n",
              "      <td>0.219405</td>\n",
              "      <td>0.035846</td>\n",
              "      <td>0.114866</td>\n",
              "    </tr>\n",
              "    <tr>\n",
              "      <th>2</th>\n",
              "      <td>2</td>\n",
              "      <td>1.527765</td>\n",
              "      <td>-0.706999</td>\n",
              "      <td>0.670951</td>\n",
              "      <td>0.759611</td>\n",
              "      <td>0.649555</td>\n",
              "      <td>-0.032707</td>\n",
              "      <td>-0.138143</td>\n",
              "      <td>-0.040741</td>\n",
              "      <td>0.343563</td>\n",
              "      <td>0.010714</td>\n",
              "      <td>0.134701</td>\n",
              "      <td>-0.167808</td>\n",
              "    </tr>\n",
              "    <tr>\n",
              "      <th>3</th>\n",
              "      <td>3</td>\n",
              "      <td>1.516768</td>\n",
              "      <td>-0.704678</td>\n",
              "      <td>0.675735</td>\n",
              "      <td>0.760709</td>\n",
              "      <td>0.647788</td>\n",
              "      <td>-0.041140</td>\n",
              "      <td>-0.025005</td>\n",
              "      <td>-1.048717</td>\n",
              "      <td>0.035860</td>\n",
              "      <td>-0.008389</td>\n",
              "      <td>0.136788</td>\n",
              "      <td>0.094958</td>\n",
              "    </tr>\n",
              "    <tr>\n",
              "      <th>4</th>\n",
              "      <td>4</td>\n",
              "      <td>1.493941</td>\n",
              "      <td>-0.703918</td>\n",
              "      <td>0.672994</td>\n",
              "      <td>0.760062</td>\n",
              "      <td>0.647210</td>\n",
              "      <td>-0.058530</td>\n",
              "      <td>0.114253</td>\n",
              "      <td>-0.912890</td>\n",
              "      <td>0.047341</td>\n",
              "      <td>0.199441</td>\n",
              "      <td>0.353996</td>\n",
              "      <td>-0.044299</td>\n",
              "    </tr>\n",
              "  </tbody>\n",
              "</table>\n",
              "</div>"
            ],
            "text/plain": [
              "   Unnamed: 0  attitude.roll  attitude.pitch  attitude.yaw  gravity.x  \\\n",
              "0           0       1.528132       -0.733896      0.696372   0.741895   \n",
              "1           1       1.527992       -0.716987      0.677762   0.753099   \n",
              "2           2       1.527765       -0.706999      0.670951   0.759611   \n",
              "3           3       1.516768       -0.704678      0.675735   0.760709   \n",
              "4           4       1.493941       -0.703918      0.672994   0.760062   \n",
              "\n",
              "   gravity.y  gravity.z  rotationRate.x  rotationRate.y  rotationRate.z  \\\n",
              "0   0.669768  -0.031672        0.316738        0.778180        1.082764   \n",
              "1   0.657116  -0.032255        0.842032        0.424446        0.643574   \n",
              "2   0.649555  -0.032707       -0.138143       -0.040741        0.343563   \n",
              "3   0.647788  -0.041140       -0.025005       -1.048717        0.035860   \n",
              "4   0.647210  -0.058530        0.114253       -0.912890        0.047341   \n",
              "\n",
              "   userAcceleration.x  userAcceleration.y  userAcceleration.z  \n",
              "0            0.294894           -0.184493            0.377542  \n",
              "1            0.219405            0.035846            0.114866  \n",
              "2            0.010714            0.134701           -0.167808  \n",
              "3           -0.008389            0.136788            0.094958  \n",
              "4            0.199441            0.353996           -0.044299  "
            ]
          },
          "execution_count": 4,
          "metadata": {},
          "output_type": "execute_result"
        }
      ],
      "source": [
        "df.head()"
      ]
    },
    {
      "cell_type": "markdown",
      "metadata": {
        "id": "9x5jqnS7Ocmf"
      },
      "source": [
        "Check whether there is any missing data. If there is any missing data, remove the rows containing missing data."
      ]
    },
    {
      "cell_type": "code",
      "execution_count": 5,
      "metadata": {
        "id": "ynrxJktDOcmg"
      },
      "outputs": [
        {
          "data": {
            "text/plain": [
              "Unnamed: 0            0\n",
              "attitude.roll         0\n",
              "attitude.pitch        0\n",
              "attitude.yaw          0\n",
              "gravity.x             0\n",
              "gravity.y             0\n",
              "gravity.z             0\n",
              "rotationRate.x        0\n",
              "rotationRate.y        0\n",
              "rotationRate.z        0\n",
              "userAcceleration.x    0\n",
              "userAcceleration.y    0\n",
              "userAcceleration.z    0\n",
              "dtype: int64"
            ]
          },
          "execution_count": 5,
          "metadata": {},
          "output_type": "execute_result"
        }
      ],
      "source": [
        "df.isna().sum()"
      ]
    },
    {
      "cell_type": "markdown",
      "metadata": {
        "id": "Hcw1CmEPOcmg"
      },
      "source": [
        "How many rows and columns are in our data?"
      ]
    },
    {
      "cell_type": "code",
      "execution_count": 6,
      "metadata": {
        "colab": {
          "base_uri": "https://localhost:8080/",
          "height": 165
        },
        "id": "Guv1zpaqOcmh",
        "outputId": "45613050-226f-4afa-bacc-398e1c01631f"
      },
      "outputs": [
        {
          "data": {
            "text/plain": [
              "(1751, 13)"
            ]
          },
          "execution_count": 6,
          "metadata": {},
          "output_type": "execute_result"
        }
      ],
      "source": [
        "df.shape"
      ]
    },
    {
      "cell_type": "markdown",
      "metadata": {
        "id": "bdhV4iWIOcmh"
      },
      "source": [
        "To perform time series analysis on the data, we must change the index from a range index to a time series index. In the cell below, create a time series index using the `pd.date_range` function. Create a time series index starting at 1/1/2018 00:00:00 and ending at 1/1/2018 00:29:10. The number of periods is equal to the number of rows in `sensor`. The frequency should be set to `infer`."
      ]
    },
    {
      "cell_type": "code",
      "execution_count": 7,
      "metadata": {
        "id": "uoPnJG0POcmi"
      },
      "outputs": [
        {
          "data": {
            "text/html": [
              "<div>\n",
              "<style scoped>\n",
              "    .dataframe tbody tr th:only-of-type {\n",
              "        vertical-align: middle;\n",
              "    }\n",
              "\n",
              "    .dataframe tbody tr th {\n",
              "        vertical-align: top;\n",
              "    }\n",
              "\n",
              "    .dataframe thead th {\n",
              "        text-align: right;\n",
              "    }\n",
              "</style>\n",
              "<table border=\"1\" class=\"dataframe\">\n",
              "  <thead>\n",
              "    <tr style=\"text-align: right;\">\n",
              "      <th></th>\n",
              "      <th>Unnamed: 0</th>\n",
              "      <th>attitude.roll</th>\n",
              "      <th>attitude.pitch</th>\n",
              "      <th>attitude.yaw</th>\n",
              "      <th>gravity.x</th>\n",
              "      <th>gravity.y</th>\n",
              "      <th>gravity.z</th>\n",
              "      <th>rotationRate.x</th>\n",
              "      <th>rotationRate.y</th>\n",
              "      <th>rotationRate.z</th>\n",
              "      <th>userAcceleration.x</th>\n",
              "      <th>userAcceleration.y</th>\n",
              "      <th>userAcceleration.z</th>\n",
              "    </tr>\n",
              "  </thead>\n",
              "  <tbody>\n",
              "    <tr>\n",
              "      <th>2018-01-01 00:00:00</th>\n",
              "      <td>0</td>\n",
              "      <td>1.528132</td>\n",
              "      <td>-0.733896</td>\n",
              "      <td>0.696372</td>\n",
              "      <td>0.741895</td>\n",
              "      <td>0.669768</td>\n",
              "      <td>-0.031672</td>\n",
              "      <td>0.316738</td>\n",
              "      <td>0.778180</td>\n",
              "      <td>1.082764</td>\n",
              "      <td>0.294894</td>\n",
              "      <td>-0.184493</td>\n",
              "      <td>0.377542</td>\n",
              "    </tr>\n",
              "    <tr>\n",
              "      <th>2018-01-01 00:00:01</th>\n",
              "      <td>1</td>\n",
              "      <td>1.527992</td>\n",
              "      <td>-0.716987</td>\n",
              "      <td>0.677762</td>\n",
              "      <td>0.753099</td>\n",
              "      <td>0.657116</td>\n",
              "      <td>-0.032255</td>\n",
              "      <td>0.842032</td>\n",
              "      <td>0.424446</td>\n",
              "      <td>0.643574</td>\n",
              "      <td>0.219405</td>\n",
              "      <td>0.035846</td>\n",
              "      <td>0.114866</td>\n",
              "    </tr>\n",
              "    <tr>\n",
              "      <th>2018-01-01 00:00:02</th>\n",
              "      <td>2</td>\n",
              "      <td>1.527765</td>\n",
              "      <td>-0.706999</td>\n",
              "      <td>0.670951</td>\n",
              "      <td>0.759611</td>\n",
              "      <td>0.649555</td>\n",
              "      <td>-0.032707</td>\n",
              "      <td>-0.138143</td>\n",
              "      <td>-0.040741</td>\n",
              "      <td>0.343563</td>\n",
              "      <td>0.010714</td>\n",
              "      <td>0.134701</td>\n",
              "      <td>-0.167808</td>\n",
              "    </tr>\n",
              "    <tr>\n",
              "      <th>2018-01-01 00:00:03</th>\n",
              "      <td>3</td>\n",
              "      <td>1.516768</td>\n",
              "      <td>-0.704678</td>\n",
              "      <td>0.675735</td>\n",
              "      <td>0.760709</td>\n",
              "      <td>0.647788</td>\n",
              "      <td>-0.041140</td>\n",
              "      <td>-0.025005</td>\n",
              "      <td>-1.048717</td>\n",
              "      <td>0.035860</td>\n",
              "      <td>-0.008389</td>\n",
              "      <td>0.136788</td>\n",
              "      <td>0.094958</td>\n",
              "    </tr>\n",
              "    <tr>\n",
              "      <th>2018-01-01 00:00:04</th>\n",
              "      <td>4</td>\n",
              "      <td>1.493941</td>\n",
              "      <td>-0.703918</td>\n",
              "      <td>0.672994</td>\n",
              "      <td>0.760062</td>\n",
              "      <td>0.647210</td>\n",
              "      <td>-0.058530</td>\n",
              "      <td>0.114253</td>\n",
              "      <td>-0.912890</td>\n",
              "      <td>0.047341</td>\n",
              "      <td>0.199441</td>\n",
              "      <td>0.353996</td>\n",
              "      <td>-0.044299</td>\n",
              "    </tr>\n",
              "    <tr>\n",
              "      <th>...</th>\n",
              "      <td>...</td>\n",
              "      <td>...</td>\n",
              "      <td>...</td>\n",
              "      <td>...</td>\n",
              "      <td>...</td>\n",
              "      <td>...</td>\n",
              "      <td>...</td>\n",
              "      <td>...</td>\n",
              "      <td>...</td>\n",
              "      <td>...</td>\n",
              "      <td>...</td>\n",
              "      <td>...</td>\n",
              "      <td>...</td>\n",
              "    </tr>\n",
              "    <tr>\n",
              "      <th>2018-01-01 00:29:06</th>\n",
              "      <td>1746</td>\n",
              "      <td>1.797120</td>\n",
              "      <td>-0.562324</td>\n",
              "      <td>2.445889</td>\n",
              "      <td>0.824443</td>\n",
              "      <td>0.533154</td>\n",
              "      <td>0.189844</td>\n",
              "      <td>-0.123211</td>\n",
              "      <td>0.909536</td>\n",
              "      <td>-0.379757</td>\n",
              "      <td>-0.268367</td>\n",
              "      <td>0.006733</td>\n",
              "      <td>-0.064874</td>\n",
              "    </tr>\n",
              "    <tr>\n",
              "      <th>2018-01-01 00:29:07</th>\n",
              "      <td>1747</td>\n",
              "      <td>1.814297</td>\n",
              "      <td>-0.569719</td>\n",
              "      <td>2.449655</td>\n",
              "      <td>0.817212</td>\n",
              "      <td>0.539396</td>\n",
              "      <td>0.203020</td>\n",
              "      <td>-0.057641</td>\n",
              "      <td>0.723118</td>\n",
              "      <td>-0.437812</td>\n",
              "      <td>-0.102444</td>\n",
              "      <td>-0.060666</td>\n",
              "      <td>-0.229738</td>\n",
              "    </tr>\n",
              "    <tr>\n",
              "      <th>2018-01-01 00:29:08</th>\n",
              "      <td>1748</td>\n",
              "      <td>1.830821</td>\n",
              "      <td>-0.578367</td>\n",
              "      <td>2.447967</td>\n",
              "      <td>0.809207</td>\n",
              "      <td>0.546658</td>\n",
              "      <td>0.215288</td>\n",
              "      <td>0.343238</td>\n",
              "      <td>0.997236</td>\n",
              "      <td>-0.338155</td>\n",
              "      <td>-0.085590</td>\n",
              "      <td>-0.030209</td>\n",
              "      <td>-0.087740</td>\n",
              "    </tr>\n",
              "    <tr>\n",
              "      <th>2018-01-01 00:29:09</th>\n",
              "      <td>1749</td>\n",
              "      <td>1.849557</td>\n",
              "      <td>-0.586962</td>\n",
              "      <td>2.439458</td>\n",
              "      <td>0.800485</td>\n",
              "      <td>0.553834</td>\n",
              "      <td>0.229110</td>\n",
              "      <td>0.470144</td>\n",
              "      <td>1.227937</td>\n",
              "      <td>-0.332223</td>\n",
              "      <td>-0.048105</td>\n",
              "      <td>0.029555</td>\n",
              "      <td>0.060441</td>\n",
              "    </tr>\n",
              "    <tr>\n",
              "      <th>2018-01-01 00:29:10</th>\n",
              "      <td>1750</td>\n",
              "      <td>1.869375</td>\n",
              "      <td>-0.596783</td>\n",
              "      <td>2.433775</td>\n",
              "      <td>0.790551</td>\n",
              "      <td>0.561984</td>\n",
              "      <td>0.243315</td>\n",
              "      <td>0.291873</td>\n",
              "      <td>1.102207</td>\n",
              "      <td>-0.436925</td>\n",
              "      <td>-0.065011</td>\n",
              "      <td>-0.042575</td>\n",
              "      <td>0.046052</td>\n",
              "    </tr>\n",
              "  </tbody>\n",
              "</table>\n",
              "<p>1751 rows × 13 columns</p>\n",
              "</div>"
            ],
            "text/plain": [
              "                     Unnamed: 0  attitude.roll  attitude.pitch  attitude.yaw  \\\n",
              "2018-01-01 00:00:00           0       1.528132       -0.733896      0.696372   \n",
              "2018-01-01 00:00:01           1       1.527992       -0.716987      0.677762   \n",
              "2018-01-01 00:00:02           2       1.527765       -0.706999      0.670951   \n",
              "2018-01-01 00:00:03           3       1.516768       -0.704678      0.675735   \n",
              "2018-01-01 00:00:04           4       1.493941       -0.703918      0.672994   \n",
              "...                         ...            ...             ...           ...   \n",
              "2018-01-01 00:29:06        1746       1.797120       -0.562324      2.445889   \n",
              "2018-01-01 00:29:07        1747       1.814297       -0.569719      2.449655   \n",
              "2018-01-01 00:29:08        1748       1.830821       -0.578367      2.447967   \n",
              "2018-01-01 00:29:09        1749       1.849557       -0.586962      2.439458   \n",
              "2018-01-01 00:29:10        1750       1.869375       -0.596783      2.433775   \n",
              "\n",
              "                     gravity.x  gravity.y  gravity.z  rotationRate.x  \\\n",
              "2018-01-01 00:00:00   0.741895   0.669768  -0.031672        0.316738   \n",
              "2018-01-01 00:00:01   0.753099   0.657116  -0.032255        0.842032   \n",
              "2018-01-01 00:00:02   0.759611   0.649555  -0.032707       -0.138143   \n",
              "2018-01-01 00:00:03   0.760709   0.647788  -0.041140       -0.025005   \n",
              "2018-01-01 00:00:04   0.760062   0.647210  -0.058530        0.114253   \n",
              "...                        ...        ...        ...             ...   \n",
              "2018-01-01 00:29:06   0.824443   0.533154   0.189844       -0.123211   \n",
              "2018-01-01 00:29:07   0.817212   0.539396   0.203020       -0.057641   \n",
              "2018-01-01 00:29:08   0.809207   0.546658   0.215288        0.343238   \n",
              "2018-01-01 00:29:09   0.800485   0.553834   0.229110        0.470144   \n",
              "2018-01-01 00:29:10   0.790551   0.561984   0.243315        0.291873   \n",
              "\n",
              "                     rotationRate.y  rotationRate.z  userAcceleration.x  \\\n",
              "2018-01-01 00:00:00        0.778180        1.082764            0.294894   \n",
              "2018-01-01 00:00:01        0.424446        0.643574            0.219405   \n",
              "2018-01-01 00:00:02       -0.040741        0.343563            0.010714   \n",
              "2018-01-01 00:00:03       -1.048717        0.035860           -0.008389   \n",
              "2018-01-01 00:00:04       -0.912890        0.047341            0.199441   \n",
              "...                             ...             ...                 ...   \n",
              "2018-01-01 00:29:06        0.909536       -0.379757           -0.268367   \n",
              "2018-01-01 00:29:07        0.723118       -0.437812           -0.102444   \n",
              "2018-01-01 00:29:08        0.997236       -0.338155           -0.085590   \n",
              "2018-01-01 00:29:09        1.227937       -0.332223           -0.048105   \n",
              "2018-01-01 00:29:10        1.102207       -0.436925           -0.065011   \n",
              "\n",
              "                     userAcceleration.y  userAcceleration.z  \n",
              "2018-01-01 00:00:00           -0.184493            0.377542  \n",
              "2018-01-01 00:00:01            0.035846            0.114866  \n",
              "2018-01-01 00:00:02            0.134701           -0.167808  \n",
              "2018-01-01 00:00:03            0.136788            0.094958  \n",
              "2018-01-01 00:00:04            0.353996           -0.044299  \n",
              "...                                 ...                 ...  \n",
              "2018-01-01 00:29:06            0.006733           -0.064874  \n",
              "2018-01-01 00:29:07           -0.060666           -0.229738  \n",
              "2018-01-01 00:29:08           -0.030209           -0.087740  \n",
              "2018-01-01 00:29:09            0.029555            0.060441  \n",
              "2018-01-01 00:29:10           -0.042575            0.046052  \n",
              "\n",
              "[1751 rows x 13 columns]"
            ]
          },
          "execution_count": 7,
          "metadata": {},
          "output_type": "execute_result"
        }
      ],
      "source": [
        "\n",
        "date_index= pd.date_range('01/01/2018 00:00:00',  periods=len(df.index),freq='S')\n",
        "df.index = date_index\n",
        "df"
      ]
    },
    {
      "cell_type": "markdown",
      "metadata": {
        "id": "7bYdwaxLOcmi"
      },
      "source": [
        "Assign the time series index to the dataframe's index."
      ]
    },
    {
      "cell_type": "code",
      "execution_count": null,
      "metadata": {
        "id": "qv0IlJdiOcmi"
      },
      "outputs": [],
      "source": []
    },
    {
      "cell_type": "markdown",
      "metadata": {
        "id": "aJHrVycrOcmj"
      },
      "source": [
        "Our next step is to decompose the time series and evaluate the patterns in the data. Load the `statsmodels.api` submodule and plot the decomposed plot of `userAcceleration.x`. Set `freq=60` in the `seasonal_decompose` function. Your graph should look like the one below.\n",
        "\n",
        "![time series decomposition](./images/tsa_decompose.png)"
      ]
    },
    {
      "cell_type": "code",
      "execution_count": 8,
      "metadata": {
        "id": "itcD746pOcmj"
      },
      "outputs": [
        {
          "data": {
            "image/png": "[encoded data removed]",
            "text/plain": [
              "<Figure size 432x288 with 4 Axes>"
            ]
          },
          "metadata": {
            "needs_background": "light"
          },
          "output_type": "display_data"
        }
      ],
      "source": [
        "import statsmodels.api as sm\n",
        "\n",
        "from statsmodels.tsa.seasonal import seasonal_decompose\n",
        "from dateutil.parser import parse\n",
        "\n",
        "\n",
        "# Additive Decomposition\n",
        "result_add = seasonal_decompose(df['userAcceleration.x'], model='additive', period= 60)\n",
        "\n",
        "fig = result_add.plot().suptitle('Additive Decompose', fontsize=22)\n",
        "plt.show(fig)\n"
      ]
    },
    {
      "cell_type": "markdown",
      "metadata": {
        "id": "A7GmDbLUOcmj"
      },
      "source": [
        "Plot the decomposed time series of `rotationRate.x` also with a frequency of 60."
      ]
    },
    {
      "cell_type": "code",
      "execution_count": 9,
      "metadata": {
        "id": "y7w0oDCnOcmk"
      },
      "outputs": [
        {
          "data": {
            "image/png": "[encoded data removed]",
            "text/plain": [
              "<Figure size 432x288 with 4 Axes>"
            ]
          },
          "metadata": {
            "needs_background": "light"
          },
          "output_type": "display_data"
        }
      ],
      "source": [
        "\n",
        "# Additive Decomposition\n",
        "result_add = seasonal_decompose(df['rotationRate.x'], model='additive', period= 60)\n",
        "\n",
        "fig2 = result_add.plot().suptitle('Additive Decompose', fontsize=22)\n",
        "plt.show(fig2)"
      ]
    },
    {
      "cell_type": "markdown",
      "metadata": {
        "id": "4kMg8s3qOcmk"
      },
      "source": [
        "# Challenge 2 - Modelling the Data\n",
        "\n",
        "To model our data, we should look at a few assumptions. First, let's plot the `lag_plot` to detect any autocorrelation. Do this for `userAcceleration.x`."
      ]
    },
    {
      "cell_type": "code",
      "execution_count": 10,
      "metadata": {
        "id": "jfFL6ZTiOcmk"
      },
      "outputs": [
        {
          "data": {
            "image/png": "[encoded data removed]",
            "text/plain": [
              "<Figure size 432x288 with 1 Axes>"
            ]
          },
          "metadata": {
            "needs_background": "light"
          },
          "output_type": "display_data"
        }
      ],
      "source": [
        "# Draw a lag plot\n",
        "pd.plotting.lag_plot(df['userAcceleration.x'])\n",
        "plt.title(\"Lag plot with lag=1\")\n",
        "plt.show(block=True)"
      ]
    },
    {
      "cell_type": "markdown",
      "metadata": {
        "id": "9rF6c8UaOcmk"
      },
      "source": [
        "Create a lag plot for `rotationRate.x`"
      ]
    },
    {
      "cell_type": "code",
      "execution_count": 11,
      "metadata": {
        "id": "dNJU7RfjOcml"
      },
      "outputs": [
        {
          "data": {
            "image/png": "[encoded data removed]",
            "text/plain": [
              "<Figure size 432x288 with 1 Axes>"
            ]
          },
          "metadata": {
            "needs_background": "light"
          },
          "output_type": "display_data"
        }
      ],
      "source": [
        "# Draw a lag plot\n",
        "pd.plotting.lag_plot(df['rotationRate.x'])\n",
        "plt.title(\"Lag plot with lag=1\")\n",
        "plt.show(block=True)"
      ]
    },
    {
      "cell_type": "markdown",
      "metadata": {
        "id": "jDbRLtIOOcml"
      },
      "source": [
        "What are your conclusions from both visualizations?"
      ]
    },
    {
      "cell_type": "markdown",
      "metadata": {
        "id": "IUVsgisaOcml"
      },
      "source": [
        "```Comments:``` Autocorrelation in time series means that the series is linearly related to a lagged version of itself. For features 'rotationRate.x' and 'userAcceleration.x', the observations at time *t* have a positive linear correlation with the observations at time *t+1*. One of the assumptions of regression analysis is that the data has no autocorrelation. If we try to do a regression analysis on data with autocorrelation, then our analysis will be misleading."
      ]
    },
    {
      "cell_type": "markdown",
      "metadata": {
        "id": "QcEtPMA0Ocml"
      },
      "source": [
        "The next step will be to test both variables for stationarity. Perform the Augmented Dickey Fuller test on both variables below."
      ]
    },
    {
      "cell_type": "code",
      "execution_count": 12,
      "metadata": {
        "id": "xjsp1HNnOcmm"
      },
      "outputs": [
        {
          "name": "stdout",
          "output_type": "stream",
          "text": [
            "ADF Statistic: -17.957994086169762\n",
            "p-value: 2.823439483037483e-30\n",
            "Critical Values:\n",
            "   1%, -3.434100824760071\n",
            "Critical Values:\n",
            "   5%, -2.863196780129223\n",
            "Critical Values:\n",
            "   10%, -2.5676520210882936\n"
          ]
        }
      ],
      "source": [
        "# Ho: userAcceleration.x is not stationary\n",
        "# Ha: userAcceleration.x is stationary\n",
        "\n",
        "\n",
        "from statsmodels.tsa.stattools import adfuller, kpss\n",
        "# ADF Test\n",
        "result = adfuller(df['userAcceleration.x'].values, autolag='AIC')\n",
        "print(f'ADF Statistic: {result[0]}')\n",
        "print(f'p-value: {result[1]}')\n",
        "for key, value in result[4].items():\n",
        "    print('Critical Values:')\n",
        "    print(f'   {key}, {value}')"
      ]
    },
    {
      "cell_type": "code",
      "execution_count": 13,
      "metadata": {
        "id": "aKEI0a3tOcmm"
      },
      "outputs": [
        {
          "name": "stdout",
          "output_type": "stream",
          "text": [
            "ADF Statistic: -5.269860625086411\n",
            "p-value: 6.3202303359124956e-06\n",
            "Critical Values:\n",
            "   1%, -3.4341465551936534\n",
            "Critical Values:\n",
            "   5%, -2.863216966926812\n",
            "Critical Values:\n",
            "   10%, -2.567662770090317\n"
          ]
        }
      ],
      "source": [
        "# Ho: userAcceleration.x is not stationary\n",
        "# Ha: userAcceleration.x is stationary\n",
        "\n",
        "\n",
        "from statsmodels.tsa.stattools import adfuller, kpss\n",
        "# ADF Test\n",
        "result = adfuller(df['rotationRate.x'].values, autolag='AIC')\n",
        "print(f'ADF Statistic: {result[0]}')\n",
        "print(f'p-value: {result[1]}')\n",
        "for key, value in result[4].items():\n",
        "    print('Critical Values:')\n",
        "    print(f'   {key}, {value}')"
      ]
    },
    {
      "cell_type": "markdown",
      "metadata": {
        "id": "yJFmitaVOcmm"
      },
      "source": [
        "What are your conclusions from this test?"
      ]
    },
    {
      "cell_type": "markdown",
      "metadata": {},
      "source": [
        "In both cases here, p-value is significantly lower than 5% which implies we reject H0:\n",
        "\n",
        "In other words, both times series here are stationary.\n"
      ]
    },
    {
      "cell_type": "code",
      "execution_count": 23,
      "metadata": {},
      "outputs": [
        {
          "data": {
            "text/plain": [
              "(1751, 13)"
            ]
          },
          "execution_count": 23,
          "metadata": {},
          "output_type": "execute_result"
        }
      ],
      "source": [
        "df.shape"
      ]
    },
    {
      "cell_type": "markdown",
      "metadata": {
        "id": "IlTfUsKiOcmm"
      },
      "source": [
        "```Comments:``` ARMA models work on the assumption that the time series is stationary. Stationarity means that the statistical properties of a process generating a time series do not change over time. It does not mean that the series does not change over time, just that the way it changes does not itself change over time. In both cases, we can reject the null hypothesis that the time series is not stationary, so we can create an ARMA model."
      ]
    },
    {
      "cell_type": "markdown",
      "metadata": {
        "id": "XlsZGS2yOcmm"
      },
      "source": [
        "Finally, we'll create an ARMA model for `userAcceleration.x`. Load the `ARMA` function from `statsmodels`. The order of the model is (2, 1). Split the data to train and test. Use the last 10 observations as the test set and all other observations as the training set. "
      ]
    },
    {
      "cell_type": "code",
      "execution_count": 27,
      "metadata": {},
      "outputs": [],
      "source": [
        "from statsmodels.graphics.tsaplots import plot_pacf\n",
        "from statsmodels.graphics.tsaplots import plot_acf\n",
        "from statsmodels.tsa.arima_process import ArmaProcess\n",
        "from statsmodels.stats.diagnostic import acorr_ljungbox\n",
        "from statsmodels.tsa.statespace.sarimax import SARIMAX\n",
        "from statsmodels.tsa.stattools import adfuller\n",
        "from statsmodels.tsa.stattools import pacf\n",
        "from statsmodels.tsa.stattools import acf\n",
        "from tqdm import tqdm_notebook\n",
        "import matplotlib.pyplot as plt\n",
        "import numpy as np\n",
        "import pandas as pd\n",
        "import warnings\n",
        "warnings.filterwarnings('ignore')\n",
        "%matplotlib inline"
      ]
    },
    {
      "cell_type": "code",
      "execution_count": 41,
      "metadata": {
        "id": "oYktvxd8Ocmn"
      },
      "outputs": [
        {
          "data": {
            "text/plain": [
              "2018-01-01 00:28:51    0.059688\n",
              "2018-01-01 00:28:52    0.131804\n",
              "2018-01-01 00:28:53   -0.151525\n",
              "2018-01-01 00:28:54   -0.071375\n",
              "2018-01-01 00:28:55   -0.162607\n",
              "2018-01-01 00:28:56   -0.191617\n",
              "2018-01-01 00:28:57   -0.081173\n",
              "2018-01-01 00:28:58    0.033395\n",
              "2018-01-01 00:28:59    0.028120\n",
              "2018-01-01 00:29:00    0.140211\n",
              "Freq: S, Name: userAcceleration.x, dtype: float64"
            ]
          },
          "execution_count": 41,
          "metadata": {},
          "output_type": "execute_result"
        }
      ],
      "source": [
        "from statsmodels.tsa.arima.model import ARIMA\n",
        "# ARMA of order (p,q)\n",
        "# p: order of the autoregressive model (AR).\n",
        "# q: order of the moving average model (MA).\n",
        "\n",
        "train = df['userAcceleration.x'].head(1741)\n",
        "train.tail(10)"
      ]
    },
    {
      "cell_type": "code",
      "execution_count": 25,
      "metadata": {},
      "outputs": [
        {
          "data": {
            "text/plain": [
              "2018-01-01 00:29:01    0.149749\n",
              "2018-01-01 00:29:02    0.038461\n",
              "2018-01-01 00:29:03   -0.169175\n",
              "2018-01-01 00:29:04   -0.300361\n",
              "2018-01-01 00:29:05   -0.270174\n",
              "2018-01-01 00:29:06   -0.268367\n",
              "2018-01-01 00:29:07   -0.102444\n",
              "2018-01-01 00:29:08   -0.085590\n",
              "2018-01-01 00:29:09   -0.048105\n",
              "2018-01-01 00:29:10   -0.065011\n",
              "Freq: S, Name: userAcceleration.x, dtype: float64"
            ]
          },
          "execution_count": 25,
          "metadata": {},
          "output_type": "execute_result"
        }
      ],
      "source": [
        "test = df['userAcceleration.x'].tail(10)\n",
        "test"
      ]
    },
    {
      "cell_type": "code",
      "execution_count": 43,
      "metadata": {
        "id": "FlLykZiqOcmn"
      },
      "outputs": [
        {
          "name": "stdout",
          "output_type": "stream",
          "text": [
            "                               SARIMAX Results                                \n",
            "==============================================================================\n",
            "Dep. Variable:     userAcceleration.x   No. Observations:                 1741\n",
            "Model:                 ARIMA(2, 0, 1)   Log Likelihood                 373.401\n",
            "Date:                Tue, 29 Mar 2022   AIC                           -736.803\n",
            "Time:                        11:40:13   BIC                           -709.492\n",
            "Sample:                    01-01-2018   HQIC                          -726.704\n",
            "                         - 01-01-2018                                         \n",
            "Covariance Type:                  opg                                         \n",
            "==============================================================================\n",
            "                 coef    std err          z      P>|z|      [0.025      0.975]\n",
            "------------------------------------------------------------------------------\n",
            "const          0.0637      0.016      3.994      0.000       0.032       0.095\n",
            "ar.L1          0.9882      0.036     27.630      0.000       0.918       1.058\n",
            "ar.L2         -0.3788      0.033    -11.637      0.000      -0.443      -0.315\n",
            "ma.L1          0.1824      0.039      4.643      0.000       0.105       0.259\n",
            "sigma2         0.0381      0.001     46.070      0.000       0.036       0.040\n",
            "===================================================================================\n",
            "Ljung-Box (L1) (Q):                   0.00   Jarque-Bera (JB):              1776.70\n",
            "Prob(Q):                              0.98   Prob(JB):                         0.00\n",
            "Heteroskedasticity (H):               1.04   Skew:                             0.34\n",
            "Prob(H) (two-sided):                  0.60   Kurtosis:                         7.90\n",
            "===================================================================================\n",
            "\n",
            "Warnings:\n",
            "[1] Covariance matrix calculated using the outer product of gradients (complex-step).\n"
          ]
        }
      ],
      "source": [
        "model = ARIMA(train, order=(2,0,1))\n",
        "result = model.fit()\n",
        "print(result.summary())"
      ]
    },
    {
      "cell_type": "markdown",
      "metadata": {
        "id": "MWLUSyoHOcmn"
      },
      "source": [
        "To compare our predictions with the observed data, we can compute the RMSE (Root Mean Squared Error) from the submodule `statsmodels.tools.eval_measures`. You can read more about this function [here](https://www.statsmodels.org/dev/generated/statsmodels.tools.eval_measures.rmse.html). Compute the RMSE for the last 10 rows of the data by comparing the observed and predicted data for the `userAcceleration.x` column."
      ]
    },
    {
      "cell_type": "code",
      "execution_count": 47,
      "metadata": {},
      "outputs": [],
      "source": [
        "from statsmodels.tools.eval_measures import rmse"
      ]
    },
    {
      "cell_type": "code",
      "execution_count": 57,
      "metadata": {
        "id": "APrGjB8qOcmo"
      },
      "outputs": [
        {
          "data": {
            "text/plain": [
              "2018-01-01 00:29:01    0.173146\n",
              "2018-01-01 00:29:02    0.142889\n",
              "2018-01-01 00:29:03    0.100513\n",
              "2018-01-01 00:29:04    0.070097\n",
              "2018-01-01 00:29:05    0.056091\n",
              "2018-01-01 00:29:06    0.053770\n",
              "2018-01-01 00:29:07    0.056783\n",
              "2018-01-01 00:29:08    0.060638\n",
              "2018-01-01 00:29:09    0.063308\n",
              "2018-01-01 00:29:10    0.064485\n",
              "Freq: S, Name: predicted_mean, dtype: float64"
            ]
          },
          "execution_count": 57,
          "metadata": {},
          "output_type": "execute_result"
        }
      ],
      "source": [
        "prediction = result.predict(test.index[0], end = test.index[-1])\n",
        "prediction\n"
      ]
    },
    {
      "cell_type": "code",
      "execution_count": 58,
      "metadata": {},
      "outputs": [
        {
          "data": {
            "text/plain": [
              "0.22529160449664148"
            ]
          },
          "execution_count": 58,
          "metadata": {},
          "output_type": "execute_result"
        }
      ],
      "source": [
        "compare = rmse(test, prediction)\n",
        "compare"
      ]
    },
    {
      "cell_type": "markdown",
      "metadata": {
        "id": "8KN_nE7eOcmo"
      },
      "source": [
        "```Comments:``` \n",
        "The RMSE is the square root of the variance of the residuals. It indicates the absolute fit of the model to the data, so how close the observed data points are to the model’s predicted values. Whereas R-squared is a relative measure of fit, RMSE is an absolute measure of fit. As the square root of a variance, RMSE can be interpreted as the standard deviation of the unexplained variance, and has the useful property of being in the same units as the response variable. Lower values of RMSE indicate better fit. RMSE is a good measure of how accurately the model predicts the response, and it is the most important criterion for fit if the main purpose of the model is prediction. We can say that the deviation from the true prediction is +/- 0.22."
      ]
    }
  ],
  "metadata": {
    "colab": {
      "name": "main.ipynb",
      "provenance": []
    },
    "interpreter": {
      "hash": "bc74c9efbb84f280ceaeeceeae8f315ec3f368be1dc370363a62f0ad4f42a571"
    },
    "kernelspec": {
      "display_name": "ironhack-3.7",
      "language": "python",
      "name": "python3"
    },
    "language_info": {
      "codemirror_mode": {
        "name": "ipython",
        "version": 3
      },
      "file_extension": ".py",
      "mimetype": "text/x-python",
      "name": "python",
      "nbconvert_exporter": "python",
      "pygments_lexer": "ipython3",
      "version": "3.9.12"
    }
  },
  "nbformat": 4,
  "nbformat_minor": 0
}
